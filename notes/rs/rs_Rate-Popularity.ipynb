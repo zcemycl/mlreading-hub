{
 "cells": [
  {
   "cell_type": "code",
   "execution_count": 1,
   "metadata": {},
   "outputs": [],
   "source": [
    "import pandas as pd\n",
    "import numpy as np\n",
    "import matplotlib.pyplot as plt\n",
    "import math\n",
    "from tqdm import tqdm\n",
    "from datetime import datetime\n",
    "from heapq import heappush,heappop\n",
    "from collections import Counter"
   ]
  },
  {
   "cell_type": "code",
   "execution_count": 2,
   "metadata": {},
   "outputs": [],
   "source": [
    "PATH=\"/home/yui/Documents/data/recommender/ratings_Beauty.csv\""
   ]
  },
  {
   "cell_type": "markdown",
   "metadata": {},
   "source": [
    "#### Amazon - Ratings (Beauty Products)\n",
    "2 Million data points related to Beauty products sold on Amazon.com. It contains.\n",
    "- the unique UserId (Customer Identification),\n",
    "- the product ASIN (Amazon's unique product identification code for each product),\n",
    "- Ratings (ranging from 1-5 based on customer satisfaction) and\n",
    "- the Timestamp of the rating (in UNIX time)\n",
    "\n",
    "https://www.kaggle.com/skillsmuggler/amazon-ratings"
   ]
  },
  {
   "cell_type": "code",
   "execution_count": 3,
   "metadata": {},
   "outputs": [
    {
     "data": {
      "text/html": [
       "<div>\n",
       "<style scoped>\n",
       "    .dataframe tbody tr th:only-of-type {\n",
       "        vertical-align: middle;\n",
       "    }\n",
       "\n",
       "    .dataframe tbody tr th {\n",
       "        vertical-align: top;\n",
       "    }\n",
       "\n",
       "    .dataframe thead th {\n",
       "        text-align: right;\n",
       "    }\n",
       "</style>\n",
       "<table border=\"1\" class=\"dataframe\">\n",
       "  <thead>\n",
       "    <tr style=\"text-align: right;\">\n",
       "      <th></th>\n",
       "      <th>UserId</th>\n",
       "      <th>ProductId</th>\n",
       "      <th>Rating</th>\n",
       "      <th>Timestamp</th>\n",
       "      <th>Date</th>\n",
       "    </tr>\n",
       "  </thead>\n",
       "  <tbody>\n",
       "    <tr>\n",
       "      <th>0</th>\n",
       "      <td>A39HTATAQ9V7YF</td>\n",
       "      <td>0205616461</td>\n",
       "      <td>5.0</td>\n",
       "      <td>1369699200</td>\n",
       "      <td>2013-05-28 00:00:00</td>\n",
       "    </tr>\n",
       "    <tr>\n",
       "      <th>1</th>\n",
       "      <td>A3JM6GV9MNOF9X</td>\n",
       "      <td>0558925278</td>\n",
       "      <td>3.0</td>\n",
       "      <td>1355443200</td>\n",
       "      <td>2012-12-14 00:00:00</td>\n",
       "    </tr>\n",
       "    <tr>\n",
       "      <th>2</th>\n",
       "      <td>A1Z513UWSAAO0F</td>\n",
       "      <td>0558925278</td>\n",
       "      <td>5.0</td>\n",
       "      <td>1404691200</td>\n",
       "      <td>2014-07-07 00:00:00</td>\n",
       "    </tr>\n",
       "    <tr>\n",
       "      <th>3</th>\n",
       "      <td>A1WMRR494NWEWV</td>\n",
       "      <td>0733001998</td>\n",
       "      <td>4.0</td>\n",
       "      <td>1382572800</td>\n",
       "      <td>2013-10-24 00:00:00</td>\n",
       "    </tr>\n",
       "    <tr>\n",
       "      <th>4</th>\n",
       "      <td>A3IAAVS479H7M7</td>\n",
       "      <td>0737104473</td>\n",
       "      <td>1.0</td>\n",
       "      <td>1274227200</td>\n",
       "      <td>2010-05-19 00:00:00</td>\n",
       "    </tr>\n",
       "  </tbody>\n",
       "</table>\n",
       "</div>"
      ],
      "text/plain": [
       "           UserId   ProductId  Rating   Timestamp                 Date\n",
       "0  A39HTATAQ9V7YF  0205616461     5.0  1369699200  2013-05-28 00:00:00\n",
       "1  A3JM6GV9MNOF9X  0558925278     3.0  1355443200  2012-12-14 00:00:00\n",
       "2  A1Z513UWSAAO0F  0558925278     5.0  1404691200  2014-07-07 00:00:00\n",
       "3  A1WMRR494NWEWV  0733001998     4.0  1382572800  2013-10-24 00:00:00\n",
       "4  A3IAAVS479H7M7  0737104473     1.0  1274227200  2010-05-19 00:00:00"
      ]
     },
     "execution_count": 3,
     "metadata": {},
     "output_type": "execute_result"
    }
   ],
   "source": [
    "func = lambda x:datetime.utcfromtimestamp(x).\\\n",
    "        strftime('%Y-%m-%d %H:%M:%S')\n",
    "df=pd.read_csv(PATH)\n",
    "df['Date']=df['Timestamp'].apply(func)\n",
    "df.head(5)"
   ]
  },
  {
   "cell_type": "code",
   "execution_count": 4,
   "metadata": {},
   "outputs": [
    {
     "name": "stdout",
     "output_type": "stream",
     "text": [
      "(2023070, 5)              Rating     Timestamp\n",
      "count  2.023070e+06  2.023070e+06\n",
      "mean   4.149036e+00  1.360389e+09\n",
      "std    1.311505e+00  4.611860e+07\n",
      "min    1.000000e+00  9.087552e+08\n",
      "25%    4.000000e+00  1.350259e+09\n",
      "50%    5.000000e+00  1.372810e+09\n",
      "75%    5.000000e+00  1.391472e+09\n",
      "max    5.000000e+00  1.406074e+09\n"
     ]
    }
   ],
   "source": [
    "print(df.shape,df.describe())"
   ]
  },
  {
   "cell_type": "code",
   "execution_count": 5,
   "metadata": {},
   "outputs": [
    {
     "data": {
      "text/plain": [
       "(1210271,)"
      ]
     },
     "execution_count": 5,
     "metadata": {},
     "output_type": "execute_result"
    }
   ],
   "source": [
    "df['UserId'].unique().shape"
   ]
  },
  {
   "cell_type": "code",
   "execution_count": 6,
   "metadata": {},
   "outputs": [
    {
     "data": {
      "text/plain": [
       "(249274,)"
      ]
     },
     "execution_count": 6,
     "metadata": {},
     "output_type": "execute_result"
    }
   ],
   "source": [
    "df['ProductId'].unique().shape"
   ]
  },
  {
   "cell_type": "code",
   "execution_count": 7,
   "metadata": {},
   "outputs": [
    {
     "data": {
      "text/plain": [
       "(4231,)"
      ]
     },
     "execution_count": 7,
     "metadata": {},
     "output_type": "execute_result"
    }
   ],
   "source": [
    "df['Timestamp'].unique().shape"
   ]
  },
  {
   "cell_type": "markdown",
   "metadata": {},
   "source": [
    "#### Average Ratings\n",
    "$$s = \\frac{1}{N}\\sum^N_{i=1}x_i$$\n",
    "- Very bad estimation\n",
    "- No previous records, then no ratings\n",
    "- Can cause 0/0 error\n",
    "- Rank by most number of ratings and highest average"
   ]
  },
  {
   "cell_type": "code",
   "execution_count": 8,
   "metadata": {},
   "outputs": [
    {
     "name": "stderr",
     "output_type": "stream",
     "text": [
      "100%|██████████| 2023070/2023070 [07:31<00:00, 4475.93it/s]\n"
     ]
    }
   ],
   "source": [
    "def returnSumNProductID(df):\n",
    "    d = dict()\n",
    "    for row in tqdm(range(df.shape[0])):\n",
    "        id_ = df.iloc[row]['ProductId']\n",
    "        total,n,elements = d.get(id_,(0,0,[]))\n",
    "        total+=df.iloc[row]['Rating']\n",
    "        n+=1\n",
    "        elements.append(df.iloc[row]['Rating'])\n",
    "        d[id_]=(total,n,elements)\n",
    "    return d\n",
    "d = returnSumNProductID(df)"
   ]
  },
  {
   "cell_type": "code",
   "execution_count": 9,
   "metadata": {},
   "outputs": [
    {
     "name": "stderr",
     "output_type": "stream",
     "text": [
      "100%|██████████| 249274/249274 [00:00<00:00, 2098498.95it/s]\n"
     ]
    },
    {
     "name": "stdout",
     "output_type": "stream",
     "text": [
      "(5.0, 'B004CNRDBU', 290.0, 58)\n",
      "(5.0, 'B001F0RBRE', 205.0, 41)\n",
      "(5.0, 'B00466VJ04', 190.0, 38)\n",
      "(5.0, 'B004AI5756', 190.0, 38)\n",
      "(5.0, 'B005V247N8', 185.0, 37)\n",
      "(5.0, 'B0006B65PC', 155.0, 31)\n",
      "(5.0, 'B002DMJM52', 150.0, 30)\n",
      "(5.0, 'B00BFWD6GC', 150.0, 30)\n",
      "(5.0, 'B005XRZP32', 145.0, 29)\n",
      "(5.0, 'B00ANJQ8RC', 145.0, 29)\n"
     ]
    }
   ],
   "source": [
    "def avg(d,first=10):\n",
    "    h = []\n",
    "    for key,val in tqdm(d.items()):\n",
    "        h.append((val[0]/val[1],key,val[0],val[1]))\n",
    "    h = sorted(h,key=lambda x: (-x[0],-x[3]))\n",
    "    for i in range(first):\n",
    "        print(h[i])\n",
    "_ = avg(d,first=10)"
   ]
  },
  {
   "cell_type": "markdown",
   "metadata": {},
   "source": [
    "#### Average Ratings with Smoothing\n",
    "$$s = \\frac{1}{N+\\lambda}(\\lambda\\mu_0+\\sum^N_{i=1}x_i)$$\n",
    "If $N=0$, $s=\\mu_0$. We can set $\\mu=3$ for an initial neutral score for each product without ratings. And $\\lambda=1$ to reduce the effect of denominator to the score.\n",
    "\n",
    "- Solve 0/0 problem but cause product with many ratings get lower average."
   ]
  },
  {
   "cell_type": "code",
   "execution_count": 10,
   "metadata": {},
   "outputs": [
    {
     "name": "stderr",
     "output_type": "stream",
     "text": [
      "100%|██████████| 249274/249274 [00:00<00:00, 1533731.46it/s]"
     ]
    },
    {
     "name": "stdout",
     "output_type": "stream",
     "text": [
      "(4.966101694915254, 'B004CNRDBU', 290.0, 58)\n",
      "(4.953488372093023, 'B00K7ER6LU', 423.0, 85)\n",
      "(4.9523809523809526, 'B001F0RBRE', 205.0, 41)\n",
      "(4.948717948717949, 'B00466VJ04', 190.0, 38)\n",
      "(4.948717948717949, 'B004AI5756', 190.0, 38)\n",
      "(4.947368421052632, 'B005V247N8', 185.0, 37)\n",
      "(4.9375, 'B00FPROWWU', 392.0, 79)\n",
      "(4.9375, 'B0006B65PC', 155.0, 31)\n",
      "(4.935483870967742, 'B002DMJM52', 150.0, 30)\n",
      "(4.935483870967742, 'B00BFWD6GC', 150.0, 30)\n"
     ]
    },
    {
     "name": "stderr",
     "output_type": "stream",
     "text": [
      "\n"
     ]
    }
   ],
   "source": [
    "def smooth(d,first=10):\n",
    "    h,lamb,init = [],1,3\n",
    "    for key,val in tqdm(d.items()):\n",
    "        h.append(((val[0]+lamb*init)/(val[1]+lamb),\n",
    "                key,val[0],val[1]))\n",
    "    h = sorted(h,key=lambda x: (-x[0],-x[3]))\n",
    "    for i in range(first):\n",
    "        print(h[i])\n",
    "    return h\n",
    "_ = smooth(d,first=10)"
   ]
  },
  {
   "cell_type": "code",
   "execution_count": 11,
   "metadata": {},
   "outputs": [
    {
     "name": "stderr",
     "output_type": "stream",
     "text": [
      "100%|██████████| 249274/249274 [00:00<00:00, 680096.20it/s]"
     ]
    },
    {
     "name": "stdout",
     "output_type": "stream",
     "text": [
      "(5.0, 'B003BQ6QXK', 8872.0, 1918)\n",
      "(5.0, 'B00121UVU0', 8341.0, 1838)\n",
      "(5.0, 'B006IBM21K', 5412.0, 1163)\n",
      "(5.0, 'B001AO0WCG', 5121.0, 1136)\n",
      "(5.0, 'B003UH0528', 5184.0, 1108)\n",
      "(5.0, 'B000L596FE', 4535.0, 992)\n",
      "(5.0, 'B00639DLV2', 4475.0, 981)\n",
      "(5.0, 'B007Q0WW0S', 4431.0, 945)\n",
      "(5.0, 'B000HRVC5I', 4018.0, 885)\n",
      "(5.0, 'B000OYJ9AO', 3908.0, 865)\n"
     ]
    },
    {
     "name": "stderr",
     "output_type": "stream",
     "text": [
      "\n"
     ]
    }
   ],
   "source": [
    "def roundSmooth(d,first=10):\n",
    "    h,lamb,init = [],1,3\n",
    "    for key,val in tqdm(d.items()):\n",
    "        h.append((\\\n",
    "            round((val[0]+lamb*init)/(val[1]+lamb)),\n",
    "                key,val[0],val[1]))\n",
    "    h = sorted(h,key=lambda x: (-x[0],-x[3]))\n",
    "    for i in range(first):\n",
    "        print(h[i])\n",
    "    return h\n",
    "_ = roundSmooth(d,first=10)"
   ]
  },
  {
   "cell_type": "markdown",
   "metadata": {},
   "source": [
    "#### Wilson Lower bound Score\n",
    "Rather than ranking with number of ratings $N$, another way is confidence interval which can take $N$ into account as well. The less the $N$ is, the less confident the score is, the score should be thus downgraded. The lower bound of confidence interval can reflect this, since the less certain we are, the more the lower bound is towards 0."
   ]
  },
  {
   "cell_type": "markdown",
   "metadata": {},
   "source": [
    "**Bernoulli Confidence Interval Approximation**\n",
    "\n",
    "- Possible outcomes: 0/1\n",
    "- Lower Bound:\n",
    "$$\\bar{X}+\\Phi^{-1}(0.025)\\frac{s}{\\sqrt{N}}=\\hat{p}-1.96\\sqrt{\\frac{\\hat{p}(1-\\hat{p})}{N}}$$\n",
    "where $\\hat{p}=\\frac{1}{N}\\sum_i \\mathbb{I}(x_i=1)$ and $s=\\sqrt{\\frac{1}{N}\\sum^N_{i=1}(x_i-\\bar{x})^2}$.\n",
    "- Wilson Lower Bound:\n",
    "$$\\frac{\\hat{p}+\\frac{z^2}{2N}}{1+\\frac{z^2}{N}}-\\frac{z}{1+\\frac{z^2}{N}}\\sqrt{\\frac{\\hat{p}(1-\\hat{p})}{N}+\\frac{z^2}{4N^2}}$$\n",
    "where $z=\\Phi^{-1}(0.25)$ and $\\Phi$ cdf."
   ]
  },
  {
   "cell_type": "markdown",
   "metadata": {},
   "source": [
    "**K star scale**\n",
    "\n",
    "- Wilson Lower Bound:\n",
    "$$\n",
    "\\sum^K_{k=1}s_k\\frac{n_k+1}{N+K}-z_{\\alpha/2}\\sqrt{\\frac{1}{N+K+1}\\bigg(\\sum^K_{k=1}s_k^2\\frac{n_k+1}{N+K}-\\big(\\sum^K_{k=1}\\frac{n_k+1}{N+K}\\big)^2\\bigg)}\n",
    "$$\n",
    "where $K$ is the maximum of stars, $N$ the number of ratings, $n_k$ number of k stars, $s_k$ star scale.\n",
    "\n",
    "https://www.evanmiller.org/ranking-items-with-star-ratings.html"
   ]
  },
  {
   "cell_type": "code",
   "execution_count": 12,
   "metadata": {},
   "outputs": [
    {
     "data": {
      "text/plain": [
       "Text(0, 0.5, 'p(x)')"
      ]
     },
     "execution_count": 12,
     "metadata": {},
     "output_type": "execute_result"
    },
    {
     "data": {
      "image/png": "[encoded data removed]",
      "text/plain": [
       "<Figure size 432x288 with 1 Axes>"
      ]
     },
     "metadata": {
      "needs_background": "light"
     },
     "output_type": "display_data"
    }
   ],
   "source": [
    "from scipy.stats import norm\n",
    "x = np.linspace(0,5,1000)\n",
    "y0 = norm.pdf(x,2.5,0.5)\n",
    "y1 = norm.pdf(x,2.5,0.2)\n",
    "ax = plt.subplot(1,1,1)\n",
    "plt.plot(x,y0,label='less confident')\n",
    "plt.plot(x,y1,label='more confident')\n",
    "ax.axvline(norm.ppf(0.025,2.5,0.5),\n",
    "        label='lower bound for lower confident')\n",
    "ax.axvline(norm.ppf(0.025,2.5,0.2),\n",
    "        label='lower bound for lower confident')\n",
    "plt.legend()\n",
    "plt.xlabel('x')\n",
    "plt.ylabel('p(x)')"
   ]
  },
  {
   "cell_type": "code",
   "execution_count": 19,
   "metadata": {},
   "outputs": [],
   "source": [
    "def wilsonScore(val,z,K=5):\n",
    "    c = Counter(val[2])\n",
    "    N = val[0]\n",
    "    p1,p2 = 0,0\n",
    "    for k in range(K):\n",
    "        p1 += (k+1)*(c.get(k+1,0)+1)/(N+K)\n",
    "        p2 += (k+1)*(k+1)*(c.get(k+1,0)+1)/(N+K)\n",
    "    s=p1-z*np.sqrt((p2-p1**2)/(N+K+1))\n",
    "    return s"
   ]
  },
  {
   "cell_type": "code",
   "execution_count": 20,
   "metadata": {},
   "outputs": [],
   "source": [
    "def lowerBound(d,first=10,conf=0.95,K=5):\n",
    "    h = []\n",
    "    z = norm.ppf(1-(1-conf)/2)\n",
    "    for key,val in tqdm(d.items()):\n",
    "        s = wilsonScore(val,z,K)\n",
    "        h.append(((s,val[0]/val[1],key,val[0],val[1],val[2])))\n",
    "    h = sorted(h,key=lambda x:(x[0]))\n",
    "    for i in range(first):\n",
    "        print(h[i])\n",
    "    return h"
   ]
  },
  {
   "cell_type": "code",
   "execution_count": 21,
   "metadata": {},
   "outputs": [
    {
     "name": "stderr",
     "output_type": "stream",
     "text": [
      "100%|██████████| 249274/249274 [00:02<00:00, 95128.62it/s] "
     ]
    },
    {
     "name": "stdout",
     "output_type": "stream",
     "text": [
      "(0.6085119807568129, 5.0, '5357955786', 20.0, 4, [5.0, 5.0, 5.0, 5.0])\n",
      "(0.6085119807568129, 5.0, '9790773749', 20.0, 4, [5.0, 5.0, 5.0, 5.0])\n",
      "(0.6085119807568129, 5.0, '9790786964', 20.0, 4, [5.0, 5.0, 5.0, 5.0])\n",
      "(0.6085119807568129, 5.0, '9790787707', 20.0, 4, [5.0, 5.0, 5.0, 5.0])\n",
      "(0.6085119807568129, 5.0, '9790789270', 20.0, 4, [5.0, 5.0, 5.0, 5.0])\n",
      "(0.6085119807568129, 5.0, '9790789513', 20.0, 4, [5.0, 5.0, 5.0, 5.0])\n",
      "(0.6085119807568129, 5.0, '979079858X', 20.0, 4, [5.0, 5.0, 5.0, 5.0])\n",
      "(0.6085119807568129, 5.0, 'B00000IAI4', 20.0, 4, [5.0, 5.0, 5.0, 5.0])\n",
      "(0.6085119807568129, 5.0, 'B000052YGB', 20.0, 4, [5.0, 5.0, 5.0, 5.0])\n",
      "(0.6085119807568129, 5.0, 'B000052YPM', 20.0, 4, [5.0, 5.0, 5.0, 5.0])\n"
     ]
    },
    {
     "name": "stderr",
     "output_type": "stream",
     "text": [
      "\n"
     ]
    }
   ],
   "source": [
    "h = lowerBound(d)"
   ]
  },
  {
   "cell_type": "code",
   "execution_count": 26,
   "metadata": {},
   "outputs": [
    {
     "data": {
      "text/plain": [
       "Text(0, 0.5, 'Score')"
      ]
     },
     "execution_count": 26,
     "metadata": {},
     "output_type": "execute_result"
    },
    {
     "data": {
      "image/png": "[encoded data removed]",
      "text/plain": [
       "<Figure size 432x288 with 1 Axes>"
      ]
     },
     "metadata": {
      "needs_background": "light"
     },
     "output_type": "display_data"
    }
   ],
   "source": [
    "# Varying number of ratings\n",
    "res,val,conf = [],(5,1,[5]),0.95\n",
    "z = norm.ppf(1-(1-conf)/2)\n",
    "for i in range(10):\n",
    "    s = wilsonScore(val,z)\n",
    "    res.append(s)\n",
    "    val = (val[0]+5,val[1]+1,val[2]+[5])\n",
    "plt.plot(range(1,11),res)\n",
    "plt.xlabel('Number of ratings')\n",
    "plt.ylabel('Score')"
   ]
  },
  {
   "cell_type": "code",
   "execution_count": 28,
   "metadata": {},
   "outputs": [
    {
     "data": {
      "text/plain": [
       "Text(0, 0.5, 'Score')"
      ]
     },
     "execution_count": 28,
     "metadata": {},
     "output_type": "execute_result"
    },
    {
     "data": {
      "image/png": "[encoded data removed]",
      "text/plain": [
       "<Figure size 432x288 with 1 Axes>"
      ]
     },
     "metadata": {
      "needs_background": "light"
     },
     "output_type": "display_data"
    }
   ],
   "source": [
    "# Effect of average ratings towards score\n",
    "res,val,conf = [],(1,1,[1]),0.95\n",
    "z = norm.ppf(1-(1-conf)/2)\n",
    "for i in range(5):\n",
    "    s = wilsonScore(val,z)\n",
    "    res.append(s)\n",
    "    val = (val[0]+1,val[1]+1,[val[2][0]+1])\n",
    "plt.plot(range(1,6),res)\n",
    "plt.xlabel('Average ratings')\n",
    "plt.ylabel('Score')"
   ]
  },
  {
   "cell_type": "code",
   "execution_count": null,
   "metadata": {},
   "outputs": [],
   "source": []
  }
 ],
 "metadata": {
  "kernelspec": {
   "display_name": "Python 3",
   "language": "python",
   "name": "python3"
  },
  "language_info": {
   "codemirror_mode": {
    "name": "ipython",
    "version": 3
   },
   "file_extension": ".py",
   "mimetype": "text/x-python",
   "name": "python",
   "nbconvert_exporter": "python",
   "pygments_lexer": "ipython3",
   "version": "3.7.6"
  }
 },
 "nbformat": 4,
 "nbformat_minor": 4
}
