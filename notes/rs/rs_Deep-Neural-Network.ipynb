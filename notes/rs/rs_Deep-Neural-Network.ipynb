{
 "cells": [
  {
   "cell_type": "code",
   "execution_count": 1,
   "metadata": {},
   "outputs": [],
   "source": [
    "import pandas as pd\n",
    "import numpy as np\n",
    "import matplotlib.pyplot as plt\n",
    "import math\n",
    "from tqdm import tqdm\n",
    "from datetime import datetime\n",
    "from heapq import heappush,heappop\n",
    "from collections import Counter,defaultdict\n",
    "import multiprocessing as mp\n",
    "import tensorflow as tf\n",
    "from sklearn.utils import shuffle\n",
    "import time\n",
    "\n",
    "PATH=\"/home/yui/Documents/data/recommender/movieLens20M/rating.csv\"\n",
    "df = pd.read_csv(PATH)\n",
    "\n",
    "def findNMatches(df,targetUser,leastCommon=25,minMoviesWatched=50,noRef=25):\n",
    "    tardf = df[df[\"userId\"]==targetUser]\n",
    "    u2m = defaultdict(dict)\n",
    "    valCountsUserId = df[\"userId\"].value_counts()\n",
    "\n",
    "    for j in range(tardf.shape[0]):\n",
    "        movieId = tardf.iloc[j][\"movieId\"]\n",
    "        u2m[targetUser][movieId] = tardf.iloc[j][\"rating\"]\n",
    "    avg = np.array(list(u2m[targetUser].values())).mean()\n",
    "    u2m[targetUser] = (u2m[targetUser],avg)\n",
    "    tarSet = set(u2m[targetUser][0])\n",
    "    # print(tarSet)\n",
    "    prevId,storeSet,storeDict = 0,set(),dict()\n",
    "    for i in tqdm(range(df.shape[0])):\n",
    "        row = df.iloc[i]\n",
    "        userId = row[\"userId\"]\n",
    "        if valCountsUserId[userId]<minMoviesWatched:\n",
    "            continue\n",
    "        if userId==targetUser:\n",
    "            continue\n",
    "        if userId!=prevId:\n",
    "            if len(tarSet&storeSet)>=leastCommon:\n",
    "                avg = np.array(list(storeDict.values())).mean()\n",
    "                u2m[prevId]=(storeDict,avg)\n",
    "            storeSet,storeDict=set(),dict()\n",
    "        prevId = userId\n",
    "        storeSet.add(row[\"movieId\"])\n",
    "        storeDict[row[\"movieId\"]]=row[\"rating\"]\n",
    "        if len(u2m)>noRef:\n",
    "            break\n",
    "    return u2m\n",
    "\n",
    "class MF:\n",
    "    def __init__(self,u2m,K=100,penalty=0.1):\n",
    "        self.u2m = u2m\n",
    "        self.penalty = penalty\n",
    "        self.K = K\n",
    "        self.allmovies = dict()\n",
    "        self.mean,i=0,0\n",
    "        for candidate in u2m:\n",
    "            for movie in u2m[candidate][0]:\n",
    "                t,c = self.allmovies.get(movie,(0,0))\n",
    "                c+=1\n",
    "                t+=u2m[candidate][0][movie]\n",
    "                self.allmovies[movie]=(t,c)\n",
    "                i+=1\n",
    "                self.mean+=u2m[candidate][0][movie]\n",
    "        self.mean/=i\n",
    "        for movie in self.allmovies:\n",
    "            t,c = self.allmovies[movie]\n",
    "            self.allmovies[movie] = (t/c,c)\n",
    "        self.m2id = {key:i for i,key in enumerate(self.allmovies)}\n",
    "        self.id2m = {i:key for i,key in enumerate(self.allmovies)}\n",
    "        self.u2id = {key:i for i,key in enumerate(u2m)}\n",
    "        self.id2u = {i:key for i,key in enumerate(u2m)}\n",
    "        self.N = len(u2m)\n",
    "        self.M = len(self.allmovies)"
   ]
  },
  {
   "cell_type": "markdown",
   "metadata": {},
   "source": [
    "#### Deep Neural Network\n",
    "In this example, the relationship between user vector $w_i$ and movie vector $u_j$ is not assumed, but is learnt from deep neural network model. \n",
    "\n",
    "$$y = r_{ij}-\\mu = f(w_i,u_j)$$"
   ]
  },
  {
   "cell_type": "code",
   "execution_count": 2,
   "metadata": {},
   "outputs": [],
   "source": [
    "class dnnMF:\n",
    "    def __init__(self,df,targetUser,K=100,\n",
    "                 split=0.85,batch_size=16,hidden=128):\n",
    "        self.u2m = findNMatches(df,targetUser)\n",
    "        self.mf = MF(self.u2m,K=K)\n",
    "        tdf = df[df[\"userId\"].isin(list(self.u2m.keys()))]\n",
    "        self.tdf = shuffle(tdf)\n",
    "        self.split = split\n",
    "        self.batch_size = batch_size\n",
    "        self.hidden = hidden\n",
    "        self.prepareData()\n",
    "        self.getModel()\n",
    "    def getX1X2Y(self,dataset):\n",
    "        w = [self.mf.u2id[i] for i in list(dataset['userId'])]\n",
    "        XW = np.array(w).reshape(-1,1,1)\n",
    "        u = [self.mf.m2id[i] for i in list(dataset['movieId'])]\n",
    "        XU = np.array(u).reshape(-1,1,1)\n",
    "        Y = np.array(dataset['rating'])-self.mf.mean\n",
    "        return XW,XU,Y\n",
    "    def prepareData(self):\n",
    "        trainSet = self.tdf.iloc[:int(self.split*self.tdf.shape[0])]\n",
    "        testSet = self.tdf.iloc[int(self.split*self.tdf.shape[0]):]\n",
    "        trainXW,trainXU,trainY = self.getX1X2Y(trainSet)\n",
    "        testXW,testXU,testY = self.getX1X2Y(testSet)\n",
    "        train_dataset = tf.data.Dataset.from_tensor_slices(\\\n",
    "            (trainXW,trainXU,trainY))\n",
    "        self.train_dataset = train_dataset.shuffle(buffer_size=1024)\\\n",
    "                    .batch(self.batch_size)\n",
    "        val_dataset = tf.data.Dataset.from_tensor_slices(\\\n",
    "            (testXW,testXU,testY))\n",
    "        self.val_dataset = val_dataset.batch(self.batch_size)\n",
    "    def getModel(self):\n",
    "        n1 = tf.keras.Input(shape=(1,))\n",
    "        m1 = tf.keras.Input(shape=(1,))\n",
    "        k1n = tf.keras.layers.Embedding(self.mf.N,self.mf.K)(n1)\n",
    "        k1m = tf.keras.layers.Embedding(self.mf.M,self.mf.K)(m1)\n",
    "        k1n = tf.keras.layers.Flatten()(k1n)\n",
    "        k1m = tf.keras.layers.Flatten()(k1m)\n",
    "        x = tf.keras.layers.Concatenate()([k1n,k1m])\n",
    "        x = tf.keras.layers.Dense(self.hidden)(x)\n",
    "        x = tf.keras.layers.LeakyReLU()(x)\n",
    "        y = tf.keras.layers.Dense(1)(x)\n",
    "        y = tf.reshape(y,[-1])\n",
    "        self.model = tf.keras.Model(inputs=[n1,m1],outputs=[y])"
   ]
  },
  {
   "cell_type": "code",
   "execution_count": 3,
   "metadata": {
    "scrolled": true
   },
   "outputs": [
    {
     "name": "stderr",
     "output_type": "stream",
     "text": [
      "  0%|          | 14903/20000263 [00:01<35:24, 9408.78it/s]\n"
     ]
    }
   ],
   "source": [
    "mf = dnnMF(df,1,batch_size=16,hidden=64)"
   ]
  },
  {
   "cell_type": "code",
   "execution_count": 4,
   "metadata": {},
   "outputs": [
    {
     "name": "stdout",
     "output_type": "stream",
     "text": [
      "Epoch 0 Train loss: 0.9402\n",
      "Epoch 0 Validation loss: 0.8721\n",
      "Epoch 50 Train loss: 0.0239\n",
      "Epoch 50 Validation loss: 1.0932\n",
      "Epoch 100 Train loss: 0.0124\n",
      "Epoch 100 Validation loss: 1.0414\n",
      "Epoch 150 Train loss: 0.0089\n",
      "Epoch 150 Validation loss: 1.0040\n",
      "Epoch 200 Train loss: 0.0068\n",
      "Epoch 200 Validation loss: 0.9985\n",
      "Epoch 250 Train loss: 0.0061\n",
      "Epoch 250 Validation loss: 0.9990\n",
      "Epoch 300 Train loss: 0.0049\n",
      "Epoch 300 Validation loss: 0.9911\n",
      "Epoch 350 Train loss: 0.0053\n",
      "Epoch 350 Validation loss: 0.9998\n",
      "Epoch 400 Train loss: 0.0047\n",
      "Epoch 400 Validation loss: 0.9915\n",
      "Epoch 450 Train loss: 0.0041\n",
      "Epoch 450 Validation loss: 0.9889\n"
     ]
    }
   ],
   "source": [
    "epochs = 500\n",
    "opt = tf.keras.optimizers.Adam(learning_rate=1e-3)\n",
    "printInterval = 50\n",
    "trainLosses = []\n",
    "testLosses = []\n",
    "\n",
    "for epoch in range(epochs):\n",
    "    total_train_loss=0\n",
    "    for i,(x1,x2,y) in enumerate(mf.train_dataset):\n",
    "        with tf.GradientTape() as tape:\n",
    "            pred=mf.model([x1,x2],training=True)\n",
    "            loss = tf.keras.losses.mean_squared_error(y,pred)\n",
    "            total_train_loss+=tf.reduce_sum(loss)\n",
    "        grads = tape.gradient(loss,mf.model.trainable_weights)\n",
    "        opt.apply_gradients(zip(grads,mf.model.trainable_weights))\n",
    "    \n",
    "    if epoch%printInterval==0:\n",
    "        total_val_loss = 0\n",
    "        for j,(x1,x2,y) in enumerate(mf.val_dataset):\n",
    "            pred=mf.model([x1,x2],training=False)\n",
    "            total_val_loss+=tf.reduce_sum(\\\n",
    "                tf.keras.losses.mean_squared_error(y,pred))\n",
    "        print(\"Epoch {} Train loss: {:.4f}\".format(\\\n",
    "                epoch,float(total_train_loss/(i+1))))\n",
    "        print(\"Epoch {} Validation loss: {:.4f}\".format(\\\n",
    "                epoch,float(total_val_loss/(j+1))))\n",
    "        trainLosses.append(total_train_loss/(i+1))\n",
    "        testLosses.append(total_val_loss/(j+1))"
   ]
  },
  {
   "cell_type": "code",
   "execution_count": 5,
   "metadata": {},
   "outputs": [
    {
     "data": {
      "text/plain": [
       "Text(0, 0.5, 'loss')"
      ]
     },
     "execution_count": 5,
     "metadata": {},
     "output_type": "execute_result"
    },
    {
     "data": {
      "image/png": "[encoded data removed]",
      "text/plain": [
       "<Figure size 432x288 with 1 Axes>"
      ]
     },
     "metadata": {
      "needs_background": "light"
     },
     "output_type": "display_data"
    }
   ],
   "source": [
    "plt.plot(range(0,epochs,printInterval),\n",
    "         trainLosses,label='train loss')\n",
    "plt.plot(range(0,epochs,printInterval),\n",
    "         testLosses,label='test loss')\n",
    "plt.legend()\n",
    "plt.xlabel('epochs')\n",
    "plt.ylabel('loss')"
   ]
  },
  {
   "cell_type": "code",
   "execution_count": 8,
   "metadata": {
    "scrolled": false
   },
   "outputs": [
    {
     "name": "stdout",
     "output_type": "stream",
     "text": [
      "Movie 2: 3.5 (truth) 3.5541 (pred)\n",
      "Movie 29: 3.5 (truth) 3.6259 (pred)\n",
      "Movie 32: 3.5 (truth) 3.6764 (pred)\n",
      "Movie 47: 3.5 (truth) 3.5630 (pred)\n",
      "Movie 50: 3.5 (truth) 3.5724 (pred)\n",
      "Movie 112: 3.5 (truth) 3.5284 (pred)\n",
      "Movie 151: 4.0 (truth) 4.0249 (pred)\n",
      "Movie 223: 4.0 (truth) 4.0989 (pred)\n",
      "Movie 253: 4.0 (truth) 4.0590 (pred)\n",
      "Movie 260: 4.0 (truth) 4.1127 (pred)\n",
      "Movie 293: 4.0 (truth) 4.0018 (pred)\n",
      "Movie 296: 4.0 (truth) 4.0287 (pred)\n",
      "Movie 318: 4.0 (truth) 4.0681 (pred)\n",
      "Movie 337: 3.5 (truth) 3.5348 (pred)\n",
      "Movie 367: 3.5 (truth) 3.0560 (pred)\n",
      "Movie 541: 4.0 (truth) 4.0268 (pred)\n",
      "Movie 589: 3.5 (truth) 3.5192 (pred)\n",
      "Movie 593: 3.5 (truth) 4.3469 (pred)\n",
      "Movie 653: 3.0 (truth) 3.0294 (pred)\n",
      "Movie 919: 3.5 (truth) 3.5520 (pred)\n",
      "Movie 924: 3.5 (truth) 3.4549 (pred)\n",
      "Movie 1009: 3.5 (truth) 3.5362 (pred)\n",
      "Movie 1036: 4.0 (truth) 4.0122 (pred)\n",
      "Movie 1079: 4.0 (truth) 4.0777 (pred)\n",
      "Movie 1080: 3.5 (truth) 3.9063 (pred)\n",
      "Movie 1089: 3.5 (truth) 3.5341 (pred)\n",
      "Movie 1090: 4.0 (truth) 4.0238 (pred)\n",
      "Movie 1097: 4.0 (truth) 3.9459 (pred)\n",
      "Movie 1136: 3.5 (truth) 3.5055 (pred)\n",
      "Movie 1193: 3.5 (truth) 3.5611 (pred)\n",
      "Movie 1196: 4.5 (truth) 4.5013 (pred)\n",
      "Movie 1198: 4.5 (truth) 4.5501 (pred)\n",
      "Movie 1200: 4.0 (truth) 4.0783 (pred)\n",
      "Movie 1201: 3.0 (truth) 3.0389 (pred)\n",
      "Movie 1208: 3.5 (truth) 3.5192 (pred)\n",
      "Movie 1214: 4.0 (truth) 3.6634 (pred)\n",
      "Movie 1215: 4.0 (truth) 3.1439 (pred)\n",
      "Movie 1217: 3.5 (truth) 3.5231 (pred)\n",
      "Movie 1219: 4.0 (truth) 4.0187 (pred)\n",
      "Movie 1222: 3.5 (truth) 3.5323 (pred)\n",
      "Movie 1240: 4.0 (truth) 4.0397 (pred)\n",
      "Movie 1243: 3.0 (truth) 3.0315 (pred)\n",
      "Movie 1246: 3.5 (truth) 3.6222 (pred)\n",
      "Movie 1249: 4.0 (truth) 4.0156 (pred)\n",
      "Movie 1258: 4.0 (truth) 4.0393 (pred)\n",
      "Movie 1259: 4.0 (truth) 4.4469 (pred)\n",
      "Movie 1261: 3.5 (truth) 4.2906 (pred)\n",
      "Movie 1262: 3.5 (truth) 3.5257 (pred)\n",
      "Movie 1266: 4.0 (truth) 4.0147 (pred)\n",
      "Movie 1278: 4.0 (truth) 3.7711 (pred)\n",
      "Movie 1291: 3.5 (truth) 3.5509 (pred)\n",
      "Movie 1304: 3.0 (truth) 3.0437 (pred)\n",
      "Movie 1321: 4.0 (truth) 4.0178 (pred)\n",
      "Movie 1333: 4.0 (truth) 3.5762 (pred)\n",
      "Movie 1348: 3.5 (truth) 3.5400 (pred)\n",
      "Movie 1350: 3.5 (truth) 3.5201 (pred)\n",
      "Movie 1358: 4.0 (truth) 3.9724 (pred)\n",
      "Movie 1370: 3.0 (truth) 3.8593 (pred)\n",
      "Movie 1374: 4.0 (truth) 4.0498 (pred)\n",
      "Movie 1387: 4.0 (truth) 4.0136 (pred)\n",
      "Movie 1525: 3.0 (truth) 3.5010 (pred)\n",
      "Movie 1584: 3.5 (truth) 3.5195 (pred)\n",
      "Movie 1750: 3.5 (truth) 3.5092 (pred)\n",
      "Movie 1848: 3.5 (truth) 3.5249 (pred)\n",
      "Movie 1920: 3.5 (truth) 3.5166 (pred)\n",
      "Movie 1967: 4.0 (truth) 4.0662 (pred)\n",
      "Movie 1994: 3.5 (truth) 3.5342 (pred)\n",
      "Movie 1997: 3.5 (truth) 3.5687 (pred)\n",
      "Movie 2021: 4.0 (truth) 4.0039 (pred)\n",
      "Movie 2100: 4.0 (truth) 4.0050 (pred)\n",
      "Movie 2118: 4.0 (truth) 4.0038 (pred)\n",
      "Movie 2138: 4.0 (truth) 4.0081 (pred)\n",
      "Movie 2140: 4.0 (truth) 4.0927 (pred)\n",
      "Movie 2143: 4.0 (truth) 3.9884 (pred)\n",
      "Movie 2173: 4.0 (truth) 4.0378 (pred)\n",
      "Movie 2174: 4.0 (truth) 3.5944 (pred)\n",
      "Movie 2193: 4.0 (truth) 4.0398 (pred)\n",
      "Movie 2194: 3.5 (truth) 3.5458 (pred)\n",
      "Movie 2253: 3.5 (truth) 3.5604 (pred)\n",
      "Movie 2288: 4.0 (truth) 4.0859 (pred)\n",
      "Movie 2291: 4.0 (truth) 4.0111 (pred)\n",
      "Movie 2542: 4.0 (truth) 4.0786 (pred)\n",
      "Movie 2628: 4.0 (truth) 3.5112 (pred)\n",
      "Movie 2644: 3.5 (truth) 3.5288 (pred)\n",
      "Movie 2648: 3.5 (truth) 3.5302 (pred)\n",
      "Movie 2664: 3.5 (truth) 3.5226 (pred)\n",
      "Movie 2683: 3.5 (truth) 3.5418 (pred)\n",
      "Movie 2692: 3.5 (truth) 3.9351 (pred)\n",
      "Movie 2716: 3.5 (truth) 3.5615 (pred)\n",
      "Movie 2761: 3.0 (truth) 2.9939 (pred)\n",
      "Movie 2762: 4.0 (truth) 4.2189 (pred)\n",
      "Movie 2804: 3.5 (truth) 3.5511 (pred)\n",
      "Movie 2872: 4.0 (truth) 3.4321 (pred)\n",
      "Movie 2918: 3.5 (truth) 4.1788 (pred)\n",
      "Movie 2944: 4.0 (truth) 4.0011 (pred)\n",
      "Movie 2947: 3.5 (truth) 3.5369 (pred)\n",
      "Movie 2959: 4.0 (truth) 4.0283 (pred)\n",
      "Movie 2968: 4.0 (truth) 4.0380 (pred)\n",
      "Movie 3000: 3.5 (truth) 3.5499 (pred)\n",
      "Movie 3030: 3.0 (truth) 3.7857 (pred)\n"
     ]
    }
   ],
   "source": [
    "targetUser,limit = 1,100\n",
    "x1 = np.array([mf.mf.u2id[targetUser]]).reshape(1,1,1)\n",
    "res = []\n",
    "for i,movie in enumerate(mf.mf.allmovies):\n",
    "    x2 = np.array([mf.mf.m2id[movie]]).reshape(1,1,1)\n",
    "    pred=mf.model([x1,x2],training=False)+mf.mf.mean\n",
    "    pred=pred.numpy()[0]\n",
    "    if movie in mf.u2m[targetUser][0]:\n",
    "        if i<limit:\n",
    "            print(\"Movie {}: {} (truth) {:.4f} (pred)\".format(\\\n",
    "            movie,mf.u2m[targetUser][0][movie],\n",
    "            pred))\n",
    "    else:\n",
    "        store = -pred\n",
    "        heappush(res,(store,movie))"
   ]
  },
  {
   "cell_type": "code",
   "execution_count": 9,
   "metadata": {},
   "outputs": [
    {
     "data": {
      "text/plain": [
       "[(-5.154361, 110),\n",
       " (-5.0715356, 527),\n",
       " (-4.6174808, 175),\n",
       " (-5.0504875, 778),\n",
       " (-4.987379, 590),\n",
       " (-4.2832704, 1084),\n",
       " (-4.4597116, 8910),\n",
       " (-4.6164913, 2028),\n",
       " (-4.480746, 1704),\n",
       " (-4.649173, 1270)]"
      ]
     },
     "execution_count": 9,
     "metadata": {},
     "output_type": "execute_result"
    }
   ],
   "source": [
    "res[:10]"
   ]
  },
  {
   "cell_type": "code",
   "execution_count": null,
   "metadata": {},
   "outputs": [],
   "source": []
  }
 ],
 "metadata": {
  "kernelspec": {
   "display_name": "Python 3",
   "language": "python",
   "name": "python3"
  },
  "language_info": {
   "codemirror_mode": {
    "name": "ipython",
    "version": 3
   },
   "file_extension": ".py",
   "mimetype": "text/x-python",
   "name": "python",
   "nbconvert_exporter": "python",
   "pygments_lexer": "ipython3",
   "version": "3.7.6"
  }
 },
 "nbformat": 4,
 "nbformat_minor": 4
}
