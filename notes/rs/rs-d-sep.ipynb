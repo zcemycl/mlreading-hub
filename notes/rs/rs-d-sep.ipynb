{
 "cells": [
  {
   "cell_type": "code",
   "execution_count": 1,
   "id": "2e70a6b1",
   "metadata": {},
   "outputs": [],
   "source": [
    "import numpy as np\n",
    "import matplotlib.pyplot as plt\n",
    "import math"
   ]
  },
  {
   "cell_type": "markdown",
   "id": "f2efb09c",
   "metadata": {},
   "source": [
    "- https://cgi.csc.liv.ac.uk/~xiaowei/ai_materials/26-PGM-D-separation.pdf\n",
    "- https://towardsdatascience.com/beyond-the-basics-level-up-your-causal-discovery-skills-in-python-now-2023-cabe0b938715"
   ]
  },
  {
   "cell_type": "code",
   "execution_count": 2,
   "id": "a2e6786d",
   "metadata": {},
   "outputs": [],
   "source": [
    "nsamples = 10000"
   ]
  },
  {
   "cell_type": "markdown",
   "id": "71a27951",
   "metadata": {},
   "source": [
    "- chains $X\\rightarrow Z \\rightarrow Y$\n",
    "    - If X is independent of Y. $ X\\perp \\!\\!\\! \\perp Y$, X is dependent of Y condition of Z. $X\\perp \\!\\!\\! \\perp Y|Z$"
   ]
  },
  {
   "cell_type": "code",
   "execution_count": 3,
   "id": "4cc5beec",
   "metadata": {},
   "outputs": [
    {
     "name": "stdout",
     "output_type": "stream",
     "text": [
      "3.7628738641159507\n",
      "0.8178534238859511\n",
      "0.5373590527052929\n"
     ]
    }
   ],
   "source": [
    "ex = np.random.randn(nsamples)\n",
    "ey = np.random.randn(nsamples)\n",
    "ez = np.random.randn(nsamples)\n",
    "x = 3 + ex\n",
    "z = x + .5*ez\n",
    "y = z + .5*ey\n",
    "print(np.percentile(z, 75))\n",
    "print(np.corrcoef(x,y)[0,1])\n",
    "filter_ind = z>np.percentile(z, 80)\n",
    "print(np.corrcoef(x[filter_ind],y[filter_ind])[0,1])"
   ]
  },
  {
   "cell_type": "markdown",
   "id": "14528a83",
   "metadata": {},
   "source": [
    "- forks $X\\leftarrow Z\\rightarrow Y$\n",
    "    - If X is dependent of Y. $ X\\not\\!\\perp\\!\\!\\!\\perp Y$, X is independent of Y condition of Z. $X\\perp \\!\\!\\! \\perp Y|Z$"
   ]
  },
  {
   "cell_type": "code",
   "execution_count": 4,
   "id": "9e7fa1c0",
   "metadata": {},
   "outputs": [
    {
     "name": "stdout",
     "output_type": "stream",
     "text": [
      "3.7091633749057005\n",
      "0.8016327213039275\n",
      "0.485845793194113\n"
     ]
    }
   ],
   "source": [
    "z = 3 + np.random.randn(nsamples)\n",
    "x = z + .5*np.random.randn(nsamples)\n",
    "y = z + .5*np.random.randn(nsamples)\n",
    "print(np.percentile(z, 75))\n",
    "print(np.corrcoef(x,y)[0,1])\n",
    "filter_ind = z>np.percentile(z, 75)\n",
    "print(np.corrcoef(x[filter_ind],y[filter_ind])[0,1])"
   ]
  },
  {
   "cell_type": "markdown",
   "id": "c99c8fff",
   "metadata": {},
   "source": [
    "- collider $X\\rightarrow Z \\leftarrow Y\\qquad$\n",
    "    - If X is independent of Y. $ X\\perp \\!\\!\\! \\perp Y$, X is dependent of Y condition of Z. $X\\not\\!\\perp\\!\\!\\!\\perp Y|Z$"
   ]
  },
  {
   "cell_type": "code",
   "execution_count": 5,
   "id": "030f047f",
   "metadata": {},
   "outputs": [
    {
     "name": "stdout",
     "output_type": "stream",
     "text": [
      "0.8522635691073212\n",
      "0.01976236519490522\n",
      "-0.5930183930050068\n"
     ]
    }
   ],
   "source": [
    "x = np.random.randn(1000)\n",
    "y = np.random.randn(1000)\n",
    "z = x + y\n",
    "print(np.percentile(z, 75))\n",
    "print(np.corrcoef(x,y)[0,1])\n",
    "filter_ind = z>np.percentile(z, 75)\n",
    "print(np.corrcoef(x[filter_ind],y[filter_ind])[0,1])"
   ]
  },
  {
   "cell_type": "code",
   "execution_count": null,
   "id": "70270d46",
   "metadata": {},
   "outputs": [],
   "source": []
  }
 ],
 "metadata": {
  "kernelspec": {
   "display_name": "base",
   "language": "python",
   "name": "base"
  },
  "language_info": {
   "codemirror_mode": {
    "name": "ipython",
    "version": 3
   },
   "file_extension": ".py",
   "mimetype": "text/x-python",
   "name": "python",
   "nbconvert_exporter": "python",
   "pygments_lexer": "ipython3",
   "version": "3.9.15"
  }
 },
 "nbformat": 4,
 "nbformat_minor": 5
}
