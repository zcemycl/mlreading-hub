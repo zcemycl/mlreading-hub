{
 "cells": [
  {
   "cell_type": "code",
   "execution_count": 1,
   "id": "d771ac1c",
   "metadata": {},
   "outputs": [],
   "source": [
    "import numpy as np\n",
    "import matplotlib.pyplot as plt\n",
    "import math"
   ]
  },
  {
   "cell_type": "markdown",
   "id": "3d6d3f89",
   "metadata": {},
   "source": [
    "https://cgi.csc.liv.ac.uk/~xiaowei/ai_materials/26-PGM-D-separation.pdf"
   ]
  },
  {
   "cell_type": "code",
   "execution_count": 30,
   "id": "c65ede4b",
   "metadata": {},
   "outputs": [],
   "source": [
    "nsamples = 10000"
   ]
  },
  {
   "cell_type": "markdown",
   "id": "9bc7fff3",
   "metadata": {},
   "source": [
    "- chains $X\\rightarrow Z \\rightarrow Y$\n",
    "    - If X is independent of Y. $ X\\perp \\!\\!\\! \\perp Y$, X is dependent of Y condition of Z. $X\\perp \\!\\!\\! \\perp Y|Z$"
   ]
  },
  {
   "cell_type": "code",
   "execution_count": 31,
   "id": "8cc1d713",
   "metadata": {},
   "outputs": [
    {
     "name": "stdout",
     "output_type": "stream",
     "text": [
      "0.9581676856423551\n",
      "0.5710687045661653\n",
      "0.269761377740094\n"
     ]
    }
   ],
   "source": [
    "ex = np.random.randn(nsamples)\n",
    "ey = np.random.randn(nsamples)\n",
    "ez = np.random.randn(nsamples)\n",
    "x = ex\n",
    "z = x + ez\n",
    "y = z + ey\n",
    "print(np.percentile(z, 75))\n",
    "print(np.corrcoef(x,y)[0,1])\n",
    "filter_ind = z>np.percentile(z, 75)\n",
    "print(np.corrcoef(x[filter_ind],y[filter_ind])[0,1])"
   ]
  },
  {
   "cell_type": "markdown",
   "id": "921d0763",
   "metadata": {},
   "source": [
    "- forks $X\\leftarrow Z\\rightarrow Y$\n",
    "    - If X is dependent of Y. $ X\\not\\!\\perp\\!\\!\\!\\perp Y$, X is independent of Y condition of Z. $X\\perp \\!\\!\\! \\perp Y|Z$"
   ]
  },
  {
   "cell_type": "code",
   "execution_count": 35,
   "id": "c24c3f33",
   "metadata": {},
   "outputs": [
    {
     "name": "stdout",
     "output_type": "stream",
     "text": [
      "0.666829498936278\n",
      "1.0\n",
      "1.0\n"
     ]
    }
   ],
   "source": [
    "z = np.random.randn(nsamples)\n",
    "x = z + np.random.randn(nsamples)\n",
    "y = x\n",
    "print(np.percentile(z, 75))\n",
    "print(np.corrcoef(x,y)[0,1])\n",
    "filter_ind = z>np.percentile(z, 75)\n",
    "print(np.corrcoef(x[filter_ind],y[filter_ind])[0,1])"
   ]
  },
  {
   "cell_type": "markdown",
   "id": "721b594f",
   "metadata": {},
   "source": [
    "- collider $X\\rightarrow Z \\leftarrow Y\\qquad$\n",
    "    - If X is independent of Y. $ X\\perp \\!\\!\\! \\perp Y$, X is dependent of Y condition of Z. $X\\not\\!\\perp\\!\\!\\!\\perp Y|Z$"
   ]
  },
  {
   "cell_type": "code",
   "execution_count": 18,
   "id": "2ae92863",
   "metadata": {},
   "outputs": [
    {
     "name": "stdout",
     "output_type": "stream",
     "text": [
      "0.9239807700306492\n",
      "0.010784955817727067\n",
      "-0.5676468565663421\n"
     ]
    }
   ],
   "source": [
    "x = np.random.randn(1000)\n",
    "y = np.random.randn(1000)\n",
    "z = x + y\n",
    "print(np.percentile(z, 75))\n",
    "print(np.corrcoef(x,y)[0,1])\n",
    "filter_ind = z>np.percentile(z, 75)\n",
    "print(np.corrcoef(x[filter_ind],y[filter_ind])[0,1])"
   ]
  },
  {
   "cell_type": "code",
   "execution_count": null,
   "id": "29a5491a",
   "metadata": {},
   "outputs": [],
   "source": []
  }
 ],
 "metadata": {
  "kernelspec": {
   "display_name": "base",
   "language": "python",
   "name": "base"
  },
  "language_info": {
   "codemirror_mode": {
    "name": "ipython",
    "version": 3
   },
   "file_extension": ".py",
   "mimetype": "text/x-python",
   "name": "python",
   "nbconvert_exporter": "python",
   "pygments_lexer": "ipython3",
   "version": "3.9.15"
  }
 },
 "nbformat": 4,
 "nbformat_minor": 5
}
