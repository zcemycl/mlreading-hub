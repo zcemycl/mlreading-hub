{
 "cells": [
  {
   "cell_type": "code",
   "execution_count": 1,
   "metadata": {},
   "outputs": [
    {
     "data": {
      "text/html": [
       "<div>\n",
       "<style scoped>\n",
       "    .dataframe tbody tr th:only-of-type {\n",
       "        vertical-align: middle;\n",
       "    }\n",
       "\n",
       "    .dataframe tbody tr th {\n",
       "        vertical-align: top;\n",
       "    }\n",
       "\n",
       "    .dataframe thead th {\n",
       "        text-align: right;\n",
       "    }\n",
       "</style>\n",
       "<table border=\"1\" class=\"dataframe\">\n",
       "  <thead>\n",
       "    <tr style=\"text-align: right;\">\n",
       "      <th></th>\n",
       "      <th>UserId</th>\n",
       "      <th>ProductId</th>\n",
       "      <th>Rating</th>\n",
       "      <th>Timestamp</th>\n",
       "      <th>Date</th>\n",
       "    </tr>\n",
       "  </thead>\n",
       "  <tbody>\n",
       "    <tr>\n",
       "      <th>0</th>\n",
       "      <td>A39HTATAQ9V7YF</td>\n",
       "      <td>0205616461</td>\n",
       "      <td>5.0</td>\n",
       "      <td>1369699200</td>\n",
       "      <td>2013-05-28 00:00:00</td>\n",
       "    </tr>\n",
       "    <tr>\n",
       "      <th>1</th>\n",
       "      <td>A3JM6GV9MNOF9X</td>\n",
       "      <td>0558925278</td>\n",
       "      <td>3.0</td>\n",
       "      <td>1355443200</td>\n",
       "      <td>2012-12-14 00:00:00</td>\n",
       "    </tr>\n",
       "    <tr>\n",
       "      <th>2</th>\n",
       "      <td>A1Z513UWSAAO0F</td>\n",
       "      <td>0558925278</td>\n",
       "      <td>5.0</td>\n",
       "      <td>1404691200</td>\n",
       "      <td>2014-07-07 00:00:00</td>\n",
       "    </tr>\n",
       "    <tr>\n",
       "      <th>3</th>\n",
       "      <td>A1WMRR494NWEWV</td>\n",
       "      <td>0733001998</td>\n",
       "      <td>4.0</td>\n",
       "      <td>1382572800</td>\n",
       "      <td>2013-10-24 00:00:00</td>\n",
       "    </tr>\n",
       "    <tr>\n",
       "      <th>4</th>\n",
       "      <td>A3IAAVS479H7M7</td>\n",
       "      <td>0737104473</td>\n",
       "      <td>1.0</td>\n",
       "      <td>1274227200</td>\n",
       "      <td>2010-05-19 00:00:00</td>\n",
       "    </tr>\n",
       "  </tbody>\n",
       "</table>\n",
       "</div>"
      ],
      "text/plain": [
       "           UserId   ProductId  Rating   Timestamp                 Date\n",
       "0  A39HTATAQ9V7YF  0205616461     5.0  1369699200  2013-05-28 00:00:00\n",
       "1  A3JM6GV9MNOF9X  0558925278     3.0  1355443200  2012-12-14 00:00:00\n",
       "2  A1Z513UWSAAO0F  0558925278     5.0  1404691200  2014-07-07 00:00:00\n",
       "3  A1WMRR494NWEWV  0733001998     4.0  1382572800  2013-10-24 00:00:00\n",
       "4  A3IAAVS479H7M7  0737104473     1.0  1274227200  2010-05-19 00:00:00"
      ]
     },
     "execution_count": 1,
     "metadata": {},
     "output_type": "execute_result"
    }
   ],
   "source": [
    "import pandas as pd\n",
    "import numpy as np\n",
    "import matplotlib.pyplot as plt\n",
    "import math\n",
    "from tqdm import tqdm\n",
    "from datetime import datetime\n",
    "from heapq import heappush,heappop\n",
    "from collections import Counter,defaultdict\n",
    "import multiprocessing as mp\n",
    "\n",
    "PATH=\"/home/yui/Documents/data/recommender/ratings_Beauty.csv\"\n",
    "\n",
    "func = lambda x:datetime.utcfromtimestamp(x).\\\n",
    "        strftime('%Y-%m-%d %H:%M:%S')\n",
    "df=pd.read_csv(PATH)\n",
    "df['Date']=df['Timestamp'].apply(func)\n",
    "df.head(5)"
   ]
  },
  {
   "cell_type": "code",
   "execution_count": 2,
   "metadata": {},
   "outputs": [
    {
     "name": "stdout",
     "output_type": "stream",
     "text": [
      "No. of Unique Users:  (1210271,)\n",
      "No. of Unique Products:  (249274,)\n",
      "Shape of dataframe:  (2023070, 5)\n"
     ]
    }
   ],
   "source": [
    "print(\"No. of Unique Users: \",df['UserId'].unique().shape)\n",
    "print(\"No. of Unique Products: \",df[\"ProductId\"].unique().shape)\n",
    "print(\"Shape of dataframe: \",df.shape)"
   ]
  },
  {
   "cell_type": "markdown",
   "metadata": {},
   "source": [
    "#### User-User Collaborative Filtering\n",
    "Given the rating matrix, $i$ is the user, $j$ is the item,\n",
    "$$\n",
    "\\mathbf{R} = \\begin{pmatrix}\n",
    "r_{00} & \\cdots & r_{0j}\\\\\n",
    "\\vdots & \\ddots & \\vdots\\\\\n",
    "r_{i0} & \\cdots & r_{ij}\\\\\n",
    "\\end{pmatrix}\n",
    "$$\n",
    "Originally, the average rating for item j can be treated as suggestion criteria, \n",
    "$$s_j = \\frac{1}{|\\Omega_j|}\\sum_{i\\in\\Omega_j}r_{ij}$$\n",
    "where $\\Omega_j$ set of all users who rated item $j$, $r_{ij}$ rating user $i$ gave item $j$.\n",
    "\n",
    "Personalized score can be written as, \n",
    "$$s_{ij}=\\frac{1}{|\\Omega_j|}\\sum_{i'\\in\\Omega_j }r_{i'j}$$\n",
    "\n",
    "But some users have less high ratings than other users, it might be not be too fair to include in the same scale. The better measurement of rating should be average of the deviation between the average ratings of user $\\bar{r}_i$ and the rating of the product $r_{ij}$.\n",
    "\n",
    "\n",
    "$$\\begin{align*}\n",
    "\\delta_{ij} &= r_{ij}-\\bar{r}_i \\\\\n",
    "\\hat{\\delta}_{ij} &= \\frac{1}{|\\Omega|}\\sum_{i'\\in \\Omega_j} r_{i'j}-\\bar{r}_{i'} \\\\\n",
    "s_{ij} &= \\bar{r}_i +\\hat{\\delta}_{ij}\n",
    "\\end{align*}$$\n",
    "\n",
    "The algorithm is to predictive the empty cell $s_{ij}$ as $\\hat{r}_{ij}$ so as to guess what user $i$ might rate item $j$. This becomes a regression problem, and mean-squared error is a good metric to estimate the model performance, \n",
    "\n",
    "$$\\Delta = \\frac{1}{\\Omega}\\sum_{i,j\\in\\Omega}(r_{ij}-\\hat{r}_{ij})^2$$\n",
    "where $\\Omega$ set of pairs $(i,j)$ where user $i$ has rated item $j$.\n",
    "\n",
    "The weight ratings can be used to suggest similar users with similar preferences to watch the same movie, but unsuggest different users to watch the same. \n",
    "\n",
    "$$s_{ij}=\\frac{\\sum_{i'\\in\\Omega_j} w_{ii'}r_{i'j}}{\\sum_{i'\\in\\Omega_j }|w_{ii'}|}$$\n",
    "\n",
    "where the weight should be great if both users are similar, be small if different.\n",
    "\n",
    "Finally, the expected rating should be summarized as,\n",
    "\n",
    "$$s_{ij}=\\bar{r}_i + \\frac{\\sum_{i'\\in\\Omega_j} w_{ii'}(r_{i'j}-\\bar{r}_{i'})}{\\sum_{i'\\in\\Omega_j }|w_{ii'}|}$$\n",
    "\n",
    "The weight can be calculated as pearson correlation coefficient, \n",
    "\n",
    "$$\n",
    "\\rho_{xy} = \\frac{\\sum^N_{i=1}(x_i-\\bar{x})(y_i-\\bar{y})}{\\sqrt{\\sum^N_{i=1}(x_i-\\bar{x})^2}\\sqrt{\\sum^N_{i=1}(y_i-\\bar{y})^2}}\n",
    "$$\n",
    "\n",
    "$$\n",
    "w_{ii'} = \\frac{\\sum_{j\\in\\Psi_{ii'}}(r_{ij}-\\bar{r}_i)(r_{i'j}-\\bar{r}_{i'})}{\\sqrt{\\sum_{j\\in\\Psi_{ii'}}(r_{ij}-\\bar{r}_i)^2}\\sqrt{\\sum_{j\\in\\Psi_{ii'}}(r_{i'j}-\\bar{r}_{i'})^2}}\n",
    "$$\n",
    "\n",
    "where $\\Psi_i$ set of items that user $i$ has rated, $\\Psi_{ii'}$ set of items both user $i$ and $i'$ have rated, i.e.$\\Psi_{ii'}=\\Psi_i\\cap\\Psi_{i'}$. This is equivalent to cosine similarity since $x$ and $y$ are deviations already.\n",
    "\n",
    "$$\\cos\\theta = \\frac{x^\\top y}{|x||y|} = \\frac{\\sum^N_{i=1}x_iy_i}{\\sqrt{\\sum^N_{i=1}x_i^2}\\sqrt{\\sum^N_{i=1}y_i^2}}$$"
   ]
  },
  {
   "cell_type": "code",
   "execution_count": 3,
   "metadata": {},
   "outputs": [
    {
     "name": "stderr",
     "output_type": "stream",
     "text": [
      "100%|██████████| 2023070/2023070 [07:38<00:00, 4408.23it/s]\n"
     ]
    }
   ],
   "source": [
    "u2id,id2u,p2id,id2p={},{},{},{}\n",
    "u2p = defaultdict(dict)\n",
    "for i in tqdm(range(df.shape[0])):\n",
    "    user = df.iloc[i]['UserId']\n",
    "    item = df.iloc[i]['ProductId']\n",
    "    rating = df.iloc[i]['Rating']\n",
    "    if user not in u2id:\n",
    "        u2id[user]=i\n",
    "        id2u[i]=user\n",
    "    if item not in p2id:\n",
    "        p2id[item]=i\n",
    "        id2p[i]=item\n",
    "    rateDict = u2p.get(u2id[user],{})\n",
    "    rateDict[p2id[item]]=rating\n",
    "    u2p[u2id[user]] = rateDict"
   ]
  },
  {
   "cell_type": "code",
   "execution_count": 4,
   "metadata": {},
   "outputs": [
    {
     "data": {
      "text/plain": [
       "1210271"
      ]
     },
     "execution_count": 4,
     "metadata": {},
     "output_type": "execute_result"
    }
   ],
   "source": [
    "len(u2p)"
   ]
  },
  {
   "cell_type": "code",
   "execution_count": 5,
   "metadata": {},
   "outputs": [
    {
     "data": {
      "text/plain": [
       "{0, 899062, 969481, 1499663}"
      ]
     },
     "execution_count": 5,
     "metadata": {},
     "output_type": "execute_result"
    }
   ],
   "source": [
    "set(u2p[0])"
   ]
  },
  {
   "cell_type": "code",
   "execution_count": 6,
   "metadata": {},
   "outputs": [],
   "source": [
    "def findMatchesItem(target):\n",
    "    rated = u2p[target]\n",
    "    p = set(rated)\n",
    "    if len(p)>3: return \n",
    "    res = [] # user who has rated the same products\n",
    "    for i in range(len(u2p)):\n",
    "        if i==target:\n",
    "            continue\n",
    "        rated_ = u2p[i]\n",
    "        common = p & set(rated_)\n",
    "        if len(common)==len(p):\n",
    "            res.append(i)\n",
    "    if len(p)>1 and len(res)>0:\n",
    "        print(target,res)"
   ]
  },
  {
   "cell_type": "code",
   "execution_count": 7,
   "metadata": {
    "scrolled": false
   },
   "outputs": [
    {
     "name": "stderr",
     "output_type": "stream",
     "text": [
      "  0%|          | 139/1210271 [00:08<23:39:14, 14.21it/s]"
     ]
    },
    {
     "name": "stdout",
     "output_type": "stream",
     "text": [
      "143 [147]\n"
     ]
    },
    {
     "name": "stderr",
     "output_type": "stream",
     "text": [
      "  0%|          | 147/1210271 [00:08<21:56:51, 15.32it/s]"
     ]
    },
    {
     "name": "stdout",
     "output_type": "stream",
     "text": [
      "147 [143]\n"
     ]
    },
    {
     "name": "stderr",
     "output_type": "stream",
     "text": [
      "  0%|          | 221/1210271 [00:12<17:07:48, 19.62it/s]"
     ]
    },
    {
     "name": "stdout",
     "output_type": "stream",
     "text": [
      "213 [216]\n"
     ]
    },
    {
     "name": "stderr",
     "output_type": "stream",
     "text": [
      "  0%|          | 290/1210271 [00:16<17:27:48, 19.25it/s]"
     ]
    },
    {
     "name": "stdout",
     "output_type": "stream",
     "text": [
      "285 [283]\n"
     ]
    },
    {
     "name": "stderr",
     "output_type": "stream",
     "text": [
      "  0%|          | 356/1210271 [00:19<16:02:23, 20.95it/s]"
     ]
    },
    {
     "name": "stdout",
     "output_type": "stream",
     "text": [
      "355 [352, 367]\n"
     ]
    },
    {
     "name": "stderr",
     "output_type": "stream",
     "text": [
      "  0%|          | 439/1210271 [00:22<19:06:58, 17.58it/s]"
     ]
    },
    {
     "name": "stdout",
     "output_type": "stream",
     "text": [
      "437 [436, 438, 441]\n"
     ]
    },
    {
     "name": "stderr",
     "output_type": "stream",
     "text": [
      "  0%|          | 505/1210271 [00:26<17:41:27, 19.00it/s]"
     ]
    },
    {
     "name": "stdout",
     "output_type": "stream",
     "text": [
      "506 [510, 527, 529, 532]\n"
     ]
    },
    {
     "name": "stderr",
     "output_type": "stream",
     "text": [
      "  0%|          | 514/1210271 [00:26<21:19:00, 15.76it/s]"
     ]
    },
    {
     "name": "stdout",
     "output_type": "stream",
     "text": [
      "510 [506, 527, 529, 532]\n"
     ]
    },
    {
     "name": "stderr",
     "output_type": "stream",
     "text": [
      "\r",
      "  0%|          | 521/1210271 [00:27<18:04:09, 18.60it/s]"
     ]
    },
    {
     "name": "stdout",
     "output_type": "stream",
     "text": [
      "517 [498, 528]\n"
     ]
    },
    {
     "name": "stderr",
     "output_type": "stream",
     "text": [
      "\r",
      "  0%|          | 524/1210271 [00:27<24:14:08, 13.87it/s]"
     ]
    },
    {
     "name": "stdout",
     "output_type": "stream",
     "text": [
      "529 [506, 510, 527, 532]\n"
     ]
    },
    {
     "name": "stderr",
     "output_type": "stream",
     "text": [
      "  0%|          | 530/1210271 [00:27<19:40:21, 17.08it/s]"
     ]
    },
    {
     "name": "stdout",
     "output_type": "stream",
     "text": [
      "532 [506, 510, 527, 529]\n"
     ]
    },
    {
     "name": "stderr",
     "output_type": "stream",
     "text": [
      "\r",
      "  0%|          | 534/1210271 [00:27<16:22:39, 20.52it/s]"
     ]
    },
    {
     "name": "stdout",
     "output_type": "stream",
     "text": [
      "528 [498, 517]\n"
     ]
    },
    {
     "name": "stderr",
     "output_type": "stream",
     "text": [
      "  0%|          | 599/1210271 [00:30<13:22:30, 25.12it/s]"
     ]
    },
    {
     "name": "stdout",
     "output_type": "stream",
     "text": [
      "591 [606]\n"
     ]
    },
    {
     "name": "stderr",
     "output_type": "stream",
     "text": [
      "  0%|          | 601/1210271 [00:31<17:21:26, 19.36it/s]\n"
     ]
    }
   ],
   "source": [
    "with mp.Pool(processes=12) as pool:\n",
    "    with tqdm(total=len(u2p)) as pbar:\n",
    "        for i, _ in enumerate(pool.imap_unordered(\\\n",
    "            findMatchesItem, range(0,len(u2p)))):\n",
    "            pbar.update()\n",
    "            if i==600:\n",
    "                break"
   ]
  },
  {
   "cell_type": "code",
   "execution_count": 8,
   "metadata": {
    "scrolled": false
   },
   "outputs": [
    {
     "name": "stdout",
     "output_type": "stream",
     "text": [
      "{494: 5.0, 1080644: 5.0}\n",
      "{494: 5.0, 1080644: 4.0}\n",
      "{494: 5.0, 1080644: 5.0}\n",
      "{494: 5.0, 1080644: 5.0, 1391035: 5.0, 1702927: 5.0}\n",
      "{494: 5.0, 1080644: 5.0}\n"
     ]
    }
   ],
   "source": [
    "for i in [529,506,510,527,532]:\n",
    "    print(u2p[i])"
   ]
  },
  {
   "cell_type": "markdown",
   "metadata": {},
   "source": [
    "#### User-User Collaborative Filtering\n",
    "Given the rating matrix, $i$ is the user, $j$ is the item,\n",
    "$$\n",
    "\\mathbf{R} = \\begin{pmatrix}\n",
    "r_{00} & \\cdots & r_{0j}\\\\\n",
    "\\vdots & \\ddots & \\vdots\\\\\n",
    "r_{i0} & \\cdots & r_{ij}\\\\\n",
    "\\end{pmatrix}\n",
    "$$\n",
    "\n",
    "The expected rating should be summarized as,\n",
    "\n",
    "$$s_{ij}=\\bar{r}_i + \\frac{\\sum_{i'\\in\\Omega_j} w_{ii'}(r_{i'j}-\\bar{r}_{i'})}{\\sum_{i'\\in\\Omega_j }|w_{ii'}|}$$\n",
    "\n",
    "The weight can be calculated as pearson correlation coefficient, \n",
    "\n",
    "$$\n",
    "w_{ii'} = \\frac{\\sum_{j\\in\\Psi_{ii'}}(r_{ij}-\\bar{r}_i)(r_{i'j}-\\bar{r}_{i'})}{\\sqrt{\\sum_{j\\in\\Psi_{ii'}}(r_{ij}-\\bar{r}_i)^2}\\sqrt{\\sum_{j\\in\\Psi_{ii'}}(r_{i'j}-\\bar{r}_{i'})^2}}\n",
    "$$\n",
    "where $\\Psi_i$ set of items that user $i$ has rated, $\\Psi_{ii'}$ set of items both user $i$ and $i'$ have rated, i.e.$\\Psi_{ii'}=\\Psi_i\\cap\\Psi_{i'}$. "
   ]
  },
  {
   "cell_type": "code",
   "execution_count": 10,
   "metadata": {},
   "outputs": [
    {
     "name": "stdout",
     "output_type": "stream",
     "text": [
      "-0.7999999999999998 1.0 4.8 5.0 -0.7999999999999998\n",
      "5.0 4.2\n"
     ]
    }
   ],
   "source": [
    "user = 529\n",
    "# product = 1391035\n",
    "product = 1391000\n",
    "candidates = [506,510,527,532]\n",
    "u2p[527][product]=4\n",
    "setProduct = set(u2p[user])\n",
    "up,down = 0,0\n",
    "eps = np.finfo(float).eps\n",
    "user_mean = np.array(list(u2p[user].values())).mean()\n",
    "for candidate in candidates:\n",
    "    if product not in u2p[candidate]:\n",
    "        continue #skip\n",
    "    common = setProduct & set(u2p[candidate])\n",
    "    difu = np.array([u2p[user][c] \\\n",
    "            for c in common])-user_mean+eps\n",
    "    candidate_mean = np.array(list(u2p[candidate].values())).mean()\n",
    "    difu_ = np.array([u2p[candidate][c] \\\n",
    "            for c in common])-candidate_mean+eps\n",
    "    w = ((difu*difu_)).sum()/np.sqrt((difu**2).sum())/np.sqrt((difu_**2).sum())\n",
    "    up += w*(u2p[candidate].get(product,4)-candidate_mean)\n",
    "    down += w\n",
    "s = user_mean + up/down\n",
    "print(up,down,candidate_mean,user_mean,up/down)\n",
    "print(user_mean,s)"
   ]
  },
  {
   "cell_type": "markdown",
   "metadata": {},
   "source": [
    "### Movie recommendation dataset\n",
    "https://www.kaggle.com/grouplens/movielens-20m-dataset#rating.csv\n",
    "\n"
   ]
  },
  {
   "cell_type": "code",
   "execution_count": 2,
   "metadata": {},
   "outputs": [
    {
     "data": {
      "text/html": [
       "<div>\n",
       "<style scoped>\n",
       "    .dataframe tbody tr th:only-of-type {\n",
       "        vertical-align: middle;\n",
       "    }\n",
       "\n",
       "    .dataframe tbody tr th {\n",
       "        vertical-align: top;\n",
       "    }\n",
       "\n",
       "    .dataframe thead th {\n",
       "        text-align: right;\n",
       "    }\n",
       "</style>\n",
       "<table border=\"1\" class=\"dataframe\">\n",
       "  <thead>\n",
       "    <tr style=\"text-align: right;\">\n",
       "      <th></th>\n",
       "      <th>userId</th>\n",
       "      <th>movieId</th>\n",
       "      <th>rating</th>\n",
       "      <th>timestamp</th>\n",
       "    </tr>\n",
       "  </thead>\n",
       "  <tbody>\n",
       "    <tr>\n",
       "      <th>0</th>\n",
       "      <td>1</td>\n",
       "      <td>2</td>\n",
       "      <td>3.5</td>\n",
       "      <td>2005-04-02 23:53:47</td>\n",
       "    </tr>\n",
       "    <tr>\n",
       "      <th>1</th>\n",
       "      <td>1</td>\n",
       "      <td>29</td>\n",
       "      <td>3.5</td>\n",
       "      <td>2005-04-02 23:31:16</td>\n",
       "    </tr>\n",
       "    <tr>\n",
       "      <th>2</th>\n",
       "      <td>1</td>\n",
       "      <td>32</td>\n",
       "      <td>3.5</td>\n",
       "      <td>2005-04-02 23:33:39</td>\n",
       "    </tr>\n",
       "    <tr>\n",
       "      <th>3</th>\n",
       "      <td>1</td>\n",
       "      <td>47</td>\n",
       "      <td>3.5</td>\n",
       "      <td>2005-04-02 23:32:07</td>\n",
       "    </tr>\n",
       "    <tr>\n",
       "      <th>4</th>\n",
       "      <td>1</td>\n",
       "      <td>50</td>\n",
       "      <td>3.5</td>\n",
       "      <td>2005-04-02 23:29:40</td>\n",
       "    </tr>\n",
       "  </tbody>\n",
       "</table>\n",
       "</div>"
      ],
      "text/plain": [
       "   userId  movieId  rating            timestamp\n",
       "0       1        2     3.5  2005-04-02 23:53:47\n",
       "1       1       29     3.5  2005-04-02 23:31:16\n",
       "2       1       32     3.5  2005-04-02 23:33:39\n",
       "3       1       47     3.5  2005-04-02 23:32:07\n",
       "4       1       50     3.5  2005-04-02 23:29:40"
      ]
     },
     "execution_count": 2,
     "metadata": {},
     "output_type": "execute_result"
    }
   ],
   "source": [
    "PATH=\"/home/yui/Documents/data/recommender/movieLens20M/rating.csv\"\n",
    "df = pd.read_csv(PATH)\n",
    "df.head(5)"
   ]
  },
  {
   "cell_type": "code",
   "execution_count": 3,
   "metadata": {},
   "outputs": [
    {
     "data": {
      "text/html": [
       "<div>\n",
       "<style scoped>\n",
       "    .dataframe tbody tr th:only-of-type {\n",
       "        vertical-align: middle;\n",
       "    }\n",
       "\n",
       "    .dataframe tbody tr th {\n",
       "        vertical-align: top;\n",
       "    }\n",
       "\n",
       "    .dataframe thead th {\n",
       "        text-align: right;\n",
       "    }\n",
       "</style>\n",
       "<table border=\"1\" class=\"dataframe\">\n",
       "  <thead>\n",
       "    <tr style=\"text-align: right;\">\n",
       "      <th></th>\n",
       "      <th>userId</th>\n",
       "      <th>movieId</th>\n",
       "      <th>rating</th>\n",
       "      <th>timestamp</th>\n",
       "    </tr>\n",
       "  </thead>\n",
       "  <tbody>\n",
       "    <tr>\n",
       "      <th>180</th>\n",
       "      <td>2</td>\n",
       "      <td>260</td>\n",
       "      <td>5.0</td>\n",
       "      <td>2000-11-21 15:36:54</td>\n",
       "    </tr>\n",
       "    <tr>\n",
       "      <th>181</th>\n",
       "      <td>2</td>\n",
       "      <td>266</td>\n",
       "      <td>5.0</td>\n",
       "      <td>2000-11-21 15:32:28</td>\n",
       "    </tr>\n",
       "    <tr>\n",
       "      <th>182</th>\n",
       "      <td>2</td>\n",
       "      <td>469</td>\n",
       "      <td>3.0</td>\n",
       "      <td>2000-11-21 15:29:58</td>\n",
       "    </tr>\n",
       "    <tr>\n",
       "      <th>183</th>\n",
       "      <td>2</td>\n",
       "      <td>480</td>\n",
       "      <td>5.0</td>\n",
       "      <td>2000-11-21 15:32:00</td>\n",
       "    </tr>\n",
       "    <tr>\n",
       "      <th>184</th>\n",
       "      <td>2</td>\n",
       "      <td>541</td>\n",
       "      <td>5.0</td>\n",
       "      <td>2000-11-21 15:36:54</td>\n",
       "    </tr>\n",
       "    <tr>\n",
       "      <th>185</th>\n",
       "      <td>2</td>\n",
       "      <td>589</td>\n",
       "      <td>5.0</td>\n",
       "      <td>2000-11-21 15:30:58</td>\n",
       "    </tr>\n",
       "    <tr>\n",
       "      <th>186</th>\n",
       "      <td>2</td>\n",
       "      <td>891</td>\n",
       "      <td>2.0</td>\n",
       "      <td>2000-11-21 15:36:09</td>\n",
       "    </tr>\n",
       "    <tr>\n",
       "      <th>187</th>\n",
       "      <td>2</td>\n",
       "      <td>908</td>\n",
       "      <td>4.0</td>\n",
       "      <td>2000-11-21 15:31:31</td>\n",
       "    </tr>\n",
       "    <tr>\n",
       "      <th>188</th>\n",
       "      <td>2</td>\n",
       "      <td>924</td>\n",
       "      <td>5.0</td>\n",
       "      <td>2000-11-21 15:36:54</td>\n",
       "    </tr>\n",
       "    <tr>\n",
       "      <th>189</th>\n",
       "      <td>2</td>\n",
       "      <td>1121</td>\n",
       "      <td>3.0</td>\n",
       "      <td>2000-11-21 15:29:58</td>\n",
       "    </tr>\n",
       "  </tbody>\n",
       "</table>\n",
       "</div>"
      ],
      "text/plain": [
       "     userId  movieId  rating            timestamp\n",
       "180       2      260     5.0  2000-11-21 15:36:54\n",
       "181       2      266     5.0  2000-11-21 15:32:28\n",
       "182       2      469     3.0  2000-11-21 15:29:58\n",
       "183       2      480     5.0  2000-11-21 15:32:00\n",
       "184       2      541     5.0  2000-11-21 15:36:54\n",
       "185       2      589     5.0  2000-11-21 15:30:58\n",
       "186       2      891     2.0  2000-11-21 15:36:09\n",
       "187       2      908     4.0  2000-11-21 15:31:31\n",
       "188       2      924     5.0  2000-11-21 15:36:54\n",
       "189       2     1121     3.0  2000-11-21 15:29:58"
      ]
     },
     "execution_count": 3,
     "metadata": {},
     "output_type": "execute_result"
    }
   ],
   "source": [
    "df.iloc[180:190]"
   ]
  },
  {
   "cell_type": "code",
   "execution_count": 4,
   "metadata": {},
   "outputs": [
    {
     "name": "stdout",
     "output_type": "stream",
     "text": [
      "Dataframe shape:  (20000263, 4)\n",
      "Unique User:  138493\n",
      "Unique Movie:  26744\n"
     ]
    }
   ],
   "source": [
    "print(\"Dataframe shape: \",df.shape)\n",
    "print(\"Unique User: \",len(df[\"userId\"].unique()))\n",
    "print(\"Unique Movie: \",len(df[\"movieId\"].unique()))"
   ]
  },
  {
   "cell_type": "code",
   "execution_count": 5,
   "metadata": {
    "scrolled": true
   },
   "outputs": [
    {
     "name": "stdout",
     "output_type": "stream",
     "text": [
      "[1 2 3 4 5] [ 2 29 32 47 50]\n"
     ]
    }
   ],
   "source": [
    "users = df[\"userId\"].unique()\n",
    "movies = df[\"movieId\"].unique()\n",
    "print(users[:5],movies[:5])"
   ]
  },
  {
   "cell_type": "markdown",
   "metadata": {},
   "source": [
    "#### Tradeoff\n",
    "- Due to the massive amount of data we are processing, I choose the user with at least 50 movies rated, the least number of common movies rated between the user being suggested and the user as the guide is 25, and need at least 25 users.\n",
    "- To avoid only suggesting only by first n users, it is possible to shuffle according to userId.\n"
   ]
  },
  {
   "cell_type": "code",
   "execution_count": 6,
   "metadata": {},
   "outputs": [],
   "source": [
    "def findNMatches(df,targetUser,leastCommon=25,minMoviesWatched=50,noRef=25):\n",
    "    tardf = df[df[\"userId\"]==targetUser]\n",
    "    u2m = defaultdict(dict)\n",
    "    valCountsUserId = df[\"userId\"].value_counts()\n",
    "\n",
    "    for j in range(tardf.shape[0]):\n",
    "        movieId = tardf.iloc[j][\"movieId\"]\n",
    "        u2m[targetUser][movieId] = tardf.iloc[j][\"rating\"]\n",
    "    avg = np.array(list(u2m[targetUser].values())).mean()\n",
    "    u2m[targetUser] = (u2m[targetUser],avg)\n",
    "    tarSet = set(u2m[targetUser][0])\n",
    "    # print(tarSet)\n",
    "    prevId,storeSet,storeDict = 0,set(),dict()\n",
    "    for i in tqdm(range(df.shape[0])):\n",
    "        row = df.iloc[i]\n",
    "        userId = row[\"userId\"]\n",
    "        if valCountsUserId[userId]<minMoviesWatched:\n",
    "            continue\n",
    "        if userId==targetUser:\n",
    "            continue\n",
    "        if userId!=prevId:\n",
    "            if len(tarSet&storeSet)>=leastCommon:\n",
    "                avg = np.array(list(storeDict.values())).mean()\n",
    "                u2m[prevId]=(storeDict,avg)\n",
    "            storeSet,storeDict=set(),dict()\n",
    "        prevId = userId\n",
    "        storeSet.add(row[\"movieId\"])\n",
    "        storeDict[row[\"movieId\"]]=row[\"rating\"]\n",
    "        if len(u2m)>noRef:\n",
    "            break\n",
    "    return u2m"
   ]
  },
  {
   "cell_type": "markdown",
   "metadata": {},
   "source": [
    "#### User-User Collaborative Filtering\n",
    "Given the rating matrix, $i$ is the user, $j$ is the item,\n",
    "$$\n",
    "\\mathbf{R} = \\begin{pmatrix}\n",
    "r_{00} & \\cdots & r_{0j}\\\\\n",
    "\\vdots & \\ddots & \\vdots\\\\\n",
    "r_{i0} & \\cdots & r_{ij}\\\\\n",
    "\\end{pmatrix}\n",
    "$$\n",
    "\n",
    "The expected rating should be summarized as,\n",
    "\n",
    "$$s_{ij}=\\bar{r}_i + \\frac{\\sum_{i'\\in\\Omega_j} w_{ii'}(r_{i'j}-\\bar{r}_{i'})}{\\sum_{i'\\in\\Omega_j }|w_{ii'}|}$$\n",
    "\n",
    "The weight can be calculated as pearson correlation coefficient, \n",
    "\n",
    "$$\n",
    "w_{ii'} = \\frac{\\sum_{j\\in\\Psi_{ii'}}(r_{ij}-\\bar{r}_i)(r_{i'j}-\\bar{r}_{i'})}{\\sqrt{\\sum_{j\\in\\Psi_{ii'}}(r_{ij}-\\bar{r}_i)^2}\\sqrt{\\sum_{j\\in\\Psi_{ii'}}(r_{i'j}-\\bar{r}_{i'})^2}}\n",
    "$$\n",
    "where $\\Psi_i$ set of items that user $i$ has rated, $\\Psi_{ii'}$ set of items both user $i$ and $i'$ have rated, i.e.$\\Psi_{ii'}=\\Psi_i\\cap\\Psi_{i'}$. "
   ]
  },
  {
   "cell_type": "code",
   "execution_count": 7,
   "metadata": {},
   "outputs": [],
   "source": [
    "def computeW(dict1,dict2,m1,m2):\n",
    "#     eps = np.finfo(float).eps\n",
    "    eps = 0\n",
    "    common = set(dict1)&set(dict2)\n",
    "    difu = np.array([dict1[c] for c in common])-m1+eps\n",
    "    difu_ = np.array([dict2[c] for c in common])-m2+eps\n",
    "    up = ((difu*difu_)).sum()\n",
    "    down = np.sqrt((difu**2).sum())*np.sqrt((difu_**2).sum())\n",
    "    return up/down,set(dict1)^set(dict2)"
   ]
  },
  {
   "cell_type": "code",
   "execution_count": 8,
   "metadata": {},
   "outputs": [],
   "source": [
    "def suggest(u2m,targetUser):\n",
    "    items = defaultdict(dict)\n",
    "    # key(movieid) -> up:0,down:0\n",
    "    targetDict,targetM = u2m[targetUser]\n",
    "    for candidate in u2m:\n",
    "        if candidate==targetUser:\n",
    "            continue\n",
    "        tmpDict,tmpM = u2m[candidate]\n",
    "        w,xorSet = computeW(targetDict,tmpDict,targetM,tmpM)\n",
    "        for item in xorSet:\n",
    "            if item in targetDict:\n",
    "                continue\n",
    "            up,down = items.get(item,(0,0))\n",
    "#             print(tmpDict[item]-tmpM,w)\n",
    "            up += w*(tmpDict[item]-tmpM)\n",
    "            down += abs(w)\n",
    "            items[item]=(up,down)\n",
    "    suggestions = {}\n",
    "    for item in items:\n",
    "        up,down = items[item]\n",
    "#         print(item,up,down,up/down)\n",
    "        suggestions[item]=up/down\n",
    "    return suggestions\n"
   ]
  },
  {
   "cell_type": "code",
   "execution_count": 9,
   "metadata": {},
   "outputs": [
    {
     "name": "stderr",
     "output_type": "stream",
     "text": [
      "  0%|          | 15260/20000263 [00:01<33:45, 9868.24it/s] "
     ]
    },
    {
     "name": "stdout",
     "output_type": "stream",
     "text": [
      "26\n"
     ]
    },
    {
     "name": "stderr",
     "output_type": "stream",
     "text": [
      "\n"
     ]
    }
   ],
   "source": [
    "u2m = findNMatches(df,1)\n",
    "print(len(u2m))\n",
    "suggestions = suggest(u2m,1)\n",
    "sortSuggests = sorted(suggestions.items(),\n",
    "        key=lambda x:-x[1])\n",
    "# print(sortSuggests)"
   ]
  },
  {
   "cell_type": "code",
   "execution_count": 10,
   "metadata": {},
   "outputs": [
    {
     "name": "stdout",
     "output_type": "stream",
     "text": [
      "(1054, 2.705521472392638) (44828, -3.445436507936508)\n"
     ]
    }
   ],
   "source": [
    "print(sortSuggests[0],sortSuggests[-1])"
   ]
  },
  {
   "cell_type": "code",
   "execution_count": 11,
   "metadata": {},
   "outputs": [
    {
     "name": "stdout",
     "output_type": "stream",
     "text": [
      "3.742857142857143\n"
     ]
    }
   ],
   "source": [
    "print(np.array(list(u2m[1][0].values())).mean())"
   ]
  },
  {
   "cell_type": "code",
   "execution_count": null,
   "metadata": {},
   "outputs": [],
   "source": []
  }
 ],
 "metadata": {
  "kernelspec": {
   "display_name": "Python 3",
   "language": "python",
   "name": "python3"
  },
  "language_info": {
   "codemirror_mode": {
    "name": "ipython",
    "version": 3
   },
   "file_extension": ".py",
   "mimetype": "text/x-python",
   "name": "python",
   "nbconvert_exporter": "python",
   "pygments_lexer": "ipython3",
   "version": "3.7.6"
  }
 },
 "nbformat": 4,
 "nbformat_minor": 4
}
