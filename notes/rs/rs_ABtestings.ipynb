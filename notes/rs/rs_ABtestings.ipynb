{
 "cells": [
  {
   "cell_type": "code",
   "execution_count": 1,
   "metadata": {},
   "outputs": [
    {
     "data": {
      "text/html": [
       "<div>\n",
       "<style scoped>\n",
       "    .dataframe tbody tr th:only-of-type {\n",
       "        vertical-align: middle;\n",
       "    }\n",
       "\n",
       "    .dataframe tbody tr th {\n",
       "        vertical-align: top;\n",
       "    }\n",
       "\n",
       "    .dataframe thead th {\n",
       "        text-align: right;\n",
       "    }\n",
       "</style>\n",
       "<table border=\"1\" class=\"dataframe\">\n",
       "  <thead>\n",
       "    <tr style=\"text-align: right;\">\n",
       "      <th></th>\n",
       "      <th>timestamp</th>\n",
       "      <th>id</th>\n",
       "      <th>group</th>\n",
       "      <th>action</th>\n",
       "    </tr>\n",
       "  </thead>\n",
       "  <tbody>\n",
       "    <tr>\n",
       "      <th>0</th>\n",
       "      <td>2016-09-24 17:42:27.839496</td>\n",
       "      <td>804196</td>\n",
       "      <td>experiment</td>\n",
       "      <td>view</td>\n",
       "    </tr>\n",
       "    <tr>\n",
       "      <th>1</th>\n",
       "      <td>2016-09-24 19:19:03.542569</td>\n",
       "      <td>434745</td>\n",
       "      <td>experiment</td>\n",
       "      <td>view</td>\n",
       "    </tr>\n",
       "    <tr>\n",
       "      <th>2</th>\n",
       "      <td>2016-09-24 19:36:00.944135</td>\n",
       "      <td>507599</td>\n",
       "      <td>experiment</td>\n",
       "      <td>view</td>\n",
       "    </tr>\n",
       "    <tr>\n",
       "      <th>3</th>\n",
       "      <td>2016-09-24 19:59:02.646620</td>\n",
       "      <td>671993</td>\n",
       "      <td>control</td>\n",
       "      <td>view</td>\n",
       "    </tr>\n",
       "    <tr>\n",
       "      <th>4</th>\n",
       "      <td>2016-09-24 20:26:14.466886</td>\n",
       "      <td>536734</td>\n",
       "      <td>experiment</td>\n",
       "      <td>view</td>\n",
       "    </tr>\n",
       "  </tbody>\n",
       "</table>\n",
       "</div>"
      ],
      "text/plain": [
       "                    timestamp      id       group action\n",
       "0  2016-09-24 17:42:27.839496  804196  experiment   view\n",
       "1  2016-09-24 19:19:03.542569  434745  experiment   view\n",
       "2  2016-09-24 19:36:00.944135  507599  experiment   view\n",
       "3  2016-09-24 19:59:02.646620  671993     control   view\n",
       "4  2016-09-24 20:26:14.466886  536734  experiment   view"
      ]
     },
     "execution_count": 1,
     "metadata": {},
     "output_type": "execute_result"
    }
   ],
   "source": [
    "import pandas as pd\n",
    "import numpy as np\n",
    "import matplotlib.pyplot as plt\n",
    "import math\n",
    "import os\n",
    "from datetime import datetime as dt\n",
    "\n",
    "PATH=\"/home/yui/Documents/data/recommender/homepage_actions.csv\"\n",
    "PATH2=\"/home/yui/Documents/data/recommender/ab_data.csv\"\n",
    "df = pd.read_csv(PATH)\n",
    "df.head(5)"
   ]
  },
  {
   "cell_type": "code",
   "execution_count": 2,
   "metadata": {},
   "outputs": [
    {
     "data": {
      "text/plain": [
       "datetime.datetime(2016, 9, 24, 17, 42, 27, 839496)"
      ]
     },
     "execution_count": 2,
     "metadata": {},
     "output_type": "execute_result"
    }
   ],
   "source": [
    "convertTime = lambda x: dt.strptime(x,\"%Y-%m-%d %H:%M:%S.%f\")\n",
    "convertTime(df.iloc[0][\"timestamp\"])"
   ]
  },
  {
   "cell_type": "code",
   "execution_count": 5,
   "metadata": {},
   "outputs": [
    {
     "data": {
      "text/plain": [
       "(2016, 38, 6)"
      ]
     },
     "execution_count": 5,
     "metadata": {},
     "output_type": "execute_result"
    }
   ],
   "source": [
    "convertTime(df.iloc[0][\"timestamp\"]).isocalendar()"
   ]
  },
  {
   "cell_type": "code",
   "execution_count": 3,
   "metadata": {},
   "outputs": [
    {
     "name": "stdout",
     "output_type": "stream",
     "text": [
      "(8188, 4) 6328\n"
     ]
    }
   ],
   "source": [
    "print(df.shape,len(df[\"id\"].unique()))"
   ]
  },
  {
   "cell_type": "markdown",
   "metadata": {},
   "source": [
    "#### Data sources\n",
    "- https://www.kaggle.com/samtyagi/audacity-ab-testing\n",
    "- https://www.kaggle.com/saraabdelaal/abtestdata"
   ]
  },
  {
   "cell_type": "code",
   "execution_count": 4,
   "metadata": {},
   "outputs": [
    {
     "name": "stdout",
     "output_type": "stream",
     "text": [
      "view     6328\n",
      "click    1860\n",
      "Name: action, dtype: int64\n",
      "control       4264\n",
      "experiment    3924\n",
      "Name: group, dtype: int64\n",
      "(8188, 4)\n"
     ]
    }
   ],
   "source": [
    "print(df['action'].value_counts())\n",
    "print(df['group'].value_counts())\n",
    "print(df.shape)"
   ]
  },
  {
   "cell_type": "markdown",
   "metadata": {},
   "source": [
    "#### Control vs Treatment\n",
    "1. **Control**:  The group which gets the old webpage.\n",
    "2. **Treatment**: The group which gets the new webpage\n",
    "\n",
    "#### Metric\n",
    "$$\\text{purchase conversion}=\\frac{\\# \\text{Converted Users}}{\\# \\text{Exposed Users}}$$\n",
    "$$\\text{Lift}=\\text{treatment conversion}-\\text{control conversion}$$\n",
    "where\n",
    "1. **Exposure**: A user from either control or treatment sees their corresponding page for the first time.\n",
    "2. **Conversion**: An exposed user makes a purchase within 7 days of being first exposed. (or take some actions afterwards)\n",
    "\n"
   ]
  },
  {
   "cell_type": "markdown",
   "metadata": {},
   "source": [
    "#### Frequenists vs Bayesian Methods\n",
    "- **Frequencists**\n",
    "    - Inputs: Control,Treatment,Hypothesis\n",
    "    - Outputs: Test Statistic, p-value, Accept/Reject Null hypothesis\n",
    "    - Null hypothesis refers to sth that is assumed to be true and it is commonly the fact the observations are the result of pure chance.\n",
    "    - Alternative hypothesis refers to sth that is being tested against the null, and it is commonly that observations show a real effect combined with a component of chance variation. \n",
    "    - Correlations and p-value\n",
    "    ![Different type of correlations](https://machinelearningmastery.com/wp-content/uploads/2019/11/How-to-Choose-Feature-Selection-Methods-For-Machine-Learning.png)\n",
    "    - In the case of purchase conversion, chi squared p-value will be used, and a contigency table is required,\n",
    "    \n",
    "||Converted|Non-converted|\n",
    "|---|---|---|\n",
    "|**Control**|||\n",
    "|**Treatment**|||\n",
    "\n",
    "- **Bayesian**\n",
    "    - Inputs: Control,Treatment,Prior\n",
    "    - Outputs: Control Posterior Distribution, Treatment Posterior Distribution (How confident the lift is)\n",
    "    - Model will be a beta bernoulli distribution. \n",
    "$$\\begin{align*}\n",
    "\\alpha'&=\\alpha+x_i\\\\\n",
    "\\beta'&=\\beta+1-x_i\n",
    "\\end{align*}$$"
   ]
  },
  {
   "cell_type": "code",
   "execution_count": null,
   "metadata": {},
   "outputs": [],
   "source": []
  }
 ],
 "metadata": {
  "kernelspec": {
   "display_name": "Python 3",
   "language": "python",
   "name": "python3"
  },
  "language_info": {
   "codemirror_mode": {
    "name": "ipython",
    "version": 3
   },
   "file_extension": ".py",
   "mimetype": "text/x-python",
   "name": "python",
   "nbconvert_exporter": "python",
   "pygments_lexer": "ipython3",
   "version": "3.7.6"
  }
 },
 "nbformat": 4,
 "nbformat_minor": 4
}
