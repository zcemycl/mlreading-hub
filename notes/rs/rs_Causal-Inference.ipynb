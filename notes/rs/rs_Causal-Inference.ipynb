{
 "cells": [
  {
   "cell_type": "markdown",
   "metadata": {},
   "source": [
    "### Causal Inference\n",
    "\n",
    "- Aim: to identify which are causes and effects, i.e. Did event A cause Event B?\n",
    "    - Examples: does sending emails increase purchase conversion? does changing page design improve **click through rate** (percentage of impressions that resulted in a click)? \n",
    "- Challenges:\n",
    "    - Confounders. Variables are not controllable. (Need randomization)\n",
    "    - Selection Bias. Not good representation of the population.\n",
    "    - Counterfactuals. (Matching)\n",
    "- Assumptions:\n",
    "    - Causal Markov Condition (Markov Assumption)\n",
    "        - Casual Graph\n",
    "        - DAG\n",
    "    - Stable Unit Treatment Value Assumption\n",
    "        - Treatment and Control groups do not interact each other.\n",
    "    - Ignorability\n",
    "        - No other unknown confounders.\n",
    "- Metrics:\n",
    "    - Individual Treatment Effect\n",
    "    - Average Treatment Effect \n",
    "    - Conditional Average Treatment Effect\n",
    "- Types of Leads (Potential Customer)\n",
    "    - Only target Persuadables.\n",
    "\n",
    "|||Without Marketing|Action|\n",
    "|---|---|---|---|\n",
    "|||**Don't Convert**|**Convert**|\n",
    "|**With Marketing**|**Convert**|Persuadables|Sure Things|\n",
    "|**Action**|**Don't Convert**|Lost Causes|Sleeping Dogs|\n",
    "    \n",
    "    \n",
    "\n",
    "- Techniques:\n",
    "    1. **Randomized Controlled Tests (RCTs)** / AB Testings\n",
    "        - Select Participants\n",
    "        - Split into Treatment and Control groups.\n",
    "        - Treat them differently.\n",
    "        - Monitor Purchase conversion over time.\n",
    "        - Make decision whether effects are expected."
   ]
  },
  {
   "cell_type": "markdown",
   "metadata": {},
   "source": [
    "### Uplift Modeling \n",
    "Which individuals should we target?\n",
    "1. Meta-Learning Techniques\n",
    "    - Two-model Approach\n",
    "    - Class Transformation Approach\n",
    "    \n",
    "$$\\begin{align*}ITE&=P(\\text{Outcome}|\\text{Treated})-P(\\text{Outcome}|\\text{Not Treated})\\\\\n",
    "&=P(Y_i=1|X_i,W_i=1)-P(Y_i=1|X_i,W_i=0)\n",
    "\\end{align*}$$\n",
    "\n",
    "where $ITE\\in [0,1]$ Individual Treatment Effect, $Y_i\\in \\{0,1\\}$ the outcome of purchasing, $X_i\\in \\mathbb{R}^D$ lead feature vector, and $W_i\\in \\{0,1\\}$ treatment or control group.\n",
    "\n",
    "2. Direct Uplift Estimation Techniques"
   ]
  },
  {
   "cell_type": "markdown",
   "metadata": {},
   "source": [
    "#### Two-Model Approach\n",
    "\n",
    "There are two models to train and predict, one is to predict the probability of purchase from treatment group, one is to predict the probability of purchase from control group. \n",
    "\n",
    "When training, only select the data with the right condition, \n",
    "\n",
    "$$\\begin{align*}\n",
    "P(Y_i=1|X_i,W_i=1) &= f_1(X_i[W_i=1]) \\\\\n",
    "P(Y_i=1|X_i,W_i=0) &= f_2(X_i[W_i=0]) \\\\\n",
    "\\end{align*}$$\n",
    "\n",
    "During inference, simply pass the target vector to both models and calibrate the final values for ITE calculation,\n",
    "$$\\begin{align*}\n",
    "P(Y_i=1,W_i=1|X_i) &= f_1(X_i) \\\\\n",
    "P(Y_i=1,W_i=0|X_i) &= f_2(X_i) \\\\\n",
    "\\end{align*}$$\n"
   ]
  },
  {
   "cell_type": "markdown",
   "metadata": {},
   "source": [
    "#### Class Transformation Approach\n",
    "Only 1 model is used, and label classes are transformed from Y to Z to determine the persuadables $Y_i=0,W_i=0$ and $Y_i=1,W_i=1$.\n",
    "\n",
    "$$\\begin{align*}&Z_i = Y_iW_i+(1-Y_i)(1-W_i)\\\\\n",
    "&P(Z_i=1|X_i) = f(X_i)\n",
    "\\end{align*}$$\n",
    "\n",
    "Now the individual treatment effect becomes, \n",
    "$$ITE=2P(Z_i=1|X_i)-1$$"
   ]
  },
  {
   "cell_type": "code",
   "execution_count": null,
   "metadata": {},
   "outputs": [],
   "source": []
  },
  {
   "cell_type": "code",
   "execution_count": null,
   "metadata": {},
   "outputs": [],
   "source": []
  },
  {
   "cell_type": "code",
   "execution_count": null,
   "metadata": {},
   "outputs": [],
   "source": []
  }
 ],
 "metadata": {
  "kernelspec": {
   "display_name": "Python 3",
   "language": "python",
   "name": "python3"
  },
  "language_info": {
   "codemirror_mode": {
    "name": "ipython",
    "version": 3
   },
   "file_extension": ".py",
   "mimetype": "text/x-python",
   "name": "python",
   "nbconvert_exporter": "python",
   "pygments_lexer": "ipython3",
   "version": "3.7.6"
  }
 },
 "nbformat": 4,
 "nbformat_minor": 4
}
