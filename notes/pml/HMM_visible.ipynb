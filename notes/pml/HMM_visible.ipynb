{
 "cells": [
  {
   "cell_type": "code",
   "execution_count": 1,
   "metadata": {},
   "outputs": [],
   "source": [
    "import numpy as np\n",
    "import random\n",
    "import matplotlib.pyplot as plt\n",
    "from tqdm import tqdm\n",
    "from collections import defaultdict\n",
    "from mlreading_hub.pml.mle_hmm import *"
   ]
  },
  {
   "cell_type": "markdown",
   "metadata": {},
   "source": [
    "> Transition Probability Matrix $A$\n",
    "$$\\hat{a}_{ij}=\\frac{1+\\sum_{r=1}^R\\sum_{t=1}^{T-1} \\mathbb{I}_{i\\rightarrow j}^{tr}}{Q+\\sum_{r=1}^R\\sum_{t=1}^{T-1} \\mathbb{I}_{i}^{tr}}$$\n",
    "\n",
    "> Emission Probabilities $B$\n",
    "$$\\hat{b}_i(v_k) = \\frac{1+\\sum_{r=1}^R\\sum_{t=1}^{T} \\mathbb{I}_{i\\rightarrow v_k}^{tr}}{O+\\sum_{r=1}^R\\sum_{t=1}^{T} \\mathbb{I}_{i}^{tr}}$$\n",
    "\n",
    "> Initial Probabilites $\\pi$\n",
    "$$\\hat{\\pi}_i = \\frac{\\sum_{r=1}^R\\mathbb{I}_{i}^{1r}}{R}$$"
   ]
  },
  {
   "cell_type": "code",
   "execution_count": 2,
   "metadata": {},
   "outputs": [],
   "source": [
    "hmm = HMM()\n",
    "hmm.setDistinctHiddensAndObservations([0,1,2,3],[\"H\",\"C\"])\n",
    "hmm.setInitial({\"H\":0.7,\"C\":0.3})\n",
    "hmm.setSpecificTransit(\"H\",{\"H\":0.7,\"C\":0.3})\n",
    "hmm.setSpecificTransit(\"C\",{\"H\":0.8,\"C\":0.2})\n",
    "hmm.setSpecificEmit(\"H\",{0:0.2,1:0.7,2:0.05,3:0.05})\n",
    "hmm.setSpecificEmit(\"C\",{0:0.9,1:0.05,2:0.05})"
   ]
  },
  {
   "cell_type": "code",
   "execution_count": 3,
   "metadata": {},
   "outputs": [],
   "source": [
    "hmm = add_patch(hmm)\n",
    "N,T = 1000,6\n",
    "Qsamples,Osamples = [],[]\n",
    "for _ in range(N):\n",
    "    Qs,Os = hmm.samples(T)\n",
    "    Osamples.append(Os)\n",
    "    Qsamples.append(Qs)"
   ]
  },
  {
   "cell_type": "code",
   "execution_count": 4,
   "metadata": {},
   "outputs": [],
   "source": [
    "model = HMM()\n",
    "model.setDistinctHiddensAndObservations([0,1,2,3],[\"H\",\"C\"])\n",
    "model = add_patch(model)"
   ]
  },
  {
   "cell_type": "code",
   "execution_count": 5,
   "metadata": {},
   "outputs": [
    {
     "name": "stderr",
     "output_type": "stream",
     "text": [
      "100%|██████████| 1000/1000 [00:00<00:00, 63990.24it/s]\n"
     ]
    }
   ],
   "source": [
    "for i in tqdm(range(N)):\n",
    "    model.learn(Qsamples[i],Osamples[i])"
   ]
  },
  {
   "cell_type": "code",
   "execution_count": 6,
   "metadata": {},
   "outputs": [
    {
     "name": "stdout",
     "output_type": "stream",
     "text": [
      "{None: 1000, (None, 0): 710, 0: 3598, (0, 0): 2511, (0, 1): 1087, 1: 1402, (1, 0): 1095, (1, 1): 307, (None, 1): 290}\n",
      "{0: 4316, (0, 1): 3041, 1: 1684, (1, 0): 1515, (0, 0): 856, (0, 2): 215, (1, 2): 78, (0, 3): 204, (1, 1): 91}\n"
     ]
    }
   ],
   "source": [
    "print(model.ct)\n",
    "print(model.ce)"
   ]
  },
  {
   "cell_type": "code",
   "execution_count": 7,
   "metadata": {},
   "outputs": [
    {
     "name": "stdout",
     "output_type": "stream",
     "text": [
      "{0: 0.71, 1: 0.29}\n",
      "defaultdict(<class 'dict'>, {0: {0: 0.6977777777777778, 1: 0.3022222222222222}, 1: {0: 0.7806267806267806, 1: 0.21937321937321938}})\n",
      "defaultdict(<class 'dict'>, {0: {0: 0.19837962962962963, 1: 0.7041666666666667, 2: 0.05, 3: 0.047453703703703706}, 1: {0: 0.8981042654028436, 1: 0.054502369668246446, 2: 0.046800947867298576, 3: 0.0005924170616113745}})\n"
     ]
    }
   ],
   "source": [
    "print(model.pi)\n",
    "print(model.A)\n",
    "print(model.B)"
   ]
  },
  {
   "cell_type": "markdown",
   "metadata": {},
   "source": [
    "https://www.cs.tau.ac.il/~rshamir/algmb/00/scribe00/html/lec06/node6.html"
   ]
  },
  {
   "cell_type": "code",
   "execution_count": null,
   "metadata": {},
   "outputs": [],
   "source": []
  }
 ],
 "metadata": {
  "kernelspec": {
   "display_name": "base",
   "language": "python",
   "name": "base"
  },
  "language_info": {
   "codemirror_mode": {
    "name": "ipython",
    "version": 3
   },
   "file_extension": ".py",
   "mimetype": "text/x-python",
   "name": "python",
   "nbconvert_exporter": "python",
   "pygments_lexer": "ipython3",
   "version": "3.7.4"
  }
 },
 "nbformat": 4,
 "nbformat_minor": 4
}
