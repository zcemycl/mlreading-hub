{
 "cells": [
  {
   "cell_type": "code",
   "execution_count": 1,
   "metadata": {},
   "outputs": [],
   "source": [
    "import numpy as np\n",
    "import random\n",
    "import matplotlib.pyplot as plt\n",
    "from tqdm import tqdm\n",
    "from collections import defaultdict\n",
    "from mlreading_hub.pml.em_hmm import *"
   ]
  },
  {
   "cell_type": "markdown",
   "metadata": {},
   "source": [
    "### Hidden Markov Models (HMMs)\n",
    "$$\\begin{align*}P(O) &= \\sum_Q P(O,Q)=\\sum_Q P(O|Q)P(Q) \\\\ &= \\sum_{j=1}^N \\prod^T_{i=1}P(o_i|q_i)P(q_i|q_{i-1})= \\sum_{j=1}^N \\prod^T_{i=1}a_{ij}b(o_i)\n",
    "\\end{align*}$$\n",
    "It is useful for 3 fundamental problems, \n",
    "1. Likelihood \n",
    "<p> Given an HMM $\\lambda = (A,B)$ and an observation sequence $O$, determine the likelihood $P(O|\\lambda)$. </p>\n",
    "2. Decoding\n",
    "<p> Given an observation sequence $O$ and and HMM $\\lambda=(A,B)$, discover the best hidden state sequence Q. </p>\n",
    "3. Learning\n",
    "<p> Given an observation sequence $O$ and the set of states in the HMM, learn the HMM parameters $A$ and $B$. </p>"
   ]
  },
  {
   "cell_type": "code",
   "execution_count": 2,
   "metadata": {},
   "outputs": [],
   "source": [
    "hmm = HMM()\n",
    "hmm.setDistinctHiddensAndObservations([0,1,2,3],[\"H\",\"C\"])\n",
    "hmm.setInitial({\"H\":0.7,\"C\":0.3})\n",
    "hmm.setSpecificTransit(\"H\",{\"H\":0.7,\"C\":0.3})\n",
    "hmm.setSpecificTransit(\"C\",{\"H\":0.8,\"C\":0.2})\n",
    "hmm.setSpecificEmit(\"H\",{0:0.2,1:0.7,2:0.05,3:0.05})\n",
    "hmm.setSpecificEmit(\"C\",{0:0.9,1:0.05,2:0.05})"
   ]
  },
  {
   "cell_type": "markdown",
   "metadata": {},
   "source": [
    "#### 1. Likelihood: Forward Algorithm\n",
    "a. Initialization\n",
    "$$\\alpha_1(j) = \\pi_jb_j(o_1) \\qquad 1\\leq j\\leq N$$\n",
    "b. Recursion\n",
    "$$\\begin{align*}\\alpha_t(j) &= P(\\{o_i\\}_{i=1}^t, q_t=j|\\lambda) \\\\ \n",
    "&= \\sum^N_{i=1}\\alpha_{t-1}(i)a_{ij}b_j(o_t) \\qquad 1\\leq j\\leq N\\quad ,\\quad 1<t\\leq T \\end{align*}$$\n",
    "c. Termination\n",
    "$$\n",
    "P(O|\\lambda) = \\sum^N_{i=1}\\alpha_T(i)\n",
    "$$\n",
    "<details>\n",
    "<summary><h4>Click to view proof for Forward probability!</h4></summary>\n",
    "$$\\begin{align*}\n",
    "\\alpha_t(j) &= P(\\{o_k\\}^t_1,q_t=j|\\lambda) = \\sum^N_{i=1} P(\\{o_k\\}^{t-1}_1,o_t,q_t=j,q_{t-1}=i|\\lambda)\\\\\n",
    "&= \\sum^N_{i=1}P(o_t|\\{o_k\\}^{t-1}_1,q_t=j,q_{t-1}=i,\\lambda)P(q_t=j|\\{o_k\\}^{t-1}_1,q_{t-1}=i,\\lambda) \\\\ &\\qquad \\times P(\\{o_k\\}^{t-1}_1,q_{t-1}=i|\\lambda) \\\\\n",
    "&= \\sum^N_{i=1}P(\\{o_k\\}^{t-1}_1,q_{t-1}=i|\\lambda)P(q_t=j|q_{t-1}=i,\\lambda)P(o_t|q_t=j,\\lambda) \\\\\n",
    "&= \\sum^N_{i=1}\\alpha_{t-1}(i)a_{ij}b_j(o_t)\n",
    "\\end{align*}\n",
    "$$\n",
    "</details>"
   ]
  },
  {
   "cell_type": "code",
   "execution_count": 3,
   "metadata": {},
   "outputs": [],
   "source": [
    "hmm.computeLikelihood = lambda x:likelihood(hmm,x)"
   ]
  },
  {
   "cell_type": "code",
   "execution_count": 4,
   "metadata": {},
   "outputs": [
    {
     "name": "stdout",
     "output_type": "stream",
     "text": [
      "(0.5049999999999999, array([[0.49 ],\n",
      "       [0.015]]))\n",
      "(0.41000000000000003, array([[0.14],\n",
      "       [0.27]]))\n",
      "(0.049999999999999996, array([[0.035],\n",
      "       [0.015]]))\n",
      "(0.034999999999999996, array([[0.035],\n",
      "       [0.   ]]))\n",
      "(0.25599999999999995, array([[0.49  , 0.2485],\n",
      "       [0.015 , 0.0075]]))\n",
      "(0.20599999999999996, array([[0.49 , 0.071],\n",
      "       [0.015, 0.135]]))\n",
      "(0.2246, array([[0.14  , 0.2198],\n",
      "       [0.27  , 0.0048]]))\n",
      "(0.1492, array([[0.14  , 0.0628],\n",
      "       [0.27  , 0.0864]]))\n"
     ]
    }
   ],
   "source": [
    "print(hmm.computeLikelihood([1]))\n",
    "print(hmm.computeLikelihood([0]))\n",
    "print(hmm.computeLikelihood([2]))\n",
    "print(hmm.computeLikelihood([3]))\n",
    "print(hmm.computeLikelihood([1,1]))\n",
    "print(hmm.computeLikelihood([1,0]))\n",
    "print(hmm.computeLikelihood([0,1]))\n",
    "print(hmm.computeLikelihood([0,0]))"
   ]
  },
  {
   "cell_type": "markdown",
   "metadata": {},
   "source": [
    "#### 2. Decoding: Viterbi Algorithm\n",
    "a. Initialization\n",
    "$$\\begin{align*}\n",
    "v_1(j) &= \\pi_jb_j(o_1) &\\qquad 1\\leq j\\leq N \\\\\n",
    "bt_1(j) &= 0 &\\qquad 1\\leq j\\leq N\n",
    "\\end{align*}\n",
    "$$\n",
    "b. Recursion\n",
    "$$\\begin{align*}\n",
    "v_t(j) &=\\max_{\\{q_k\\}_1^{t-1}} P(\\{q_k\\}_1^{t-1},\\{o_k\\}_1^t,q_t=j | \\lambda) \\\\&= \\max^N_{i=1}v_{t-1}(i)a_{ij}b_j(o_t) &\\qquad 1\\leq j\\leq N\\quad ,\\quad 1<t\\leq T\\\\\n",
    "bt_t(j) &= \\arg\\max^N_{i=1}v_{t-1}(i)a_{ij}b_j(o_t) &\\qquad 1\\leq j\\leq N\\quad ,\\quad 1<t\\leq T\\\\\n",
    "\\end{align*}\n",
    "$$\n",
    "c. Termination\n",
    "$$\\begin{align*}\n",
    "P* &= \\max^N_{i=1}v_T(i) \\\\\n",
    "q_T* &= \\arg\\max^N_{i=1}v_T(i)\n",
    "\\end{align*}\n",
    "$$"
   ]
  },
  {
   "cell_type": "code",
   "execution_count": 5,
   "metadata": {},
   "outputs": [],
   "source": [
    "hmm.decode = lambda x:decode(hmm,x)"
   ]
  },
  {
   "cell_type": "code",
   "execution_count": 6,
   "metadata": {},
   "outputs": [
    {
     "name": "stdout",
     "output_type": "stream",
     "text": [
      "(0.27, ['C'])\n",
      "(0.48999999999999994, ['H'])\n",
      "(0.034999999999999996, ['H'])\n",
      "(0.034999999999999996, ['H'])\n"
     ]
    }
   ],
   "source": [
    "for o in hmm.o2id.keys():\n",
    "    print(hmm.decode([o]))"
   ]
  },
  {
   "cell_type": "code",
   "execution_count": 7,
   "metadata": {},
   "outputs": [
    {
     "data": {
      "text/plain": [
       "(0.0020995200000000006, ['C', 'C', 'C', 'C'])"
      ]
     },
     "execution_count": 7,
     "metadata": {},
     "output_type": "execute_result"
    }
   ],
   "source": [
    "hmm.decode([0,0,0,0])"
   ]
  },
  {
   "cell_type": "markdown",
   "metadata": {},
   "source": [
    "#### 3. Learning: HMM Training with Forward-Backward Algorithm\n",
    "> Backward Probability\n",
    "\n",
    "a. Initialization\n",
    "$$\\beta_T(i) = 1 \\qquad 1\\leq i\\leq N$$\n",
    "b. Recursion\n",
    "$$\\begin{align*}\n",
    "\\beta_t(i) &= P(\\{o_k\\}_{t+1}^T|q_t=i,\\lambda) \\\\\n",
    "&=\\sum^N_{j=1}a_{ij}b_j(o_{t+1})\\beta_{t+1}(j) \\qquad 1\\leq i\\leq N\\quad,\\quad 1\\leq t<T\n",
    "\\end{align*}\n",
    "$$\n",
    "c. Termination\n",
    "$$P(O|\\lambda)=\\sum^N_{j=1}\\pi_j b_j(o_1)\\beta_1(j)$$\n",
    "<details >\n",
    "<summary><h4>Click to view proof for Backward probability!</h4></summary>\n",
    "$$\\begin{align*}\n",
    "\\beta_t(i) &= P(\\{o_k\\}_{t+1}^T|q_t=i,\\lambda) = \\sum^N_{j=1}P(q_{t+1}=j,o_{t+1},\\{o_k\\}^T_{t+2}|q_t=i,\\lambda) \\\\\n",
    "&= \\sum^N_{j=1}\\frac{P(q_{t+1}=j,o_{t+1},\\{o_k\\}^T_{t+2},q_t=i|\\lambda)}{P(q_t=i|\\lambda)} \\\\\n",
    "&= \\sum^N_{j=1}\\frac{P(o_{t+1}|q_{t+1}=j,\\{o_k\\}^T_{t+2},q_t=i,\\lambda)\\times\\\\P(\\{o_k\\}^T_{t+2}|q_{t+1}=j,q_t=i,\\lambda)\\times\\\\P(q_{t+1}=j|q_t=i,\\lambda)P(q_t=i|\\lambda)}{P(q_t=i|\\lambda)} \\\\\n",
    "&= \\sum^N_{j=1}P(q_{t+1}=j|q_t=i,\\lambda)P(o_{t+1}|q_{t+1}=j,\\lambda)P(\\{o_k\\}^T_{t+2}|q_{t+1}=j,\\lambda) \\\\\n",
    "&= \\sum^N_{j=1}a_{ij}b_j(o_{t+1})\\beta_{t+1}(j)\n",
    "\\end{align*}$$\n",
    "</details>\n",
    "\n"
   ]
  },
  {
   "cell_type": "code",
   "execution_count": 8,
   "metadata": {},
   "outputs": [],
   "source": [
    "hmm.likelihood_backwards = lambda x:likelihood_backwards(hmm,x)               "
   ]
  },
  {
   "cell_type": "code",
   "execution_count": 9,
   "metadata": {},
   "outputs": [
    {
     "name": "stdout",
     "output_type": "stream",
     "text": [
      "0.5049999999999999 0.5049999999999999\n",
      "0.41000000000000003 0.41000000000000003\n",
      "0.049999999999999996 0.049999999999999996\n",
      "0.034999999999999996 0.034999999999999996\n",
      "0.25599999999999995 0.2559999999999999\n",
      "0.20599999999999996 0.206\n",
      "0.2246 0.22459999999999997\n",
      "0.1492 0.14920000000000003\n"
     ]
    }
   ],
   "source": [
    "print(hmm.computeLikelihood([1])[0],\n",
    "      hmm.likelihood_backwards([1])[0])\n",
    "print(hmm.computeLikelihood([0])[0],\n",
    "      hmm.likelihood_backwards([0])[0])\n",
    "print(hmm.computeLikelihood([2])[0],\n",
    "      hmm.likelihood_backwards([2])[0])\n",
    "print(hmm.computeLikelihood([3])[0],\n",
    "      hmm.likelihood_backwards([3])[0])\n",
    "print(hmm.computeLikelihood([1,1])[0],\n",
    "      hmm.likelihood_backwards([1,1])[0])\n",
    "print(hmm.computeLikelihood([1,0])[0],\n",
    "      hmm.likelihood_backwards([1,0])[0])\n",
    "print(hmm.computeLikelihood([0,1])[0],\n",
    "      hmm.likelihood_backwards([0,1])[0])\n",
    "print(hmm.computeLikelihood([0,0])[0],\n",
    "      hmm.likelihood_backwards([0,0])[0])"
   ]
  },
  {
   "cell_type": "markdown",
   "metadata": {},
   "source": [
    "#### Sampling from HMM"
   ]
  },
  {
   "cell_type": "code",
   "execution_count": 10,
   "metadata": {},
   "outputs": [],
   "source": [
    "hmm.samples = lambda x:samples(hmm,x)"
   ]
  },
  {
   "cell_type": "code",
   "execution_count": 11,
   "metadata": {
    "scrolled": false
   },
   "outputs": [
    {
     "name": "stdout",
     "output_type": "stream",
     "text": [
      "['C', 'C', 'H', 'H', 'C', 'H'] ['C', 'C', 'H', 'H', 'C', 'H'] 0.002016379008 [0, 0, 1, 1, 0, 1] 0.009159656239999998 0.009159656239999998\n",
      "['H', 'H', 'H', 'C', 'H', 'H'] ['H', 'H', 'H', 'C', 'H', 'H'] 0.008716379111999996 [1, 1, 1, 0, 1, 1] 0.014679843499999994 0.014679843499999989\n",
      "['H', 'H', 'H', 'H', 'C', 'C'] ['H', 'H', 'C', 'H', 'C', 'C'] 0.0017643316319999993 [1, 1, 0, 1, 0, 0] 0.008505114799999998 0.008505114800000003\n",
      "['H', 'H', 'H', 'C', 'H', 'H'] ['H', 'C', 'H', 'C', 'H', 'H'] 0.005489031743999998 [1, 0, 1, 0, 1, 1] 0.012779535999999992 0.012779535999999994\n",
      "['H', 'C', 'H', 'H', 'H', 'H'] ['H', 'C', 'H', 'H', 'H', 'C'] 0.004802902775999998 [1, 0, 1, 1, 1, 0] 0.011812800999999994 0.011812800999999994\n",
      "['C', 'H', 'H', 'C', 'H', 'C'] ['C', 'H', 'H', 'C', 'H', 'C'] 0.00021604060799999998 [0, 3, 1, 0, 1, 0] 0.0007234716999999999 0.0007234716999999999\n",
      "['H', 'H', 'H', 'C', 'C', 'H'] ['C', 'H', 'H', 'C', 'C', 'H'] 0.002016379008 [0, 1, 1, 0, 0, 1] 0.00916802624 0.009168026239999997\n",
      "['C', 'C', 'H', 'H', 'H', 'H'] ['C', 'C', 'H', 'H', 'H', 'H'] 1.6336403999999996e-05 [0, 0, 2, 1, 1, 3] 6.918470500000001e-05 6.9184705e-05\n",
      "['H', 'C', 'H', 'H', 'H', 'H'] ['H', 'C', 'C', 'H', 'H', 'H'] 0.003201935183999999 [1, 0, 0, 1, 1, 1] 0.010450137099999994 0.010450137099999996\n",
      "['H', 'H', 'H', 'H', 'C', 'H'] ['H', 'C', 'H', 'H', 'C', 'H'] 0.005489031743999998 [1, 0, 1, 1, 0, 1] 0.012760722099999997 0.012760722099999993\n"
     ]
    }
   ],
   "source": [
    "N = 10\n",
    "for i in range(N):\n",
    "    Qs,Os = hmm.samples(6)\n",
    "    l,alpha = hmm.computeLikelihood(Os)\n",
    "    lB,beta = hmm.likelihood_backwards(Os)\n",
    "    lQ,dQs = hmm.decode(Os)\n",
    "    print(Qs,dQs,lQ,Os,l,lB)"
   ]
  },
  {
   "cell_type": "markdown",
   "metadata": {},
   "source": [
    "> Transition Probability Matrix $A$\n",
    "\n",
    "$$\\begin{align*}\n",
    "    \\hat{a}_{ij}&=\\frac{\\sum^{T-1}_{t=1}\\xi_t(i,j)}{\\sum^{T-1}_{t=1}\\sum^N_{k=1}\\xi_t(i,k)}\\\\\n",
    "    \\xi_t(i,j) &= \\frac{\\alpha_t(i)a_{ij}b_j(o_{t+1})\\beta_{t+1}(j)}{\\sum^N_{j=1}\\alpha_t(j)\\beta_t(j)}\n",
    "\\end{align*}$$\n",
    "<details >\n",
    "<summary><h4>Click to view proof for transition probability!</h4></summary>\n",
    "\n",
    "</details>\n",
    "\n",
    "> Emission Probabilities $B$\n",
    "\n",
    "$$\\begin{align*}\n",
    "\\hat{b}_j(v_k) &= \\frac{\\sum^T_{t=1 s.t.O_t=v_k}\\gamma_t(j)}{\\sum^T_{t=1}\\gamma_t(j)} \\\\\n",
    "\\gamma_t(j) &= \\frac{\\alpha_t(j)\\beta_t(j)}{\\sum^N_{j=1}\\alpha_t(j)\\beta_t(j)}\n",
    "\\end{align*}$$\n",
    "<details >\n",
    "<summary><h4>Click to view proof for emission probability!</h4></summary>\n",
    "\n",
    "</details>"
   ]
  },
  {
   "cell_type": "code",
   "execution_count": 12,
   "metadata": {},
   "outputs": [],
   "source": [
    "hmm = add_patch(hmm)\n",
    "N,T = 1000,6\n",
    "Osamples = []\n",
    "for _ in range(N):\n",
    "    Qs,Os = hmm.samples(T)\n",
    "    Osamples.append(Os)"
   ]
  },
  {
   "cell_type": "code",
   "execution_count": 13,
   "metadata": {
    "scrolled": true
   },
   "outputs": [
    {
     "name": "stdout",
     "output_type": "stream",
     "text": [
      "[[0, 3, 1, 1, 0, 1], [1, 2, 1, 0, 1, 1], [1, 0, 1, 1, 1, 1]]\n"
     ]
    }
   ],
   "source": [
    "print(Osamples[0:3])"
   ]
  },
  {
   "cell_type": "code",
   "execution_count": 14,
   "metadata": {},
   "outputs": [],
   "source": [
    "model = HMM()\n",
    "model.setDistinctHiddensAndObservations([0,1,2,3],[\"H\",\"C\"])\n",
    "model = add_patch(model)"
   ]
  },
  {
   "cell_type": "code",
   "execution_count": 15,
   "metadata": {},
   "outputs": [
    {
     "name": "stdout",
     "output_type": "stream",
     "text": [
      "defaultdict(<class 'dict'>, {0: {0: 0.7463814841629683, 1: 0.25361851583703166}, 1: {0: 0.4103958350006115, 1: 0.5896041649993885}})\n",
      "defaultdict(<class 'dict'>, {0: {0: 0.3035199076961971, 1: 0.1098358950354559, 2: 0.2548711382714411, 3: 0.33177305899690596}, 1: {0: 0.12978360282522952, 1: 0.28403299458709375, 2: 0.4248038367457662, 3: 0.1613795658419105}})\n",
      "{0: 0.7735268757426305, 1: 0.22647312425736962}\n"
     ]
    }
   ],
   "source": [
    "print(model.A)\n",
    "print(model.B)\n",
    "print(model.pi)"
   ]
  },
  {
   "cell_type": "code",
   "execution_count": 16,
   "metadata": {},
   "outputs": [
    {
     "name": "stderr",
     "output_type": "stream",
     "text": [
      "100%|██████████| 10/10 [00:01<00:00,  6.36it/s]\n"
     ]
    },
    {
     "data": {
      "image/png": "[encoded data removed]",
      "text/plain": [
       "<Figure size 640x480 with 1 Axes>"
      ]
     },
     "metadata": {},
     "output_type": "display_data"
    }
   ],
   "source": [
    "iters = 10\n",
    "ls = model.learn(Osamples,iters)\n",
    "plt.plot(range(iters),ls)\n",
    "plt.show()"
   ]
  },
  {
   "cell_type": "code",
   "execution_count": 17,
   "metadata": {},
   "outputs": [
    {
     "name": "stdout",
     "output_type": "stream",
     "text": [
      "defaultdict(<class 'dict'>, {0: {0: 0.6843341709169032, 1: 0.31566582908309465}, 1: {0: 0.4181817070297851, 1: 0.5818182929702151}})\n",
      "defaultdict(<class 'dict'>, {0: {0: 0.4879877742405634, 1: 0.4118542791739321, 2: 0.04914470285181439, 3: 0.05101324373368892}, 1: {0: 0.25306970072789886, 1: 0.665467657454194, 2: 0.06273651590822718, 3: 0.01872612590968179}})\n",
      "{0: 0.6221873586495507, 1: 0.3778126413504499}\n"
     ]
    }
   ],
   "source": [
    "print(model.A)\n",
    "print(model.B)\n",
    "print(model.pi)"
   ]
  },
  {
   "cell_type": "code",
   "execution_count": 18,
   "metadata": {},
   "outputs": [
    {
     "name": "stdout",
     "output_type": "stream",
     "text": [
      "defaultdict(<class 'dict'>, {0: {0: 0.7, 1: 0.3}, 1: {0: 0.8, 1: 0.2}})\n",
      "defaultdict(<class 'dict'>, {0: {0: 0.2, 1: 0.7, 2: 0.05, 3: 0.05}, 1: {0: 0.9, 1: 0.05, 2: 0.05, 3: 0}})\n",
      "{0: 0.7, 1: 0.3}\n"
     ]
    }
   ],
   "source": [
    "print(hmm.A)\n",
    "print(hmm.B)\n",
    "print(hmm.pi)"
   ]
  },
  {
   "cell_type": "markdown",
   "metadata": {},
   "source": [
    "### References\n",
    "- https://web.stanford.edu/~jurafsky/slp3/A.pdf\n",
    "- https://en.wikipedia.org/wiki/Baum%E2%80%93Welch_algorithm\n",
    "- http://personal.ee.surrey.ac.uk/Personal/P.Jackson/tutorial/hmm_tut4.pdf"
   ]
  },
  {
   "cell_type": "code",
   "execution_count": null,
   "metadata": {},
   "outputs": [],
   "source": []
  }
 ],
 "metadata": {
  "kernelspec": {
   "display_name": "base",
   "language": "python",
   "name": "base"
  },
  "language_info": {
   "codemirror_mode": {
    "name": "ipython",
    "version": 3
   },
   "file_extension": ".py",
   "mimetype": "text/x-python",
   "name": "python",
   "nbconvert_exporter": "python",
   "pygments_lexer": "ipython3",
   "version": "3.7.4"
  }
 },
 "nbformat": 4,
 "nbformat_minor": 2
}
