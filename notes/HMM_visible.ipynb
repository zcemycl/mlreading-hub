{
 "cells": [
  {
   "cell_type": "code",
   "execution_count": 1,
   "metadata": {},
   "outputs": [],
   "source": [
    "import numpy as np\n",
    "import random\n",
    "import matplotlib.pyplot as plt\n",
    "from tqdm import tqdm\n",
    "from collections import defaultdict\n",
    "\n",
    "class HMM:\n",
    "    def __init__(self):\n",
    "        self.params = defaultdict(dict)\n",
    "        self.o2id,self.id2o = dict(),dict()\n",
    "        self.q2id,self.id2q = dict(),dict()\n",
    "        self.ct,self.ce = dict(),dict()\n",
    "    def _setDistinctObservations(self,distO):\n",
    "        self.o = len(distO)\n",
    "        for i,o in enumerate(distO):\n",
    "            self.o2id[o]=i\n",
    "            self.id2o[i]=o\n",
    "    def _setDistinctHiddens(self,distQ):\n",
    "        self.q = len(distQ)\n",
    "        A = np.random.uniform(0,1,(self.q,self.q))\n",
    "        A /= np.sum(A,axis=1,keepdims=1)\n",
    "        B = np.random.uniform(0,1,(self.q,self.o))\n",
    "        B /= np.sum(B,axis=1,keepdims=1)\n",
    "        pi = np.random.uniform(0,1,self.q)\n",
    "        pi/= np.sum(pi)\n",
    "        self.A = defaultdict(dict)\n",
    "        self.B = defaultdict(dict)\n",
    "        self.pi = {}\n",
    "        for i,q in enumerate(distQ):\n",
    "            self.q2id[q]=i\n",
    "            self.id2q[i]=q\n",
    "            for j,q_ in enumerate(distQ):\n",
    "                self.A[i][j] = A[i][j]\n",
    "            for k in range(self.o):\n",
    "                self.B[i][k] = B[i][k]\n",
    "            self.pi[i] = pi[i]\n",
    "    def setDistinctHiddensAndObservations(self,distO,distQ):\n",
    "        self._setDistinctObservations(distO)\n",
    "        self._setDistinctHiddens(distQ)\n",
    "    def setSpecificEmit(self,qSym,emitDict):\n",
    "        assert sum(emitDict.values())==1, \"Sum of probability is not 1\"\n",
    "        for i in self.B[self.q2id[qSym]].keys():\n",
    "            # assert in dict\n",
    "            self.B[self.q2id[qSym]][i]=emitDict.get(self.id2o[i],0)\n",
    "        assert sum(self.B[self.q2id[qSym]].values())==1, \"Sum of probability is not 1\"\n",
    "    def setSpecificTransit(self,qSym,tranDict):\n",
    "        assert sum(tranDict.values())==1, \"Sum of probability is not 1\"\n",
    "        for i in self.A[self.q2id[qSym]].keys():\n",
    "            self.A[self.q2id[qSym]][i]=tranDict.get(self.id2q[i],0)\n",
    "        assert sum(self.A[self.q2id[qSym]].values())==1, \"Sum of probability is not 1\"\n",
    "    def setInitial(self,initDict):\n",
    "        assert sum(initDict.values())==1, \"Sum of probability is not 1\"\n",
    "        for i in self.pi.keys():\n",
    "            # assert in dict\n",
    "            self.pi[i]=initDict.get(self.id2q[i],0)\n",
    "        assert sum(self.pi.values())==1, \"Sum of probability is not 1\"\n",
    "    def computeLikelihood(self,Os):\n",
    "        raise NotImplementedError(\"You need to implement function1 when you inherit from Model\")\n",
    "    def decode(self,Os):\n",
    "        raise NotImplementedError(\"You need to implement function1 when you inherit from Model\")\n",
    "    def learn(self,Qs,Os):\n",
    "        raise NotImplementedError(\"You need to implement function1 when you inherit from Model\")"
   ]
  },
  {
   "cell_type": "code",
   "execution_count": 2,
   "metadata": {},
   "outputs": [],
   "source": [
    "def likelihood(self,Os):\n",
    "    Length = len(Os)\n",
    "    alpha = np.zeros((self.q,Length))\n",
    "    for t,o in enumerate(Os):\n",
    "        for i in range(self.q):\n",
    "            if t==0:\n",
    "                alpha[i,t]=self.pi[i]*self.B[i][self.o2id[o]]\n",
    "            else:\n",
    "                for j in range(self.q):\n",
    "                    alpha[i,t]+=alpha[j,t-1]*self.A[j][i]\n",
    "                alpha[i,t]*=self.B[i][self.o2id[o]]\n",
    "    return sum(alpha[:,-1]),alpha"
   ]
  },
  {
   "cell_type": "code",
   "execution_count": 3,
   "metadata": {},
   "outputs": [],
   "source": [
    "def decode(self,Os):\n",
    "    Length = len(Os)\n",
    "    V = np.zeros((self.q,Length))\n",
    "    bt = [0]*Length\n",
    "    for t,o in enumerate(Os):\n",
    "        for i in range(self.q):\n",
    "            if t==0:\n",
    "                V[i,t]=self.pi[i]*self.B[i][self.o2id[o]]\n",
    "            else:\n",
    "                for j in range(self.q):\n",
    "                    V[i,t]=max(V[i,t],V[j,t-1]*self.A[j][i])\n",
    "                V[i,t]*=self.B[i][self.o2id[o]]\n",
    "        bt[t]=self.id2q[np.argmax(V[:,t])]\n",
    "    P_ = max(V[:,-1])\n",
    "    return P_,bt"
   ]
  },
  {
   "cell_type": "code",
   "execution_count": 4,
   "metadata": {},
   "outputs": [],
   "source": [
    "def samples(self,length):\n",
    "    Qs,Os = [],[]\n",
    "    for i in range(length):\n",
    "        if i==0:\n",
    "            q = np.random.choice(self.q,1,\n",
    "                    p=list(self.pi.values()))\n",
    "        else:\n",
    "            q = np.random.choice(self.q,1,\n",
    "                    p=list(self.A[q[0]].values()))\n",
    "        o = np.random.choice(self.o,1,\n",
    "                    p=list(self.B[q[0]].values()))\n",
    "        Qs.append(self.id2q[q[0]])\n",
    "        Os.append(self.id2o[o[0]])\n",
    "    return Qs,Os"
   ]
  },
  {
   "cell_type": "markdown",
   "metadata": {},
   "source": [
    "> Transition Probability Matrix $A$\n",
    "$$\\hat{a}_{ij}=\\frac{1+\\sum_{r=1}^R\\sum_{t=1}^{T-1} \\mathbb{I}_{i\\rightarrow j}^{tr}}{Q+\\sum_{r=1}^R\\sum_{t=1}^{T-1} \\mathbb{I}_{i}^{tr}}$$\n",
    "\n",
    "> Emission Probabilities $B$\n",
    "$$\\hat{b}_i(v_k) = \\frac{1+\\sum_{r=1}^R\\sum_{t=1}^{T} \\mathbb{I}_{i\\rightarrow v_k}^{tr}}{O+\\sum_{r=1}^R\\sum_{t=1}^{T} \\mathbb{I}_{i}^{tr}}$$\n",
    "\n",
    "> Initial Probabilites $\\pi$\n",
    "$$\\hat{\\pi}_i = \\frac{\\sum_{r=1}^R\\mathbb{I}_{i}^{1r}}{R}$$"
   ]
  },
  {
   "cell_type": "code",
   "execution_count": 5,
   "metadata": {},
   "outputs": [],
   "source": [
    "def learn(self,Qs,Os):\n",
    "    Length = len(Qs)\n",
    "    if Length==0: return \n",
    "    for i,(q,o) in enumerate(zip(Qs,Os)):\n",
    "        q_ = self.q2id[q]\n",
    "        o_ = self.o2id[o]\n",
    "        if i==0:\n",
    "            self.ct[None]=self.ct.get(None,0)+1\n",
    "            self.ct[(None,q_)]=self.ct.get((None,q_),0)+1\n",
    "        if i!=Length-1:\n",
    "            q_1 = self.q2id[Qs[i+1]]\n",
    "            self.ct[q_]=self.ct.get(q_,0)+1\n",
    "            self.ct[(q_,q_1)]=self.ct.get((q_,q_1),0)+1\n",
    "        self.ce[q_]=self.ce.get(q_,0)+1\n",
    "        self.ce[(q_,o_)]=self.ce.get((q_,o_),0)+1\n",
    "    for i in range(self.q):\n",
    "        self.pi[i]=self.ct.get((None,i),0)/self.ct.get(None,0)\n",
    "        for j in range(self.q):\n",
    "            self.A[i][j]=(self.ct.get((i,j),0)+1)/(self.ct.get(i,0)+self.q)\n",
    "        for o in range(self.o):\n",
    "            self.B[i][o]=(self.ce.get((i,o),0)+1)/(self.ce.get(i,0)+self.o)\n",
    "#         print(sum(self.A[i].values()))\n",
    "#         print(sum(self.B[i].values()))\n",
    "#     print(sum(self.pi.values()))\n",
    "#     print('------')"
   ]
  },
  {
   "cell_type": "code",
   "execution_count": 6,
   "metadata": {},
   "outputs": [],
   "source": [
    "def add_patch(obj):\n",
    "    obj.computeLikelihood = lambda x:likelihood(obj,x)\n",
    "    obj.decode = lambda x:decode(obj,x)\n",
    "    obj.samples = lambda x: samples(obj,x)\n",
    "    obj.learn = lambda x,y: learn(obj,x,y)\n",
    "    return obj"
   ]
  },
  {
   "cell_type": "code",
   "execution_count": 7,
   "metadata": {},
   "outputs": [],
   "source": [
    "hmm = HMM()\n",
    "hmm.setDistinctHiddensAndObservations([0,1,2,3],[\"H\",\"C\"])\n",
    "hmm.setInitial({\"H\":0.7,\"C\":0.3})\n",
    "hmm.setSpecificTransit(\"H\",{\"H\":0.7,\"C\":0.3})\n",
    "hmm.setSpecificTransit(\"C\",{\"H\":0.8,\"C\":0.2})\n",
    "hmm.setSpecificEmit(\"H\",{0:0.2,1:0.7,2:0.05,3:0.05})\n",
    "hmm.setSpecificEmit(\"C\",{0:0.9,1:0.05,2:0.05})"
   ]
  },
  {
   "cell_type": "code",
   "execution_count": 8,
   "metadata": {},
   "outputs": [],
   "source": [
    "hmm = add_patch(hmm)\n",
    "N,T = 1000,6\n",
    "Qsamples,Osamples = [],[]\n",
    "for _ in range(N):\n",
    "    Qs,Os = hmm.samples(T)\n",
    "    Osamples.append(Os)\n",
    "    Qsamples.append(Qs)"
   ]
  },
  {
   "cell_type": "code",
   "execution_count": 9,
   "metadata": {},
   "outputs": [],
   "source": [
    "model = HMM()\n",
    "model.setDistinctHiddensAndObservations([0,1,2,3],[\"H\",\"C\"])\n",
    "model = add_patch(model)"
   ]
  },
  {
   "cell_type": "code",
   "execution_count": 10,
   "metadata": {},
   "outputs": [
    {
     "name": "stderr",
     "output_type": "stream",
     "text": [
      "100%|██████████| 1000/1000 [00:00<00:00, 73873.29it/s]\n"
     ]
    }
   ],
   "source": [
    "for i in tqdm(range(N)):\n",
    "    model.learn(Qsamples[i],Osamples[i])"
   ]
  },
  {
   "cell_type": "code",
   "execution_count": 11,
   "metadata": {},
   "outputs": [
    {
     "name": "stdout",
     "output_type": "stream",
     "text": [
      "{None: 1000, (None, 0): 713, 0: 3635, (0, 0): 2545, (0, 1): 1090, 1: 1365, (1, 1): 261, (1, 0): 1104, (None, 1): 287}\n",
      "{0: 4362, (0, 1): 3004, 1: 1638, (1, 0): 1492, (0, 0): 914, (1, 2): 68, (0, 3): 240, (0, 2): 204, (1, 1): 78}\n"
     ]
    }
   ],
   "source": [
    "print(model.ct)\n",
    "print(model.ce)"
   ]
  },
  {
   "cell_type": "code",
   "execution_count": 12,
   "metadata": {},
   "outputs": [
    {
     "name": "stdout",
     "output_type": "stream",
     "text": [
      "{0: 0.713, 1: 0.287}\n",
      "defaultdict(<class 'dict'>, {0: {0: 0.7000274951883421, 1: 0.29997250481165794}, 1: {0: 0.8083394294074616, 1: 0.1916605705925384}})\n",
      "defaultdict(<class 'dict'>, {0: {0: 0.20957398076042144, 1: 0.6882730187814934, 2: 0.04695373339441136, 3: 0.05519926706367384}, 1: {0: 0.9092570036540804, 1: 0.04811205846528624, 2: 0.04202192448233861, 3: 0.0006090133982947625}})\n"
     ]
    }
   ],
   "source": [
    "print(model.pi)\n",
    "print(model.A)\n",
    "print(model.B)"
   ]
  },
  {
   "cell_type": "markdown",
   "metadata": {},
   "source": [
    "https://www.cs.tau.ac.il/~rshamir/algmb/00/scribe00/html/lec06/node6.html"
   ]
  },
  {
   "cell_type": "code",
   "execution_count": null,
   "metadata": {},
   "outputs": [],
   "source": []
  }
 ],
 "metadata": {
  "kernelspec": {
   "display_name": "Python 3",
   "language": "python",
   "name": "python3"
  },
  "language_info": {
   "codemirror_mode": {
    "name": "ipython",
    "version": 3
   },
   "file_extension": ".py",
   "mimetype": "text/x-python",
   "name": "python",
   "nbconvert_exporter": "python",
   "pygments_lexer": "ipython3",
   "version": "3.7.6"
  }
 },
 "nbformat": 4,
 "nbformat_minor": 4
}
