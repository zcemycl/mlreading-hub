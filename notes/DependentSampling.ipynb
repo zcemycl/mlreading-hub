{
 "cells": [
  {
   "cell_type": "code",
   "execution_count": 1,
   "metadata": {},
   "outputs": [],
   "source": [
    "import numpy as np\n",
    "import random\n",
    "import matplotlib.pyplot as plt\n",
    "from tqdm import tqdm\n",
    "from collections import defaultdict\n",
    "\n",
    "class HMM:\n",
    "    def __init__(self):\n",
    "        self.params = defaultdict(dict)\n",
    "        self.o2id,self.id2o = dict(),dict()\n",
    "        self.q2id,self.id2q = dict(),dict()\n",
    "        self.ct,self.ce = dict(),dict()\n",
    "    def _setDistinctObservations(self,distO):\n",
    "        self.o = len(distO)\n",
    "        for i,o in enumerate(distO):\n",
    "            self.o2id[o]=i\n",
    "            self.id2o[i]=o\n",
    "    def _setDistinctHiddens(self,distQ):\n",
    "        self.q = len(distQ)\n",
    "        A = np.random.uniform(0,1,(self.q,self.q))\n",
    "        A /= np.sum(A,axis=1,keepdims=1)\n",
    "        B = np.random.uniform(0,1,(self.q,self.o))\n",
    "        B /= np.sum(B,axis=1,keepdims=1)\n",
    "        pi = np.random.uniform(0,1,self.q)\n",
    "        pi/= np.sum(pi)\n",
    "        self.A = defaultdict(dict)\n",
    "        self.B = defaultdict(dict)\n",
    "        self.pi = {}\n",
    "        for i,q in enumerate(distQ):\n",
    "            self.q2id[q]=i\n",
    "            self.id2q[i]=q\n",
    "            for j,q_ in enumerate(distQ):\n",
    "                self.A[i][j] = A[i][j]\n",
    "            for k in range(self.o):\n",
    "                self.B[i][k] = B[i][k]\n",
    "            self.pi[i] = pi[i]\n",
    "    def setDistinctHiddensAndObservations(self,distO,distQ):\n",
    "        self._setDistinctObservations(distO)\n",
    "        self._setDistinctHiddens(distQ)\n",
    "    def setSpecificEmit(self,qSym,emitDict):\n",
    "        assert round(sum(emitDict.values()))==1, \"Sum of probability is not 1\"\n",
    "        for i in self.B[self.q2id[qSym]].keys():\n",
    "            # assert in dict\n",
    "            self.B[self.q2id[qSym]][i]=emitDict.get(self.id2o[i],0)\n",
    "        assert round(sum(self.B[self.q2id[qSym]].values()))==1, \"Sum of probability is not 1\"\n",
    "    def setSpecificTransit(self,qSym,tranDict):\n",
    "        assert round(sum(tranDict.values()))==1, \"Sum of probability is not 1\"\n",
    "        for i in self.A[self.q2id[qSym]].keys():\n",
    "            self.A[self.q2id[qSym]][i]=tranDict.get(self.id2q[i],0)\n",
    "        assert round(sum(self.A[self.q2id[qSym]].values()))==1, \"Sum of probability is not 1\"\n",
    "    def setInitial(self,initDict):\n",
    "        assert round(sum(initDict.values()))==1, \"Sum of probability is not 1\"\n",
    "        for i in self.pi.keys():\n",
    "            # assert in dict\n",
    "            self.pi[i]=initDict.get(self.id2q[i],0)\n",
    "        assert round(sum(self.pi.values()))==1, \"Sum of probability is not 1\"\n",
    "    def computeLikelihood(self,Os):\n",
    "        raise NotImplementedError(\"You need to implement function1 when you inherit from Model\")\n",
    "    def decode(self,Os):\n",
    "        raise NotImplementedError(\"You need to implement function1 when you inherit from Model\")\n",
    "    def learn(self,Qs,Os):\n",
    "        raise NotImplementedError(\"You need to implement function1 when you inherit from Model\")"
   ]
  },
  {
   "cell_type": "code",
   "execution_count": 2,
   "metadata": {},
   "outputs": [],
   "source": [
    "def likelihood(self,Os):\n",
    "    Length = len(Os)\n",
    "    alpha = np.zeros((self.q,Length))\n",
    "    for t,o in enumerate(Os):\n",
    "        for i in range(self.q):\n",
    "            if t==0:\n",
    "                alpha[i,t]=self.pi[i]*self.B[i][self.o2id[o]]\n",
    "            else:\n",
    "                for j in range(self.q):\n",
    "                    alpha[i,t]+=alpha[j,t-1]*self.A[j][i]\n",
    "                alpha[i,t]*=self.B[i][self.o2id[o]]\n",
    "    return sum(alpha[:,-1]),alpha\n",
    "def decode(self,Os):\n",
    "    Length = len(Os)\n",
    "    V = np.zeros((self.q,Length))\n",
    "    bt = [0]*Length\n",
    "    for t,o in enumerate(Os):\n",
    "        for i in range(self.q):\n",
    "            if t==0:\n",
    "                V[i,t]=self.pi[i]*self.B[i][self.o2id[o]]\n",
    "            else:\n",
    "                for j in range(self.q):\n",
    "                    V[i,t]=max(V[i,t],V[j,t-1]*self.A[j][i])\n",
    "                V[i,t]*=self.B[i][self.o2id[o]]\n",
    "        bt[t]=self.id2q[np.argmax(V[:,t])]\n",
    "    P_ = max(V[:,-1])\n",
    "    return P_,bt\n",
    "def samples(self,length):\n",
    "    Qs,Os = [],[]\n",
    "    for i in range(length):\n",
    "        if i==0:\n",
    "            q = np.random.choice(self.q,1,\n",
    "                    p=list(self.pi.values()))\n",
    "        else:\n",
    "            q = np.random.choice(self.q,1,\n",
    "                    p=list(self.A[q[0]].values()))\n",
    "        o = np.random.choice(self.o,1,\n",
    "                    p=list(self.B[q[0]].values()))\n",
    "        Qs.append(self.id2q[q[0]])\n",
    "        Os.append(self.id2o[o[0]])\n",
    "    return Qs,Os\n",
    "def learn(self,Qs,Os):\n",
    "    Length = len(Qs)\n",
    "    if Length==0: return \n",
    "    for i,(q,o) in enumerate(zip(Qs,Os)):\n",
    "        q_ = self.q2id[q]\n",
    "        o_ = self.o2id[o]\n",
    "        if i==0:\n",
    "            self.ct[None]=self.ct.get(None,0)+1\n",
    "            self.ct[(None,q_)]=self.ct.get((None,q_),0)+1\n",
    "        if i!=Length-1:\n",
    "            q_1 = self.q2id[Qs[i+1]]\n",
    "            self.ct[q_]=self.ct.get(q_,0)+1\n",
    "            self.ct[(q_,q_1)]=self.ct.get((q_,q_1),0)+1\n",
    "        self.ce[q_]=self.ce.get(q_,0)+1\n",
    "        self.ce[(q_,o_)]=self.ce.get((q_,o_),0)+1\n",
    "    for i in range(self.q):\n",
    "        self.pi[i]=self.ct.get((None,i),0)/self.ct.get(None,0)\n",
    "        for j in range(self.q):\n",
    "            self.A[i][j]=(self.ct.get((i,j),0)+1)/(self.ct.get(i,0)+self.q)\n",
    "        for o in range(self.o):\n",
    "            self.B[i][o]=(self.ce.get((i,o),0)+1)/(self.ce.get(i,0)+self.o)\n",
    "def add_patch(obj):\n",
    "    obj.computeLikelihood = lambda x:likelihood(obj,x)\n",
    "    obj.decode = lambda x:decode(obj,x)\n",
    "    obj.samples = lambda x: samples(obj,x)\n",
    "    obj.learn = lambda x,y: learn(obj,x,y)\n",
    "    return obj"
   ]
  },
  {
   "cell_type": "code",
   "execution_count": 3,
   "metadata": {},
   "outputs": [],
   "source": [
    "def estimateT(s):\n",
    "    res,total = [],0\n",
    "    for i,n in enumerate(s):\n",
    "        total+=1+n\n",
    "        res.append(total/(i+1))\n",
    "    return res"
   ]
  },
  {
   "cell_type": "markdown",
   "metadata": {},
   "source": [
    "#### Markovian Die (Dependent Sampling) vs Die (Independent Sampling)\n",
    "- Examples of Independent Sampling\n",
    "    1. Importance Sampling\n",
    "    2. Inverse Transform\n",
    "    3. Rejection Sampling\n",
    "- Examples of Dependent Sampling\n",
    "    1. Random Walk Metropolis\n",
    "    2. Metropolis Hastings\n",
    "    3. HMC\n",
    "    4. Gibbs Sampling"
   ]
  },
  {
   "cell_type": "code",
   "execution_count": 4,
   "metadata": {},
   "outputs": [],
   "source": [
    "class experiment:\n",
    "    def __init__(self):\n",
    "        self.mu = 3.5\n",
    "        self._init_markovian_die()\n",
    "        self._init_die()\n",
    "    def _init_markovian_die(self):\n",
    "        mDie = HMM()\n",
    "        mDie.setDistinctHiddensAndObservations(\n",
    "            list(range(6)),list(range(6)))\n",
    "        mDie.setInitial({i:1/6 for i in range(6)})\n",
    "        mDie = add_patch(mDie)\n",
    "        for i in range(6):\n",
    "            if i==0:\n",
    "                mDie.setSpecificTransit(i,{5:0.5,i+1:0.5})\n",
    "            elif i==5:\n",
    "                mDie.setSpecificTransit(i,{i-1:0.5,0:0.5})\n",
    "            else:\n",
    "                mDie.setSpecificTransit(i,{i-1:0.5,i+1:0.5})\n",
    "        self.mDie = mDie\n",
    "    def _init_die(self):\n",
    "        die = HMM()\n",
    "        die.setDistinctHiddensAndObservations(\n",
    "            list(range(6)),list(range(6)))\n",
    "        die.setInitial({i:1/6 for i in range(6)})\n",
    "        die = add_patch(die)\n",
    "        for i in range(6):\n",
    "            die.setSpecificTransit(i,{i:1/6 for i in range(6)})\n",
    "        self.die = die\n",
    "    def single_experiment_compare_convergence(self,T):\n",
    "        Qsm,_ = self.mDie.samples(T)\n",
    "        Qs,_ = self.die.samples(T)\n",
    "        self.Qsm = Qsm\n",
    "        self.Qs = Qs\n",
    "        plt.plot(range(T),estimateT(Qsm),label='Markovian Die')\n",
    "        plt.plot(range(T),estimateT(Qs),label='Die')\n",
    "        plt.axhline(y=self.mu,label='Mean',color='r')\n",
    "        plt.ylabel('Expected Reward')\n",
    "        plt.xlabel('sample size')\n",
    "        plt.legend()\n",
    "    def single_experiment_uniformOrNot(self,Q):\n",
    "        _ = plt.hist(np.array(Q)+1,bins=6,\n",
    "                edgecolor='black',linewidth=1.2)\n",
    "        plt.xlabel('Face Value')\n",
    "        plt.ylabel('Count')\n",
    "    def multiple_experiments_errorHist(self,sampler,T=100,\n",
    "                iters=1000,plot=False):\n",
    "        mm,me = [],0\n",
    "        for i in tqdm(range(iters)):\n",
    "            Q,_ = sampler.samples(T)\n",
    "            dif = np.array(estimateT(Q))-self.mu\n",
    "            m = np.mean(dif)\n",
    "            me+=dif**2\n",
    "            mm.append(m)\n",
    "        me = np.sqrt(me/iters)\n",
    "        self.me,self.mm = me,mm\n",
    "        if plot:\n",
    "            _ = plt.hist(mm,bins=25,edgecolor='black',linewidth=1.2)\n",
    "            plt.xlabel('Error')\n",
    "            plt.ylabel('Count')\n",
    "    def multiple_experiments_effective_sample_size(self,\n",
    "                T=100,iters=1000):\n",
    "        self.multiple_experiments_errorHist(self.mDie,T,iters)\n",
    "        mem = self.me\n",
    "        self.multiple_experiments_errorHist(self.die,T,iters)\n",
    "        me = self.me\n",
    "        plt.plot(range(T),mem,label='Dependent')\n",
    "        plt.plot(range(T),me,label='Independent')\n",
    "        plt.xlabel('sample size')\n",
    "        plt.ylabel('average error (RMSE)')\n",
    "        plt.legend()"
   ]
  },
  {
   "cell_type": "code",
   "execution_count": 5,
   "metadata": {},
   "outputs": [
    {
     "data": {
      "image/png": "[encoded data removed]",
      "text/plain": [
       "<Figure size 432x288 with 1 Axes>"
      ]
     },
     "metadata": {
      "needs_background": "light"
     },
     "output_type": "display_data"
    }
   ],
   "source": [
    "e = experiment()\n",
    "e.single_experiment_compare_convergence(100)"
   ]
  },
  {
   "cell_type": "code",
   "execution_count": 6,
   "metadata": {},
   "outputs": [
    {
     "data": {
      "image/png": "[encoded data removed]",
      "text/plain": [
       "<Figure size 432x288 with 1 Axes>"
      ]
     },
     "metadata": {
      "needs_background": "light"
     },
     "output_type": "display_data"
    }
   ],
   "source": [
    "e.single_experiment_uniformOrNot(e.Qsm)"
   ]
  },
  {
   "cell_type": "code",
   "execution_count": 7,
   "metadata": {},
   "outputs": [
    {
     "data": {
      "image/png": "[encoded data removed]",
      "text/plain": [
       "<Figure size 432x288 with 1 Axes>"
      ]
     },
     "metadata": {
      "needs_background": "light"
     },
     "output_type": "display_data"
    }
   ],
   "source": [
    "e.single_experiment_uniformOrNot(e.Qs)"
   ]
  },
  {
   "cell_type": "code",
   "execution_count": 8,
   "metadata": {},
   "outputs": [
    {
     "name": "stderr",
     "output_type": "stream",
     "text": [
      "100%|██████████| 1000/1000 [00:03<00:00, 308.32it/s]\n"
     ]
    },
    {
     "data": {
      "image/png": "[encoded data removed]",
      "text/plain": [
       "<Figure size 432x288 with 1 Axes>"
      ]
     },
     "metadata": {
      "needs_background": "light"
     },
     "output_type": "display_data"
    }
   ],
   "source": [
    "e.multiple_experiments_errorHist(e.mDie,T=100,iters=1000,plot=True)"
   ]
  },
  {
   "cell_type": "code",
   "execution_count": 9,
   "metadata": {},
   "outputs": [
    {
     "name": "stderr",
     "output_type": "stream",
     "text": [
      "100%|██████████| 1000/1000 [00:03<00:00, 300.76it/s]\n"
     ]
    },
    {
     "data": {
      "image/png": "[encoded data removed]",
      "text/plain": [
       "<Figure size 432x288 with 1 Axes>"
      ]
     },
     "metadata": {
      "needs_background": "light"
     },
     "output_type": "display_data"
    }
   ],
   "source": [
    "e.multiple_experiments_errorHist(e.die,T=100,iters=1000,plot=True)"
   ]
  },
  {
   "cell_type": "code",
   "execution_count": 10,
   "metadata": {},
   "outputs": [
    {
     "name": "stderr",
     "output_type": "stream",
     "text": [
      "100%|██████████| 1000/1000 [00:03<00:00, 306.22it/s]\n",
      "100%|██████████| 1000/1000 [00:03<00:00, 308.34it/s]\n"
     ]
    },
    {
     "data": {
      "image/png": "[encoded data removed]",
      "text/plain": [
       "<Figure size 432x288 with 1 Axes>"
      ]
     },
     "metadata": {
      "needs_background": "light"
     },
     "output_type": "display_data"
    }
   ],
   "source": [
    "e.multiple_experiments_effective_sample_size()"
   ]
  },
  {
   "cell_type": "markdown",
   "metadata": {},
   "source": [
    "**Effective Sample Size** is defined as follows,\n",
    "$$ESS = \\frac{mT}{1+\\sum_{J=1}^{T'}\\hat{\\rho}_J}$$\n",
    "\n",
    "where m total sample size, T sample size for each markov chain, $\\hat{\\rho}$ autocorrelation which the slope between $\\theta_t$ and $\\{\\theta\\}_{0}^{t-1}$.\n",
    "\n",
    "1. I guess, markovian die has $\\rho=2$ and die has $\\rho=6$, so die has better effective sample size. \n",
    "2. The higher the autocorrelation is, the lower the ESS."
   ]
  },
  {
   "cell_type": "code",
   "execution_count": null,
   "metadata": {},
   "outputs": [],
   "source": []
  }
 ],
 "metadata": {
  "kernelspec": {
   "display_name": "Python 3",
   "language": "python",
   "name": "python3"
  },
  "language_info": {
   "codemirror_mode": {
    "name": "ipython",
    "version": 3
   },
   "file_extension": ".py",
   "mimetype": "text/x-python",
   "name": "python",
   "nbconvert_exporter": "python",
   "pygments_lexer": "ipython3",
   "version": "3.7.6"
  }
 },
 "nbformat": 4,
 "nbformat_minor": 4
}
