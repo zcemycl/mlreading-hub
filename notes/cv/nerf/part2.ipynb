{
 "cells": [
  {
   "cell_type": "markdown",
   "metadata": {},
   "source": [
    "<img src=\"../../resources/Pinhole.svg.png\" style=\"background-color: white\" alt=\"Alternative text\" />\n",
    "<img src=\"../../resources/Pinhole2.svg.png\" style=\"background-color: white\" alt=\"Alternative text\" />"
   ]
  },
  {
   "cell_type": "markdown",
   "metadata": {},
   "source": [
    "![image3](../../resources/Pinhole-Camera-Model-ideal-projection-of-a-3D-object-on-a-2D-image.png)\n",
    "![image4](../../resources/3-s2.0-B9780128123096000038-f03-19-9780128123096.jpg)"
   ]
  },
  {
   "cell_type": "code",
   "execution_count": null,
   "metadata": {},
   "outputs": [],
   "source": []
  }
 ],
 "metadata": {
  "kernelspec": {
   "display_name": "base",
   "language": "python",
   "name": "base"
  },
  "language_info": {
   "codemirror_mode": {
    "name": "ipython",
    "version": 3
   },
   "file_extension": ".py",
   "mimetype": "text/x-python",
   "name": "python",
   "nbconvert_exporter": "python",
   "pygments_lexer": "ipython3",
   "version": "3.7.4"
  }
 },
 "nbformat": 4,
 "nbformat_minor": 2
}
