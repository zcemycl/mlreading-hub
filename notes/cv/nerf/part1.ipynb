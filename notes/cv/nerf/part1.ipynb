{
 "cells": [
  {
   "cell_type": "code",
   "execution_count": 1,
   "metadata": {},
   "outputs": [
    {
     "name": "stdout",
     "output_type": "stream",
     "text": [
      "True\n"
     ]
    }
   ],
   "source": [
    "import torch \n",
    "print(torch.cuda.is_available())\n",
    "import numpy as np\n",
    "from tqdm import tqdm\n",
    "import matplotlib.pyplot as plt"
   ]
  },
  {
   "cell_type": "code",
   "execution_count": 2,
   "metadata": {},
   "outputs": [],
   "source": [
    "def simulator(x, t=3):\n",
    "    x0, v0 = x[:2], x[2:]\n",
    "    a = torch.tensor([0, -9.81])\n",
    "    v = v0 + a*t\n",
    "    x = x0 + v0*t + .5*a*t**2\n",
    "    return torch.cat((x,v))"
   ]
  },
  {
   "cell_type": "code",
   "execution_count": 3,
   "metadata": {
    "scrolled": true
   },
   "outputs": [
    {
     "name": "stdout",
     "output_type": "stream",
     "text": [
      "tensor([ 30.0000, -14.1450,  10.0000, -19.4300])\n"
     ]
    }
   ],
   "source": [
    "x0 = torch.tensor([0, 0])\n",
    "v0 = torch.tensor([10, 10])\n",
    "x = torch.cat([x0, v0])\n",
    "\n",
    "b = simulator(x, t=3)\n",
    "print(b)"
   ]
  },
  {
   "cell_type": "markdown",
   "metadata": {},
   "source": [
    "### Our aim\n",
    "To minimize the following function by finding a suitable `x`, \n",
    "$$\\arg\\min_x \\|A(x)-b\\|^2_2$$"
   ]
  },
  {
   "cell_type": "markdown",
   "metadata": {},
   "source": [
    "To reconstruct the 3d model, you can imagine there is an imaginary model which takes in `x` as angle and returns `A(x)` as reconstructed 3d projection. It is then compared with `b` as expected projection. The model `A` should represent the 3d voxel itself."
   ]
  },
  {
   "cell_type": "code",
   "execution_count": 4,
   "metadata": {},
   "outputs": [],
   "source": [
    "x = torch.tensor([0., 0., 0., 0.], requires_grad=True)\n",
    "optim = torch.optim.SGD({x}, lr=1e-3)\n",
    "training_loss = []\n",
    "for epoch in range(1000):\n",
    "    Ax = simulator(x, t=3)\n",
    "    loss = ((Ax-b)**2).mean()\n",
    "    optim.zero_grad()\n",
    "    loss.backward()\n",
    "    optim.step()\n",
    "    training_loss.append(loss.item())"
   ]
  },
  {
   "cell_type": "code",
   "execution_count": 5,
   "metadata": {},
   "outputs": [
    {
     "data": {
      "image/png": "[encoded data removed]",
      "text/plain": [
       "<Figure size 640x480 with 1 Axes>"
      ]
     },
     "metadata": {},
     "output_type": "display_data"
    },
    {
     "name": "stdout",
     "output_type": "stream",
     "text": [
      "Prediction:  [2.6375482 2.6375484 9.159265  9.159265 ] [ 30.114653 -14.030348   9.159016 -20.270985]\n",
      "Original:  [ 0  0 10 10] [ 30.    -14.145  10.    -19.43 ]\n"
     ]
    }
   ],
   "source": [
    "plt.plot(training_loss)\n",
    "plt.show()\n",
    "print(\"Prediction: \", x.detach().numpy(), Ax.detach().numpy())\n",
    "print(\"Original: \", torch.cat([x0, v0]).numpy(), b.numpy())"
   ]
  },
  {
   "cell_type": "code",
   "execution_count": null,
   "metadata": {},
   "outputs": [],
   "source": []
  }
 ],
 "metadata": {
  "kernelspec": {
   "display_name": "base",
   "language": "python",
   "name": "base"
  },
  "language_info": {
   "codemirror_mode": {
    "name": "ipython",
    "version": 3
   },
   "file_extension": ".py",
   "mimetype": "text/x-python",
   "name": "python",
   "nbconvert_exporter": "python",
   "pygments_lexer": "ipython3",
   "version": "3.7.4"
  }
 },
 "nbformat": 4,
 "nbformat_minor": 2
}
