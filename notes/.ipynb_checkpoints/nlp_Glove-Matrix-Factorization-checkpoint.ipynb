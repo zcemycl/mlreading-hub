{
 "cells": [
  {
   "cell_type": "code",
   "execution_count": 1,
   "metadata": {},
   "outputs": [
    {
     "name": "stderr",
     "output_type": "stream",
     "text": [
      "[nltk_data] Downloading package words to /home/yui/nltk_data...\n",
      "[nltk_data]   Package words is already up-to-date!\n",
      "[nltk_data] Downloading package wordnet to /home/yui/nltk_data...\n",
      "[nltk_data]   Package wordnet is already up-to-date!\n",
      "[nltk_data] Downloading package averaged_perceptron_tagger to\n",
      "[nltk_data]     /home/yui/nltk_data...\n",
      "[nltk_data]   Package averaged_perceptron_tagger is already up-to-\n",
      "[nltk_data]       date!\n",
      "[nltk_data] Downloading package brown to /home/yui/nltk_data...\n",
      "[nltk_data]   Package brown is already up-to-date!\n",
      "[nltk_data] Downloading package stopwords to /home/yui/nltk_data...\n",
      "[nltk_data]   Package stopwords is already up-to-date!\n"
     ]
    },
    {
     "name": "stdout",
     "output_type": "stream",
     "text": [
      "Number of words:  100554\n",
      "Number of sentences:  4623\n"
     ]
    },
    {
     "name": "stderr",
     "output_type": "stream",
     "text": [
      "\r",
      "  0%|          | 0/2000 [00:00<?, ?it/s]"
     ]
    },
    {
     "name": "stdout",
     "output_type": "stream",
     "text": [
      "Number of unique words (including capitalized) 14394\n"
     ]
    },
    {
     "name": "stderr",
     "output_type": "stream",
     "text": [
      "100%|██████████| 2000/2000 [00:03<00:00, 646.25it/s]"
     ]
    },
    {
     "name": "stdout",
     "output_type": "stream",
     "text": [
      "Number of unique words:  3973\n"
     ]
    },
    {
     "name": "stderr",
     "output_type": "stream",
     "text": [
      "\n"
     ]
    }
   ],
   "source": [
    "import numpy as np\n",
    "import matplotlib.pyplot as plt\n",
    "from sklearn.metrics import pairwise_distances\n",
    "import pandas as pd\n",
    "import math\n",
    "import nltk\n",
    "from nltk.corpus import stopwords\n",
    "import string\n",
    "from nltk import word_tokenize\n",
    "nltk.download('words')\n",
    "nltk.download('wordnet')\n",
    "nltk.download('averaged_perceptron_tagger')\n",
    "from nltk.corpus import wordnet\n",
    "from nltk.stem import WordNetLemmatizer\n",
    "from tqdm import tqdm,tqdm_pandas\n",
    "nltk.download('brown')\n",
    "from nltk.corpus import brown\n",
    "from nltk.corpus import stopwords\n",
    "nltk.download('stopwords')\n",
    "import random\n",
    "\n",
    "words = brown.words(categories=\"news\")\n",
    "sents = brown.sents(categories=[\"news\"])\n",
    "\n",
    "print(\"Number of words: \",len(words))\n",
    "print(\"Number of sentences: \",len(sents))\n",
    "print(\"Number of unique words (including capitalized)\",\n",
    "      len(set(words)))\n",
    "\n",
    "def get_wordnet_pos(word):\n",
    "    \"\"\"Map POS tag to first character lemmatize() accepts\"\"\"\n",
    "    tag = nltk.pos_tag([word])[0][1][0].upper()\n",
    "    tag_dict = {\"J\": wordnet.ADJ,\n",
    "                \"N\": wordnet.NOUN,\n",
    "                \"V\": wordnet.VERB,\n",
    "                \"R\": wordnet.ADV}\n",
    "    return tag_dict.get(tag,wordnet.NOUN)\n",
    "\n",
    "def lemmWord(w):\n",
    "    return lem.lemmatize(w,get_wordnet_pos(w))\n",
    "\n",
    "def processCorpus(sents):\n",
    "    w2id,id2w,idx={},{},2\n",
    "    eng = set(nltk.corpus.words.words())\n",
    "    w2id['<s>'],id2w[0]=0,'<s>'\n",
    "    w2id['<e>'],id2w[1]=1,'<e>'\n",
    "    newSents = []\n",
    "    for sent in tqdm(sents):\n",
    "        newSent = [0]\n",
    "        for word in sent:\n",
    "            word = word.lower()\n",
    "            word = lemmWord(word)\n",
    "            if word not in eng:\n",
    "                continue\n",
    "            if word not in w2id:\n",
    "                w2id[word]=idx\n",
    "                id2w[idx]=word\n",
    "                idx+=1\n",
    "            newSent.append(w2id[word])\n",
    "        newSent.append(1)\n",
    "        newSents.append(newSent)\n",
    "    return w2id,id2w,newSents\n",
    "\n",
    "lem = WordNetLemmatizer()\n",
    "w2id,id2w,newSents=processCorpus(sents[:2000])\n",
    "print(\"Number of unique words: \",len(w2id))"
   ]
  },
  {
   "cell_type": "markdown",
   "metadata": {},
   "source": [
    "#### Original Matrix Factorization for User-Movie recommender system\n",
    "The model is given by, \n",
    "\n",
    "$$\\hat{r}_{ij}=w_i^\\top u_j + b_i+c_j+\\mu$$\n",
    "\n",
    "where user bias $b_i$, movie bias $c_j$ and global mean $\\mu$.\n",
    "So the alternating least squares now become,\n",
    "\n",
    "$$\\begin{align*}\n",
    "w_i&=\\bigg(\\sum_{j\\in \\Psi_i}u_ju_j^\\top\\bigg)^{-1}\\sum_{j\\in\\Psi_i}(r_{ij}-b_i-c_j-\\mu)u_j \\\\\n",
    "u_j&= \\bigg(\\sum_{i\\in\\Omega_j }w_iw_i^\\top\\bigg)^{-1}\\sum_{i\\in\\Omega_j}(r_{ij}-b_i-c_j-\\mu)w_i \\\\\n",
    "b_i &= \\frac{1}{|\\Psi_i|}\\sum_{j\\in\\Psi_i}(r_{ij}-w_i^\\top u_j-c_j-\\mu)\\\\\n",
    "c_j &= \\frac{1}{|\\Omega_j|}\\sum_{i\\in\\Omega_j}(r_{ij}-w_i^\\top u_j-b_i-\\mu)\n",
    "\\end{align*}$$\n",
    "\n",
    "Adding regularization terms into loss function, \n",
    "\n",
    "$$J = \\sum_{i,j\\in\\Omega}(r_{ij}-\\hat{r}_{ij})^2+\\lambda \\bigg(\\|W\\|^2_F+\\|U\\|_F^2+\\|b\\|_2^2+\\|c\\|_2^2\\bigg)$$\n",
    "\n",
    "Finally,\n",
    "\n",
    "$$\\begin{align*}\n",
    "w_i&=\\bigg(\\sum_{j\\in \\Psi_i}u_ju_j^\\top + \\lambda I\\bigg)^{-1}\\sum_{j\\in\\Psi_i}(r_{ij}-b_i-c_j-\\mu)u_j \\\\\n",
    "u_j&= \\bigg(\\sum_{i\\in\\Omega_j }w_iw_i^\\top+ \\lambda I\\bigg)^{-1}\\sum_{i\\in\\Omega_j}(r_{ij}-b_i-c_j-\\mu)w_i \\\\\n",
    "b_i &= \\frac{1}{|\\Psi_i|+\\lambda}\\sum_{j\\in\\Psi_i}(r_{ij}-w_i^\\top u_j-c_j-\\mu)\\\\\n",
    "c_j &= \\frac{1}{|\\Omega_j|+\\lambda}\\sum_{i\\in\\Omega_j}(r_{ij}-w_i^\\top u_j-b_i-\\mu)\n",
    "\\end{align*}$$"
   ]
  },
  {
   "cell_type": "code",
   "execution_count": 2,
   "metadata": {},
   "outputs": [],
   "source": [
    "def weight(vec,xmax=100,alpha=.75):\n",
    "    vec[vec<1]=(vec[vec<1]/xmax)**alpha\n",
    "    vec[vec>=1]=1\n",
    "    return vec\n",
    "def log_add1(vec):\n",
    "    return np.log(vec+1)"
   ]
  },
  {
   "cell_type": "markdown",
   "metadata": {},
   "source": [
    "#### Matrix Factorization for Term-Term Matrix\n",
    "The target matrix with elements $X_{ij}$ represent how much time word $i$ appears in context of word $j$. It is calculated as follows,\n",
    "$$X_{ij}\\leftarrow X_{ij}+\\frac{1}{j-i}$$\n",
    "Since it can lead to large value, log scale is applied. To avoid NaN value, one is added before taking the log, \n",
    "\n",
    "$$\\log_{+1}X_{ij}=\\log(X_{ij}+1)$$\n",
    "\n",
    "A weight function is introduced to $X_{ij}$, \n",
    "$$f(X)=\\big(\\frac{X}{X_{max}}\\big)^\\alpha$$\n",
    "where $\\alpha=0.75$ and $X_{max}=100$.\n",
    "\n",
    "This model is predicting log of relations, \n",
    "\n",
    "$$\\log_{+1}X_{ij}\\approx w_i^\\top u_j+b_i+c_j+\\mu$$\n",
    "\n",
    "The cost function is given by, \n",
    "\n",
    "$$J=\\sum^N_{i=1}\\sum^M_{j=1}f(X_{ij})\\bigg(w_i^\\top u_j-\\log_{+1}X_{ij}\\bigg)^2$$\n",
    "\n",
    "The alternating least squares become,\n",
    "\n",
    "$$\\begin{align*}\n",
    "w_i &= \\bigg(\\sum_{j=1}^M f(X_{ij})u_ju_j^\\top\\bigg)^{-1}\\sum^M_{j=1}f(X_{ij})\\bigg(\\log_{+1}X_{ij}-b_i-c_j-\\mu\\bigg)u_j \\\\\n",
    "u_j &= \\bigg(\\sum_{i=1}^Nf(X_{ij})w_iw_i^\\top\\bigg)^{-1}\\sum_{i=1}^Nf(X_{ij})\\bigg(\\log_{+1}X_{ij}-b_i-c_j-\\mu\\bigg)w_i\\\\\n",
    "b_i &= \\frac{1}{\\sum^M_{j=1}f(X_{ij})} \\sum^M_{j=1}f(X_{ij})\\bigg(\\log_{+1}X_{ij}-w_i^\\top u_j-c_j-\\mu\\bigg)\\\\\n",
    "c_j &= \\frac{1}{\\sum^N_{i=1}f(X_{ij})} \\sum^N_{i=1}f(X_{ij})\\bigg(\\log_{+1}X_{ij}-w_i^\\top u_j-b_i-\\mu\\bigg)\n",
    "\\end{align*}$$"
   ]
  },
  {
   "cell_type": "code",
   "execution_count": 3,
   "metadata": {},
   "outputs": [],
   "source": [
    "class MF:\n",
    "    def __init__(self,V,CS=10,k=50):\n",
    "        self.CS = CS\n",
    "        self.V = V\n",
    "        self.k = k\n",
    "        self.X = np.zeros((V,V))\n",
    "        self.W = np.random.randn(V,k)\n",
    "        self.U = np.random.randn(V,k)\n",
    "        self.B = np.random.randn(V)\n",
    "        self.C = np.random.randn(V)\n",
    "        self.reg=1e-2\n",
    "    def setX(self,newSents):\n",
    "        for sent in tqdm(newSents):\n",
    "            n = len(sent)\n",
    "            for i in range(n):\n",
    "                end = i+self.CS+1\n",
    "                if end>n: end=n\n",
    "                for j in range(i+1,end):\n",
    "                    self.X[sent[i],sent[j]]+=1/(j-i)\n",
    "                    self.X[sent[j],sent[i]]+=1/(j-i)\n",
    "        self.fX = weight(self.X)\n",
    "        self.log1X = log_add1(self.X)\n",
    "        self.mu = self.log1X.mean()\n",
    "    def alternatingLS(self,epochs=500):\n",
    "        Js = []\n",
    "        for epoch in tqdm(range(epochs)):\n",
    "            for i in range(self.V):\n",
    "                self.updateW(i)\n",
    "                self.updateB(i)\n",
    "            for j in range(self.V):\n",
    "                self.updateU(j)\n",
    "                self.updateC(j)\n",
    "            loss = self.loss()\n",
    "            Js.append(loss)\n",
    "        return Js\n",
    "    def updateW(self,i):\n",
    "        down=self.reg*np.eye(self.k)+(self.fX[i,:]*self.U.T).dot(self.U)\n",
    "        up=(self.fX[i,:]*(self.log1X[i,:]-self.B[i]-self.C-self.mu)).dot(self.U)\n",
    "        self.W[i]=np.linalg.solve(down,up)\n",
    "    def updateB(self,i):\n",
    "        down=self.fX[i].sum()\n",
    "        up=self.fX[i,:].dot(self.log1X[i,:]-self.W[i].dot(self.U.T)-self.C-self.mu)\n",
    "        self.B[i]=up/down/(1+self.reg)\n",
    "    def updateU(self,j):\n",
    "        down=self.reg*np.eye(self.k)+(self.fX[:,j]*self.W.T).dot(self.W)\n",
    "        up=(self.fX[:,j]*(self.log1X[:,j]-self.B-self.C[j]-self.mu)).dot(self.W)\n",
    "        self.U[j]=np.linalg.solve(down,up)\n",
    "    def updateC(self,j):\n",
    "        down = self.fX[:,j].sum()\n",
    "        up=self.fX[:,j].dot(self.log1X[:,j]-self.W.dot(self.U[j].T)-self.B-self.mu)\n",
    "        self.C[j]=up/down/(1+self.reg)\n",
    "    def loss(self):\n",
    "        tmp = self.W.dot(self.U.T)+self.B.reshape(self.V,1)\n",
    "        tmp+= self.C.reshape(1,self.V)+self.mu-self.log1X\n",
    "        return (self.fX*tmp*tmp).sum()"
   ]
  },
  {
   "cell_type": "code",
   "execution_count": 4,
   "metadata": {},
   "outputs": [
    {
     "name": "stderr",
     "output_type": "stream",
     "text": [
      "100%|██████████| 2000/2000 [00:00<00:00, 9952.35it/s]\n"
     ]
    }
   ],
   "source": [
    "mf = MF(len(w2id))\n",
    "mf.setX(newSents)"
   ]
  },
  {
   "cell_type": "code",
   "execution_count": 5,
   "metadata": {},
   "outputs": [
    {
     "name": "stderr",
     "output_type": "stream",
     "text": [
      "100%|██████████| 100/100 [07:00<00:00,  4.20s/it]\n"
     ]
    }
   ],
   "source": [
    "epochs = 100\n",
    "Js = mf.alternatingLS(epochs=epochs)"
   ]
  },
  {
   "cell_type": "code",
   "execution_count": 6,
   "metadata": {},
   "outputs": [
    {
     "data": {
      "text/plain": [
       "Text(0, 0.5, 'loss')"
      ]
     },
     "execution_count": 6,
     "metadata": {},
     "output_type": "execute_result"
    },
    {
     "data": {
      "image/png": "[encoded data removed]",
      "text/plain": [
       "<Figure size 432x288 with 1 Axes>"
      ]
     },
     "metadata": {
      "needs_background": "light"
     },
     "output_type": "display_data"
    }
   ],
   "source": [
    "plt.plot(range(len(Js)),Js)\n",
    "plt.xlabel(\"epochs\")\n",
    "plt.ylabel(\"loss\")"
   ]
  },
  {
   "cell_type": "code",
   "execution_count": 7,
   "metadata": {},
   "outputs": [],
   "source": [
    "from sklearn.manifold import TSNE"
   ]
  },
  {
   "cell_type": "code",
   "execution_count": 9,
   "metadata": {},
   "outputs": [],
   "source": [
    "Embeddings = (mf.W+mf.U)/2\n",
    "tsne = TSNE()\n",
    "Z = tsne.fit_transform(Embeddings)"
   ]
  },
  {
   "cell_type": "code",
   "execution_count": 10,
   "metadata": {},
   "outputs": [
    {
     "data": {
      "image/png": "[encoded data removed]",
      "text/plain": [
       "<Figure size 432x288 with 1 Axes>"
      ]
     },
     "metadata": {
      "needs_background": "light"
     },
     "output_type": "display_data"
    }
   ],
   "source": [
    "show = 30\n",
    "plt.scatter(Z[:show,0],Z[:show,1])\n",
    "for i in range(show):\n",
    "    plt.annotate(s=id2w[i],xy=(Z[i,0],Z[i,1]))"
   ]
  },
  {
   "cell_type": "code",
   "execution_count": null,
   "metadata": {},
   "outputs": [],
   "source": []
  }
 ],
 "metadata": {
  "kernelspec": {
   "display_name": "Python 3",
   "language": "python",
   "name": "python3"
  },
  "language_info": {
   "codemirror_mode": {
    "name": "ipython",
    "version": 3
   },
   "file_extension": ".py",
   "mimetype": "text/x-python",
   "name": "python",
   "nbconvert_exporter": "python",
   "pygments_lexer": "ipython3",
   "version": "3.7.6"
  }
 },
 "nbformat": 4,
 "nbformat_minor": 4
}
