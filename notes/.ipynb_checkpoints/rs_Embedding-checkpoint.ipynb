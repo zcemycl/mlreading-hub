{
 "cells": [
  {
   "cell_type": "code",
   "execution_count": 1,
   "metadata": {},
   "outputs": [
    {
     "data": {
      "text/html": [
       "<div>\n",
       "<style scoped>\n",
       "    .dataframe tbody tr th:only-of-type {\n",
       "        vertical-align: middle;\n",
       "    }\n",
       "\n",
       "    .dataframe tbody tr th {\n",
       "        vertical-align: top;\n",
       "    }\n",
       "\n",
       "    .dataframe thead th {\n",
       "        text-align: right;\n",
       "    }\n",
       "</style>\n",
       "<table border=\"1\" class=\"dataframe\">\n",
       "  <thead>\n",
       "    <tr style=\"text-align: right;\">\n",
       "      <th></th>\n",
       "      <th>userId</th>\n",
       "      <th>movieId</th>\n",
       "      <th>rating</th>\n",
       "      <th>timestamp</th>\n",
       "    </tr>\n",
       "  </thead>\n",
       "  <tbody>\n",
       "    <tr>\n",
       "      <th>0</th>\n",
       "      <td>1</td>\n",
       "      <td>2</td>\n",
       "      <td>3.5</td>\n",
       "      <td>2005-04-02 23:53:47</td>\n",
       "    </tr>\n",
       "    <tr>\n",
       "      <th>1</th>\n",
       "      <td>1</td>\n",
       "      <td>29</td>\n",
       "      <td>3.5</td>\n",
       "      <td>2005-04-02 23:31:16</td>\n",
       "    </tr>\n",
       "    <tr>\n",
       "      <th>2</th>\n",
       "      <td>1</td>\n",
       "      <td>32</td>\n",
       "      <td>3.5</td>\n",
       "      <td>2005-04-02 23:33:39</td>\n",
       "    </tr>\n",
       "    <tr>\n",
       "      <th>3</th>\n",
       "      <td>1</td>\n",
       "      <td>47</td>\n",
       "      <td>3.5</td>\n",
       "      <td>2005-04-02 23:32:07</td>\n",
       "    </tr>\n",
       "    <tr>\n",
       "      <th>4</th>\n",
       "      <td>1</td>\n",
       "      <td>50</td>\n",
       "      <td>3.5</td>\n",
       "      <td>2005-04-02 23:29:40</td>\n",
       "    </tr>\n",
       "  </tbody>\n",
       "</table>\n",
       "</div>"
      ],
      "text/plain": [
       "   userId  movieId  rating            timestamp\n",
       "0       1        2     3.5  2005-04-02 23:53:47\n",
       "1       1       29     3.5  2005-04-02 23:31:16\n",
       "2       1       32     3.5  2005-04-02 23:33:39\n",
       "3       1       47     3.5  2005-04-02 23:32:07\n",
       "4       1       50     3.5  2005-04-02 23:29:40"
      ]
     },
     "execution_count": 1,
     "metadata": {},
     "output_type": "execute_result"
    }
   ],
   "source": [
    "import pandas as pd\n",
    "import numpy as np\n",
    "import matplotlib.pyplot as plt\n",
    "import math\n",
    "from tqdm import tqdm\n",
    "from datetime import datetime\n",
    "from heapq import heappush,heappop\n",
    "from collections import Counter,defaultdict\n",
    "import multiprocessing as mp\n",
    "import tensorflow as tf\n",
    "from sklearn.utils import shuffle\n",
    "import time\n",
    "\n",
    "PATH=\"/home/yui/Documents/data/recommender/movieLens20M/rating.csv\"\n",
    "df = pd.read_csv(PATH)\n",
    "df.head(5)"
   ]
  },
  {
   "cell_type": "code",
   "execution_count": 2,
   "metadata": {
    "scrolled": true
   },
   "outputs": [],
   "source": [
    "def findNMatches(df,targetUser,leastCommon=25,minMoviesWatched=50,noRef=25):\n",
    "    tardf = df[df[\"userId\"]==targetUser]\n",
    "    u2m = defaultdict(dict)\n",
    "    valCountsUserId = df[\"userId\"].value_counts()\n",
    "\n",
    "    for j in range(tardf.shape[0]):\n",
    "        movieId = tardf.iloc[j][\"movieId\"]\n",
    "        u2m[targetUser][movieId] = tardf.iloc[j][\"rating\"]\n",
    "    avg = np.array(list(u2m[targetUser].values())).mean()\n",
    "    u2m[targetUser] = (u2m[targetUser],avg)\n",
    "    tarSet = set(u2m[targetUser][0])\n",
    "    # print(tarSet)\n",
    "    prevId,storeSet,storeDict = 0,set(),dict()\n",
    "    for i in tqdm(range(df.shape[0])):\n",
    "        row = df.iloc[i]\n",
    "        userId = row[\"userId\"]\n",
    "        if valCountsUserId[userId]<minMoviesWatched:\n",
    "            continue\n",
    "        if userId==targetUser:\n",
    "            continue\n",
    "        if userId!=prevId:\n",
    "            if len(tarSet&storeSet)>=leastCommon:\n",
    "                avg = np.array(list(storeDict.values())).mean()\n",
    "                u2m[prevId]=(storeDict,avg)\n",
    "            storeSet,storeDict=set(),dict()\n",
    "        prevId = userId\n",
    "        storeSet.add(row[\"movieId\"])\n",
    "        storeDict[row[\"movieId\"]]=row[\"rating\"]\n",
    "        if len(u2m)>noRef:\n",
    "            break\n",
    "    return u2m\n"
   ]
  },
  {
   "cell_type": "code",
   "execution_count": 3,
   "metadata": {},
   "outputs": [],
   "source": [
    "class MF:\n",
    "    def __init__(self,u2m,K=100,penalty=0.1):\n",
    "        self.u2m = u2m\n",
    "        self.penalty = penalty\n",
    "        self.K = K\n",
    "        self.allmovies = dict()\n",
    "        self.mean,i=0,0\n",
    "        for candidate in u2m:\n",
    "            for movie in u2m[candidate][0]:\n",
    "                t,c = self.allmovies.get(movie,(0,0))\n",
    "                c+=1\n",
    "                t+=u2m[candidate][0][movie]\n",
    "                self.allmovies[movie]=(t,c)\n",
    "                i+=1\n",
    "                self.mean+=u2m[candidate][0][movie]\n",
    "        self.mean/=i\n",
    "        for movie in self.allmovies:\n",
    "            t,c = self.allmovies[movie]\n",
    "            self.allmovies[movie] = (t/c,c)\n",
    "        self.m2id = {key:i for i,key in enumerate(self.allmovies)}\n",
    "        self.id2m = {i:key for i,key in enumerate(self.allmovies)}\n",
    "        self.u2id = {key:i for i,key in enumerate(u2m)}\n",
    "        self.id2u = {i:key for i,key in enumerate(u2m)}\n",
    "        self.N = len(u2m)\n",
    "        self.M = len(self.allmovies)"
   ]
  },
  {
   "cell_type": "markdown",
   "metadata": {},
   "source": [
    "#### Embedding Layers\n",
    "\n",
    "It is a lookup table, which can convert ids to embedding vector. So we can input user id $x_1\\rightarrow i$ and movie id $x_2\\rightarrow j$, get their respective vectors $w_i$ and $u_j$, and add their dot product with user bias $b_i$ and movie bias $c_j$ to predict the difference between rating $r_{ij}$ and global mean $\\mu$.\n",
    "\n",
    "$$y = r_{ij}-\\mu = w_i^Tu_j + b_i + c_j$$"
   ]
  },
  {
   "cell_type": "code",
   "execution_count": 4,
   "metadata": {},
   "outputs": [],
   "source": [
    "class nnMF:\n",
    "    def __init__(self,df,targetUser,K=100,split=0.85,batch_size=16):\n",
    "        self.u2m = findNMatches(df,targetUser)\n",
    "        self.mf = MF(self.u2m,K=K)\n",
    "        tdf = df[df[\"userId\"].isin(list(self.u2m.keys()))]\n",
    "        self.tdf = shuffle(tdf)\n",
    "        self.split = split\n",
    "        self.batch_size = batch_size\n",
    "        self.prepareData()\n",
    "        self.getModel()\n",
    "    def getX1X2Y(self,dataset):\n",
    "        w = [self.mf.u2id[i] for i in list(dataset['userId'])]\n",
    "        XW = np.array(w).reshape(-1,1,1)\n",
    "        u = [self.mf.m2id[i] for i in list(dataset['movieId'])]\n",
    "        XU = np.array(u).reshape(-1,1,1)\n",
    "        Y = np.array(dataset['rating'])-self.mf.mean\n",
    "        return XW,XU,Y\n",
    "    def prepareData(self):\n",
    "        trainSet = self.tdf.iloc[:int(self.split*self.tdf.shape[0])]\n",
    "        testSet = self.tdf.iloc[int(self.split*self.tdf.shape[0]):]\n",
    "        trainXW,trainXU,trainY = self.getX1X2Y(trainSet)\n",
    "        testXW,testXU,testY = self.getX1X2Y(testSet)\n",
    "        train_dataset = tf.data.Dataset.from_tensor_slices(\\\n",
    "            (trainXW,trainXU,trainY))\n",
    "        self.train_dataset = train_dataset.shuffle(buffer_size=1024)\\\n",
    "                    .batch(self.batch_size)\n",
    "        val_dataset = tf.data.Dataset.from_tensor_slices(\\\n",
    "            (testXW,testXU,testY))\n",
    "        self.val_dataset = val_dataset.batch(self.batch_size)\n",
    "    def getModel(self):\n",
    "        n1 = tf.keras.Input(shape=(1,))\n",
    "        m1 = tf.keras.Input(shape=(1,))\n",
    "        k1n = tf.keras.layers.Embedding(self.mf.N,self.mf.K)(n1)\n",
    "        k1m = tf.keras.layers.Embedding(self.mf.M,self.mf.K)(m1)\n",
    "        b = tf.keras.layers.Embedding(self.mf.N,1)(n1)\n",
    "        c = tf.keras.layers.Embedding(self.mf.M,1)(m1)\n",
    "        y = tf.multiply(k1n,k1m)\n",
    "        y = tf.reduce_sum(y,axis=2,keepdims=True)\n",
    "        y = tf.add_n([y,b,c])\n",
    "        y = tf.reshape(y,[-1])\n",
    "        self.model = tf.keras.Model(inputs=[n1,m1],outputs=[y])"
   ]
  },
  {
   "cell_type": "code",
   "execution_count": 5,
   "metadata": {},
   "outputs": [
    {
     "name": "stderr",
     "output_type": "stream",
     "text": [
      "  0%|          | 15441/20000263 [00:01<32:56, 10110.63it/s]\n"
     ]
    }
   ],
   "source": [
    "mf = nnMF(df,1)"
   ]
  },
  {
   "cell_type": "code",
   "execution_count": 6,
   "metadata": {
    "scrolled": true
   },
   "outputs": [
    {
     "name": "stdout",
     "output_type": "stream",
     "text": [
      "Epoch 0 Train loss: 1.2185\n",
      "Epoch 0 Validation loss: 1.1052\n",
      "Epoch 50 Train loss: 0.0077\n",
      "Epoch 50 Validation loss: 0.8802\n",
      "Epoch 100 Train loss: 0.0047\n",
      "Epoch 100 Validation loss: 0.8713\n",
      "Epoch 150 Train loss: 0.0036\n",
      "Epoch 150 Validation loss: 0.8679\n",
      "Epoch 200 Train loss: 0.0031\n",
      "Epoch 200 Validation loss: 0.8703\n",
      "Epoch 250 Train loss: 0.0027\n",
      "Epoch 250 Validation loss: 0.8671\n",
      "Epoch 300 Train loss: 0.0024\n",
      "Epoch 300 Validation loss: 0.8640\n",
      "Epoch 350 Train loss: 0.0023\n",
      "Epoch 350 Validation loss: 0.8716\n",
      "Epoch 400 Train loss: 0.0021\n",
      "Epoch 400 Validation loss: 0.8767\n",
      "Epoch 450 Train loss: 0.0019\n",
      "Epoch 450 Validation loss: 0.8757\n"
     ]
    }
   ],
   "source": [
    "epochs = 500\n",
    "opt = tf.keras.optimizers.Adam(learning_rate=1e-3)\n",
    "printInterval = 50\n",
    "trainLosses = []\n",
    "testLosses = []\n",
    "\n",
    "for epoch in range(epochs):\n",
    "    total_train_loss=0\n",
    "    for i,(x1,x2,y) in enumerate(mf.train_dataset):\n",
    "        with tf.GradientTape() as tape:\n",
    "            pred=mf.model([x1,x2],training=True)\n",
    "            loss = tf.keras.losses.mean_squared_error(y,pred)\n",
    "            total_train_loss+=tf.reduce_sum(loss)\n",
    "        grads = tape.gradient(loss,mf.model.trainable_weights)\n",
    "        opt.apply_gradients(zip(grads,mf.model.trainable_weights))\n",
    "    \n",
    "    if epoch%printInterval==0:\n",
    "        total_val_loss = 0\n",
    "        for j,(x1,x2,y) in enumerate(mf.val_dataset):\n",
    "            pred=mf.model([x1,x2],training=False)\n",
    "            total_val_loss+=tf.reduce_sum(\\\n",
    "                tf.keras.losses.mean_squared_error(y,pred))\n",
    "        print(\"Epoch {} Train loss: {:.4f}\".format(\\\n",
    "                epoch,float(total_train_loss/(i+1))))\n",
    "        print(\"Epoch {} Validation loss: {:.4f}\".format(\\\n",
    "                epoch,float(total_val_loss/(j+1))))\n",
    "        trainLosses.append(total_train_loss/(i+1))\n",
    "        testLosses.append(total_val_loss/(j+1))"
   ]
  },
  {
   "cell_type": "code",
   "execution_count": 7,
   "metadata": {},
   "outputs": [
    {
     "data": {
      "text/plain": [
       "Text(0, 0.5, 'loss')"
      ]
     },
     "execution_count": 7,
     "metadata": {},
     "output_type": "execute_result"
    },
    {
     "data": {
      "image/png": "[encoded data removed]",
      "text/plain": [
       "<Figure size 432x288 with 1 Axes>"
      ]
     },
     "metadata": {
      "needs_background": "light"
     },
     "output_type": "display_data"
    }
   ],
   "source": [
    "plt.plot(range(0,epochs,printInterval),\n",
    "         trainLosses,label='train loss')\n",
    "plt.plot(range(0,epochs,printInterval),\n",
    "         testLosses,label='test loss')\n",
    "plt.legend()\n",
    "plt.xlabel('epochs')\n",
    "plt.ylabel('loss')"
   ]
  },
  {
   "cell_type": "code",
   "execution_count": 8,
   "metadata": {
    "scrolled": false
   },
   "outputs": [
    {
     "name": "stdout",
     "output_type": "stream",
     "text": [
      "Movie 2: 3.5 (truth) 3.4731 (pred)\n",
      "Movie 29: 3.5 (truth) 3.5464 (pred)\n",
      "Movie 32: 3.5 (truth) 3.6001 (pred)\n",
      "Movie 47: 3.5 (truth) 3.5910 (pred)\n",
      "Movie 50: 3.5 (truth) 3.5583 (pred)\n",
      "Movie 112: 3.5 (truth) 3.4893 (pred)\n",
      "Movie 151: 4.0 (truth) 3.4752 (pred)\n",
      "Movie 223: 4.0 (truth) 4.0552 (pred)\n",
      "Movie 253: 4.0 (truth) 3.9902 (pred)\n",
      "Movie 260: 4.0 (truth) 3.9916 (pred)\n",
      "Movie 293: 4.0 (truth) 4.0455 (pred)\n",
      "Movie 296: 4.0 (truth) 4.0385 (pred)\n",
      "Movie 318: 4.0 (truth) 4.0178 (pred)\n",
      "Movie 337: 3.5 (truth) 3.4843 (pred)\n",
      "Movie 367: 3.5 (truth) 3.0604 (pred)\n",
      "Movie 541: 4.0 (truth) 4.0087 (pred)\n",
      "Movie 589: 3.5 (truth) 3.5465 (pred)\n",
      "Movie 593: 3.5 (truth) 3.5281 (pred)\n",
      "Movie 653: 3.0 (truth) 3.0210 (pred)\n",
      "Movie 919: 3.5 (truth) 3.5290 (pred)\n",
      "Movie 924: 3.5 (truth) 3.4552 (pred)\n",
      "Movie 1009: 3.5 (truth) 3.4552 (pred)\n",
      "Movie 1036: 4.0 (truth) 3.9852 (pred)\n",
      "Movie 1079: 4.0 (truth) 3.9989 (pred)\n",
      "Movie 1080: 3.5 (truth) 3.4838 (pred)\n",
      "Movie 1089: 3.5 (truth) 3.5052 (pred)\n",
      "Movie 1090: 4.0 (truth) 3.9952 (pred)\n",
      "Movie 1097: 4.0 (truth) 3.7695 (pred)\n",
      "Movie 1136: 3.5 (truth) 3.4568 (pred)\n",
      "Movie 1193: 3.5 (truth) 3.5602 (pred)\n",
      "Movie 1196: 4.5 (truth) 4.4118 (pred)\n",
      "Movie 1198: 4.5 (truth) 4.5025 (pred)\n",
      "Movie 1200: 4.0 (truth) 3.6405 (pred)\n",
      "Movie 1201: 3.0 (truth) 3.0238 (pred)\n",
      "Movie 1208: 3.5 (truth) 3.4223 (pred)\n",
      "Movie 1214: 4.0 (truth) 3.9680 (pred)\n",
      "Movie 1215: 4.0 (truth) 4.1074 (pred)\n",
      "Movie 1217: 3.5 (truth) 3.4948 (pred)\n",
      "Movie 1219: 4.0 (truth) 3.9993 (pred)\n",
      "Movie 1222: 3.5 (truth) 3.4613 (pred)\n",
      "Movie 1240: 4.0 (truth) 3.9962 (pred)\n",
      "Movie 1243: 3.0 (truth) 2.9759 (pred)\n",
      "Movie 1246: 3.5 (truth) 3.5733 (pred)\n",
      "Movie 1249: 4.0 (truth) 4.0075 (pred)\n",
      "Movie 1258: 4.0 (truth) 3.9905 (pred)\n",
      "Movie 1259: 4.0 (truth) 4.0000 (pred)\n",
      "Movie 1261: 3.5 (truth) 3.5869 (pred)\n",
      "Movie 1262: 3.5 (truth) 3.4725 (pred)\n",
      "Movie 1266: 4.0 (truth) 4.0613 (pred)\n",
      "Movie 1278: 4.0 (truth) 3.9833 (pred)\n",
      "Movie 1291: 3.5 (truth) 4.0293 (pred)\n",
      "Movie 1304: 3.0 (truth) 3.0447 (pred)\n",
      "Movie 1321: 4.0 (truth) 3.9986 (pred)\n",
      "Movie 1333: 4.0 (truth) 4.0189 (pred)\n",
      "Movie 1348: 3.5 (truth) 3.5310 (pred)\n",
      "Movie 1350: 3.5 (truth) 3.5141 (pred)\n",
      "Movie 1358: 4.0 (truth) 4.0579 (pred)\n",
      "Movie 1370: 3.0 (truth) 3.0094 (pred)\n",
      "Movie 1374: 4.0 (truth) 4.0630 (pred)\n",
      "Movie 1387: 4.0 (truth) 4.0363 (pred)\n",
      "Movie 1525: 3.0 (truth) 3.0420 (pred)\n",
      "Movie 1584: 3.5 (truth) 3.3845 (pred)\n",
      "Movie 1750: 3.5 (truth) 3.5079 (pred)\n",
      "Movie 1848: 3.5 (truth) 3.5207 (pred)\n",
      "Movie 1920: 3.5 (truth) 3.4825 (pred)\n",
      "Movie 1967: 4.0 (truth) 3.6339 (pred)\n",
      "Movie 1994: 3.5 (truth) 3.5090 (pred)\n",
      "Movie 1997: 3.5 (truth) 3.5456 (pred)\n",
      "Movie 2021: 4.0 (truth) 3.9290 (pred)\n",
      "Movie 2100: 4.0 (truth) 3.9612 (pred)\n",
      "Movie 2118: 4.0 (truth) 4.0274 (pred)\n",
      "Movie 2138: 4.0 (truth) 4.0266 (pred)\n",
      "Movie 2140: 4.0 (truth) 4.0125 (pred)\n",
      "Movie 2143: 4.0 (truth) 3.9754 (pred)\n",
      "Movie 2173: 4.0 (truth) 3.9532 (pred)\n",
      "Movie 2174: 4.0 (truth) 3.9625 (pred)\n",
      "Movie 2193: 4.0 (truth) 3.9629 (pred)\n",
      "Movie 2194: 3.5 (truth) 3.4431 (pred)\n",
      "Movie 2253: 3.5 (truth) 3.3609 (pred)\n",
      "Movie 2288: 4.0 (truth) 4.1080 (pred)\n",
      "Movie 2291: 4.0 (truth) 3.9786 (pred)\n",
      "Movie 2542: 4.0 (truth) 3.9390 (pred)\n",
      "Movie 2628: 4.0 (truth) 4.0179 (pred)\n",
      "Movie 2644: 3.5 (truth) 3.5308 (pred)\n",
      "Movie 2648: 3.5 (truth) 3.5279 (pred)\n",
      "Movie 2664: 3.5 (truth) 3.4363 (pred)\n",
      "Movie 2683: 3.5 (truth) 3.3962 (pred)\n",
      "Movie 2692: 3.5 (truth) 3.5120 (pred)\n",
      "Movie 2716: 3.5 (truth) 3.4861 (pred)\n",
      "Movie 2761: 3.0 (truth) 3.0783 (pred)\n",
      "Movie 2762: 4.0 (truth) 3.9783 (pred)\n",
      "Movie 2804: 3.5 (truth) 3.9117 (pred)\n",
      "Movie 2872: 4.0 (truth) 3.9073 (pred)\n",
      "Movie 2918: 3.5 (truth) 3.4962 (pred)\n",
      "Movie 2944: 4.0 (truth) 4.0230 (pred)\n",
      "Movie 2947: 3.5 (truth) 3.5197 (pred)\n",
      "Movie 2959: 4.0 (truth) 4.0386 (pred)\n",
      "Movie 2968: 4.0 (truth) 3.9547 (pred)\n",
      "Movie 3000: 3.5 (truth) 3.5078 (pred)\n",
      "Movie 3030: 3.0 (truth) 2.9899 (pred)\n"
     ]
    }
   ],
   "source": [
    "targetUser,limit = 1,100\n",
    "x1 = np.array([mf.mf.u2id[targetUser]]).reshape(1,1,1)\n",
    "res = []\n",
    "for i,movie in enumerate(mf.mf.allmovies):\n",
    "    x2 = np.array([mf.mf.m2id[movie]]).reshape(1,1,1)\n",
    "    pred=mf.model([x1,x2],training=False)+mf.mf.mean\n",
    "    if movie in mf.u2m[targetUser][0]:\n",
    "        if i<limit:\n",
    "            print(\"Movie {}: {} (truth) {:.4f} (pred)\".format(\\\n",
    "            movie,mf.u2m[targetUser][0][movie],\n",
    "            pred[0]))\n",
    "    else:\n",
    "        store = -pred.numpy()[0]\n",
    "        heappush(res,(store,movie))"
   ]
  },
  {
   "cell_type": "code",
   "execution_count": 9,
   "metadata": {},
   "outputs": [
    {
     "data": {
      "text/plain": [
       "[(-4.556903, 2329),\n",
       " (-4.5160446, 1234),\n",
       " (-4.350629, 2858),\n",
       " (-4.460514, 7361),\n",
       " (-4.442555, 6016),\n",
       " (-4.204738, 30707),\n",
       " (-4.324671, 79132),\n",
       " (-4.418446, 1203),\n",
       " (-4.4559, 44555),\n",
       " (-4.2956815, 527)]"
      ]
     },
     "execution_count": 9,
     "metadata": {},
     "output_type": "execute_result"
    }
   ],
   "source": [
    "res[:10]"
   ]
  },
  {
   "cell_type": "code",
   "execution_count": null,
   "metadata": {},
   "outputs": [],
   "source": []
  }
 ],
 "metadata": {
  "kernelspec": {
   "display_name": "Python 3",
   "language": "python",
   "name": "python3"
  },
  "language_info": {
   "codemirror_mode": {
    "name": "ipython",
    "version": 3
   },
   "file_extension": ".py",
   "mimetype": "text/x-python",
   "name": "python",
   "nbconvert_exporter": "python",
   "pygments_lexer": "ipython3",
   "version": "3.7.6"
  }
 },
 "nbformat": 4,
 "nbformat_minor": 4
}
