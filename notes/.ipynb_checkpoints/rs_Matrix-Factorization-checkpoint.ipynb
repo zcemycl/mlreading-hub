{
 "cells": [
  {
   "cell_type": "code",
   "execution_count": 1,
   "metadata": {},
   "outputs": [
    {
     "data": {
      "text/html": [
       "<div>\n",
       "<style scoped>\n",
       "    .dataframe tbody tr th:only-of-type {\n",
       "        vertical-align: middle;\n",
       "    }\n",
       "\n",
       "    .dataframe tbody tr th {\n",
       "        vertical-align: top;\n",
       "    }\n",
       "\n",
       "    .dataframe thead th {\n",
       "        text-align: right;\n",
       "    }\n",
       "</style>\n",
       "<table border=\"1\" class=\"dataframe\">\n",
       "  <thead>\n",
       "    <tr style=\"text-align: right;\">\n",
       "      <th></th>\n",
       "      <th>userId</th>\n",
       "      <th>movieId</th>\n",
       "      <th>rating</th>\n",
       "      <th>timestamp</th>\n",
       "    </tr>\n",
       "  </thead>\n",
       "  <tbody>\n",
       "    <tr>\n",
       "      <th>0</th>\n",
       "      <td>1</td>\n",
       "      <td>2</td>\n",
       "      <td>3.5</td>\n",
       "      <td>2005-04-02 23:53:47</td>\n",
       "    </tr>\n",
       "    <tr>\n",
       "      <th>1</th>\n",
       "      <td>1</td>\n",
       "      <td>29</td>\n",
       "      <td>3.5</td>\n",
       "      <td>2005-04-02 23:31:16</td>\n",
       "    </tr>\n",
       "    <tr>\n",
       "      <th>2</th>\n",
       "      <td>1</td>\n",
       "      <td>32</td>\n",
       "      <td>3.5</td>\n",
       "      <td>2005-04-02 23:33:39</td>\n",
       "    </tr>\n",
       "    <tr>\n",
       "      <th>3</th>\n",
       "      <td>1</td>\n",
       "      <td>47</td>\n",
       "      <td>3.5</td>\n",
       "      <td>2005-04-02 23:32:07</td>\n",
       "    </tr>\n",
       "    <tr>\n",
       "      <th>4</th>\n",
       "      <td>1</td>\n",
       "      <td>50</td>\n",
       "      <td>3.5</td>\n",
       "      <td>2005-04-02 23:29:40</td>\n",
       "    </tr>\n",
       "  </tbody>\n",
       "</table>\n",
       "</div>"
      ],
      "text/plain": [
       "   userId  movieId  rating            timestamp\n",
       "0       1        2     3.5  2005-04-02 23:53:47\n",
       "1       1       29     3.5  2005-04-02 23:31:16\n",
       "2       1       32     3.5  2005-04-02 23:33:39\n",
       "3       1       47     3.5  2005-04-02 23:32:07\n",
       "4       1       50     3.5  2005-04-02 23:29:40"
      ]
     },
     "execution_count": 1,
     "metadata": {},
     "output_type": "execute_result"
    }
   ],
   "source": [
    "import pandas as pd\n",
    "import numpy as np\n",
    "import matplotlib.pyplot as plt\n",
    "import math\n",
    "from tqdm import tqdm\n",
    "from datetime import datetime\n",
    "from heapq import heappush,heappop\n",
    "from collections import Counter,defaultdict\n",
    "import multiprocessing as mp\n",
    "\n",
    "PATH=\"/home/yui/Documents/data/recommender/movieLens20M/rating.csv\"\n",
    "df = pd.read_csv(PATH)\n",
    "df.head(5)"
   ]
  },
  {
   "cell_type": "markdown",
   "metadata": {},
   "source": [
    "#### Matrix Fatorization\n",
    "Imagine there is a optimized ratings for all users $N$ and all items $M$, it is a matrix $\\hat{R}$ decomposable into user matrix $W$ and item matrix $U$,\n",
    "$$\\begin{align*}\n",
    "\\hat{R} &= WU^\\top \\\\\n",
    "[N\\times M] &= [N\\times k][k\\times M]\n",
    "\\end{align*}$$\n",
    "\n",
    "But it is not worthy to compute all ratings since it could require too much computation, it can be rewritten as element form, \n",
    "$$\\hat{r}_{ij} = w_i^\\top u_j$$\n",
    "where $w_i$ is the row of user matrix $W$, $u$ is the row of item matrx $U$.\n",
    "\n",
    "To optimize each rating, we can consider the Mean Squared Error (MSE). \n",
    "\n",
    "$$J = \\sum_{i,j\\in\\Omega} (r_{ij}-\\hat{r}_{ij})^2=\\sum_{i,j\\in\\Omega}(r_{ij}-w_i^\\top u_j)^2$$\n",
    "where $\\Omega$ set of pairs $(i,j)$ where user $i$ rated movie $j$.\n",
    "\n",
    "We solve both $w_i$ and $u_j$ dependence by setting their gradients to zero to reach the local minima, \n",
    "$$\\begin{align*}\n",
    "\\frac{\\partial J}{\\partial w_i} = 0 &\\quad \\frac{\\partial J}{\\partial u_j} = 0 \\\\\n",
    "w_i=\\bigg(\\sum_{j\\in \\Psi_i}u_ju_j^\\top\\bigg)^{-1}\\sum_{j\\in\\Psi_i}r_{ij}u_j &\\quad u_j= \\bigg(\\sum_{i\\in\\Omega_j }w_iw_i^\\top\\bigg)^{-1}\\sum_{i\\in\\Omega_j}r_{ij}w_i \\\\\n",
    "\\end{align*}$$\n",
    "where $\\Psi_i$ set of movies where users has rated, $\\Omega_j$ set of users where movies have been rated.\n",
    "\n",
    "Though they depend on each other, we can still optimize as alternating least squares.\n",
    "\n",
    "**Advantages**\n",
    "\n",
    "1. It is a type of dimensionality reduction. If consider both $N$ and $M$ are around $10^6$, the rating matrix can have $10^{12}$ elements. But if it is decomposed with $k=100$, the number of elements is only $2\\times(10^6\\times 10^2)\\approx 10^8$. It is more space efficient.\n",
    "2. The dimension of $K$ can be the latent features which have some meanings to the data."
   ]
  },
  {
   "cell_type": "code",
   "execution_count": 2,
   "metadata": {},
   "outputs": [],
   "source": [
    "def findNMatches(df,targetUser,leastCommon=25,minMoviesWatched=50,noRef=25):\n",
    "    tardf = df[df[\"userId\"]==targetUser]\n",
    "    u2m = defaultdict(dict)\n",
    "    valCountsUserId = df[\"userId\"].value_counts()\n",
    "\n",
    "    for j in range(tardf.shape[0]):\n",
    "        movieId = tardf.iloc[j][\"movieId\"]\n",
    "        u2m[targetUser][movieId] = tardf.iloc[j][\"rating\"]\n",
    "    avg = np.array(list(u2m[targetUser].values())).mean()\n",
    "    u2m[targetUser] = (u2m[targetUser],avg)\n",
    "    tarSet = set(u2m[targetUser][0])\n",
    "    # print(tarSet)\n",
    "    prevId,storeSet,storeDict = 0,set(),dict()\n",
    "    for i in tqdm(range(df.shape[0])):\n",
    "        row = df.iloc[i]\n",
    "        userId = row[\"userId\"]\n",
    "        if valCountsUserId[userId]<minMoviesWatched:\n",
    "            continue\n",
    "        if userId==targetUser:\n",
    "            continue\n",
    "        if userId!=prevId:\n",
    "            if len(tarSet&storeSet)>=leastCommon:\n",
    "                avg = np.array(list(storeDict.values())).mean()\n",
    "                u2m[prevId]=(storeDict,avg)\n",
    "            storeSet,storeDict=set(),dict()\n",
    "        prevId = userId\n",
    "        storeSet.add(row[\"movieId\"])\n",
    "        storeDict[row[\"movieId\"]]=row[\"rating\"]\n",
    "        if len(u2m)>noRef:\n",
    "            break\n",
    "    return u2m"
   ]
  },
  {
   "cell_type": "code",
   "execution_count": 3,
   "metadata": {
    "scrolled": true
   },
   "outputs": [
    {
     "name": "stderr",
     "output_type": "stream",
     "text": [
      "  0%|          | 14900/20000263 [00:01<35:24, 9408.79it/s] \n"
     ]
    }
   ],
   "source": [
    "u2m = findNMatches(df,1)"
   ]
  },
  {
   "cell_type": "markdown",
   "metadata": {},
   "source": [
    "Further extend the model, we introduce user bias $b_i$, movie bias $c_j$ and global mean $\\mu$, \n",
    "\n",
    "$$\\hat{r}_{ij}=w_i^\\top u_j + b_i+c_j+\\mu$$\n",
    "\n",
    "So the alternating least squares now become,\n",
    "\n",
    "$$\\begin{align*}\n",
    "w_i&=\\bigg(\\sum_{j\\in \\Psi_i}u_ju_j^\\top\\bigg)^{-1}\\sum_{j\\in\\Psi_i}(r_{ij}-b_i-c_j-\\mu)u_j \\\\\n",
    "u_j&= \\bigg(\\sum_{i\\in\\Omega_j }w_iw_i^\\top\\bigg)^{-1}\\sum_{i\\in\\Omega_j}(r_{ij}-b_i-c_j-\\mu)w_i \\\\\n",
    "b_i &= \\frac{1}{|\\Psi_i|}\\sum_{j\\in\\Psi_i}(r_{ij}-w_i^\\top u_j-c_j-\\mu)\\\\\n",
    "c_j &= \\frac{1}{|\\Omega_j|}\\sum_{i\\in\\Omega_j}(r_{ij}-w_i^\\top u_j-b_i-\\mu)\n",
    "\\end{align*}$$\n",
    "\n",
    "Adding regularization terms into loss function, \n",
    "\n",
    "$$J = \\sum_{i,j\\in\\Omega}(r_{ij}-\\hat{r}_{ij})^2+\\lambda \\bigg(\\|W\\|^2_F+\\|U\\|_F^2+\\|b\\|_2^2+\\|c\\|_2^2\\bigg)$$\n",
    "\n",
    "Finally,\n",
    "\n",
    "$$\\begin{align*}\n",
    "w_i&=\\bigg(\\sum_{j\\in \\Psi_i}u_ju_j^\\top + \\lambda I\\bigg)^{-1}\\sum_{j\\in\\Psi_i}(r_{ij}-b_i-c_j-\\mu)u_j \\\\\n",
    "u_j&= \\bigg(\\sum_{i\\in\\Omega_j }w_iw_i^\\top+ \\lambda I\\bigg)^{-1}\\sum_{i\\in\\Omega_j}(r_{ij}-b_i-c_j-\\mu)w_i \\\\\n",
    "b_i &= \\frac{1}{|\\Psi_i|+\\lambda}\\sum_{j\\in\\Psi_i}(r_{ij}-w_i^\\top u_j-c_j-\\mu)\\\\\n",
    "c_j &= \\frac{1}{|\\Omega_j|+\\lambda}\\sum_{i\\in\\Omega_j}(r_{ij}-w_i^\\top u_j-b_i-\\mu)\n",
    "\\end{align*}$$"
   ]
  },
  {
   "cell_type": "code",
   "execution_count": 4,
   "metadata": {},
   "outputs": [],
   "source": [
    "class MF:\n",
    "    def __init__(self,u2m,K=100,penalty=0.1):\n",
    "        self.u2m = u2m\n",
    "        self.penalty = penalty\n",
    "        self.K = K\n",
    "        self.allmovies = dict()\n",
    "        self.mean,i=0,0\n",
    "        for candidate in u2m:\n",
    "            for movie in u2m[candidate][0]:\n",
    "                t,c = self.allmovies.get(movie,(0,0))\n",
    "                c+=1\n",
    "                t+=u2m[candidate][0][movie]\n",
    "                self.allmovies[movie]=(t,c)\n",
    "                i+=1\n",
    "                self.mean+=u2m[candidate][0][movie]\n",
    "        self.mean/=i\n",
    "        for movie in self.allmovies:\n",
    "            t,c = self.allmovies[movie]\n",
    "            self.allmovies[movie] = (t/c,c)\n",
    "        self.m2id = {key:i for i,key in enumerate(self.allmovies)}\n",
    "        self.id2m = {i:key for i,key in enumerate(self.allmovies)}\n",
    "        self.u2id = {key:i for i,key in enumerate(u2m)}\n",
    "        self.id2u = {i:key for i,key in enumerate(u2m)}\n",
    "        self.N = len(u2m)\n",
    "        self.M = len(self.allmovies)\n",
    "        self.W = np.random.randn(self.N,self.K)\n",
    "        self.U = np.random.randn(self.M,self.K)\n",
    "        self.B = np.random.randn(self.N)\n",
    "        self.C = np.random.randn(self.M)\n",
    "    def alternatingLS(self,epochs=1000):\n",
    "        Js = [self.loss()]\n",
    "        for e in tqdm(range(epochs)):\n",
    "            for candidate in self.u2m:\n",
    "                self.updateW(candidate)\n",
    "                self.updateB(candidate)\n",
    "            for movie in self.allmovies:\n",
    "                self.updateU(movie)\n",
    "                self.updateC(movie)\n",
    "            Js.append(self.loss())\n",
    "        return Js\n",
    "    def updateW(self,targetUser):\n",
    "        up,down = 0,0\n",
    "        bi = self.B[self.u2id[targetUser]]\n",
    "        for j in self.u2m[targetUser][0]:\n",
    "            uj = self.U[self.m2id[j]]\n",
    "            rij = self.u2m[targetUser][0][j]\n",
    "            cj = self.C[self.m2id[j]]\n",
    "            up += (rij-bi-cj-self.mean)*uj\n",
    "            down += np.outer(uj,uj)\n",
    "        n=len(down)\n",
    "        self.W[self.u2id[targetUser]]=\\\n",
    "            np.linalg.inv(down+self.penalty*np.identity(n)).dot(up)\n",
    "    def updateU(self,targetItem):\n",
    "        up,down=0,0\n",
    "        cj = self.C[self.m2id[targetItem]]\n",
    "        for candidate in self.u2m:\n",
    "            if targetItem not in self.u2m[candidate][0]:\n",
    "                continue\n",
    "            wi = self.W[self.u2id[candidate]]\n",
    "            rij = self.u2m[candidate][0][targetItem]\n",
    "            bi = self.B[self.u2id[candidate]]\n",
    "            up += (rij-bi-cj-self.mean)*wi\n",
    "            down += np.outer(wi,wi)\n",
    "        n=len(down)\n",
    "        self.U[self.m2id[targetItem]]=\\\n",
    "            np.linalg.inv(down+self.penalty*np.identity(n)).dot(up)\n",
    "    def updateB(self,targetUser):\n",
    "        s=0\n",
    "        wi = self.W[self.u2id[targetUser]]\n",
    "        c = len(self.u2m[targetUser][0])\n",
    "        for j in self.u2m[targetUser][0]:\n",
    "            rij = self.u2m[targetUser][0][j]\n",
    "            cj = self.C[self.m2id[j]]\n",
    "            uj = self.U[self.m2id[j]]\n",
    "            s+=(rij-wi.T.dot(uj)-cj-self.mean)\n",
    "        self.B[self.u2id[targetUser]]=s/(c+self.penalty)\n",
    "    def updateC(self,targetItem):\n",
    "        s=0\n",
    "        uj = self.U[self.m2id[targetItem]]\n",
    "        c = self.allmovies[targetItem][1]\n",
    "        for candidate in self.u2m:\n",
    "            if targetItem not in self.u2m[candidate][0]:\n",
    "                continue\n",
    "            wi = self.W[self.u2id[candidate]]\n",
    "            bi = self.B[self.u2id[candidate]]\n",
    "            rij = self.u2m[candidate][0][targetItem]\n",
    "            s+=(rij-wi.T.dot(uj)-bi-self.mean)\n",
    "        self.C[self.m2id[targetItem]]=s/(c+self.penalty)\n",
    "    def loss(self):\n",
    "        J = 0\n",
    "        for candidate in self.u2m:\n",
    "            for movie in self.u2m[candidate][0]:\n",
    "                rij = self.u2m[candidate][0][movie]\n",
    "                wi = self.W[self.u2id[candidate]]\n",
    "                uj = self.U[self.m2id[movie]]\n",
    "                bi = self.B[self.u2id[candidate]]\n",
    "                cj = self.C[self.m2id[movie]]\n",
    "                J+=(rij-wi.T.dot(uj)-bi-cj-self.mean)**2\n",
    "        return J"
   ]
  },
  {
   "cell_type": "code",
   "execution_count": 5,
   "metadata": {},
   "outputs": [],
   "source": [
    "mf = MF(u2m)"
   ]
  },
  {
   "cell_type": "code",
   "execution_count": 6,
   "metadata": {},
   "outputs": [
    {
     "name": "stderr",
     "output_type": "stream",
     "text": [
      "100%|██████████| 100/100 [01:16<00:00,  1.31it/s]\n"
     ]
    }
   ],
   "source": [
    "epochs = 100\n",
    "Js = mf.alternatingLS(epochs=epochs)"
   ]
  },
  {
   "cell_type": "code",
   "execution_count": 7,
   "metadata": {},
   "outputs": [
    {
     "data": {
      "text/plain": [
       "[<matplotlib.lines.Line2D at 0x7f948ae40710>]"
      ]
     },
     "execution_count": 7,
     "metadata": {},
     "output_type": "execute_result"
    },
    {
     "data": {
      "image/png": "[encoded data removed]",
      "text/plain": [
       "<Figure size 432x288 with 1 Axes>"
      ]
     },
     "metadata": {
      "needs_background": "light"
     },
     "output_type": "display_data"
    }
   ],
   "source": [
    "plt.plot(range(epochs+1),Js)"
   ]
  },
  {
   "cell_type": "markdown",
   "metadata": {},
   "source": [
    "#### Compare Ground Truth"
   ]
  },
  {
   "cell_type": "code",
   "execution_count": 8,
   "metadata": {
    "scrolled": false
   },
   "outputs": [
    {
     "name": "stdout",
     "output_type": "stream",
     "text": [
      "Movie 2: 3.5 (truth) 3.8641300336631623 (predict)\n",
      "Movie 29: 3.5 (truth) 3.8648064809412044 (predict)\n",
      "Movie 32: 3.5 (truth) 3.8717774364095674 (predict)\n",
      "Movie 47: 3.5 (truth) 3.8767950477986477 (predict)\n",
      "Movie 50: 3.5 (truth) 3.872220679830462 (predict)\n",
      "Movie 112: 3.5 (truth) 3.865349967672109 (predict)\n",
      "Movie 151: 4.0 (truth) 4.3583792140853275 (predict)\n",
      "Movie 223: 4.0 (truth) 4.357461098814121 (predict)\n",
      "Movie 253: 4.0 (truth) 4.362300383977879 (predict)\n",
      "Movie 260: 4.0 (truth) 4.361746296378296 (predict)\n",
      "Movie 293: 4.0 (truth) 4.3604240749456125 (predict)\n"
     ]
    }
   ],
   "source": [
    "targetUser,limit = 1,10\n",
    "for i,movie in enumerate(mf.u2m[targetUser][0]):\n",
    "    pred = mf.W[mf.u2id[targetUser]].T.dot(mf.U[mf.m2id[movie]])\n",
    "    pred += mf.mean\n",
    "    pred += mf.B[targetUser]\n",
    "    pred += mf.C[mf.m2id[movie]]\n",
    "    print(\"Movie {}: {} (truth) {} (predict)\".format(\\\n",
    "        movie,mf.u2m[1][0][movie],pred))\n",
    "    if i==10:\n",
    "        break"
   ]
  },
  {
   "cell_type": "markdown",
   "metadata": {},
   "source": [
    "#### New suggestions"
   ]
  },
  {
   "cell_type": "code",
   "execution_count": 9,
   "metadata": {},
   "outputs": [],
   "source": [
    "res = []\n",
    "for i,movie in enumerate(mf.allmovies):\n",
    "    if movie in mf.u2m[targetUser][0]:\n",
    "        continue\n",
    "    pred = mf.W[mf.u2id[targetUser]].T.dot(mf.U[mf.m2id[movie]])\n",
    "    pred += mf.mean\n",
    "    pred += mf.B[targetUser]\n",
    "    pred += mf.C[mf.m2id[movie]]\n",
    "    heappush(res,(-pred,movie))\n"
   ]
  },
  {
   "cell_type": "code",
   "execution_count": 10,
   "metadata": {},
   "outputs": [
    {
     "data": {
      "text/plain": [
       "[(-4.625469862065435, 1210),\n",
       " (-4.613845294378064, 356),\n",
       " (-4.572742889837487, 2858),\n",
       " (-4.404287744570658, 457),\n",
       " (-4.487730889703764, 7361),\n",
       " (-4.2959470221008305, 33794),\n",
       " (-4.404815374578511, 1356),\n",
       " (-4.328141147572148, 475),\n",
       " (-4.339826666156794, 1206),\n",
       " (-4.389067685816456, 904)]"
      ]
     },
     "execution_count": 10,
     "metadata": {},
     "output_type": "execute_result"
    }
   ],
   "source": [
    "res[:10]"
   ]
  },
  {
   "cell_type": "code",
   "execution_count": null,
   "metadata": {},
   "outputs": [],
   "source": []
  }
 ],
 "metadata": {
  "kernelspec": {
   "display_name": "Python 3",
   "language": "python",
   "name": "python3"
  },
  "language_info": {
   "codemirror_mode": {
    "name": "ipython",
    "version": 3
   },
   "file_extension": ".py",
   "mimetype": "text/x-python",
   "name": "python",
   "nbconvert_exporter": "python",
   "pygments_lexer": "ipython3",
   "version": "3.7.6"
  }
 },
 "nbformat": 4,
 "nbformat_minor": 4
}
