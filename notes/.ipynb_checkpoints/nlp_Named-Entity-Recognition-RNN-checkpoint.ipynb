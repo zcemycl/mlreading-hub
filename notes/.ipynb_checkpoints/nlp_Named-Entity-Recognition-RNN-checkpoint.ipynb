{
 "cells": [
  {
   "cell_type": "code",
   "execution_count": 1,
   "metadata": {},
   "outputs": [],
   "source": [
    "import pandas as pd\n",
    "import numpy as np\n",
    "import matplotlib.pyplot as plt\n",
    "import math\n",
    "import random\n",
    "from tqdm import tqdm\n",
    "from datetime import datetime\n",
    "from heapq import heappush,heappop\n",
    "from collections import Counter,defaultdict\n",
    "import multiprocessing as mp\n",
    "import tensorflow as tf\n",
    "from sklearn.utils import shuffle\n",
    "import time\n",
    "from tensorflow.keras import Input,Model\n",
    "from tensorflow.keras.layers import Embedding,Bidirectional,LSTM,Dense\n",
    "from tensorflow.keras.losses import CategoricalCrossentropy "
   ]
  },
  {
   "cell_type": "code",
   "execution_count": 2,
   "metadata": {},
   "outputs": [],
   "source": [
    "PATHglove=\"/home/yui/Documents/data/nlp/glove.6B/glove.6B.50d.txt\"\n",
    "PATHner=\"/home/yui/Documents/data/nlp/ner/ner.txt\""
   ]
  },
  {
   "cell_type": "code",
   "execution_count": 3,
   "metadata": {},
   "outputs": [],
   "source": [
    "class preprocess:\n",
    "    def __init__(self,PATHglove,PATHner):\n",
    "        self.PATHglove = PATHglove\n",
    "        self.PATHner = PATHner\n",
    "        self.initEmbeddings()\n",
    "        self.V_ = len(self.w2id)\n",
    "        self.k = len(self.res[0])\n",
    "        self.getData()\n",
    "        Lengths = list(map(len,self.sents))\n",
    "        self.maxLength = max(Lengths)+1\n",
    "        self.V = len(self.w2id)\n",
    "        self.sents=[sent+[self.w2id[\"<e>\"]]*(self.maxLength-len(sent)) \n",
    "                    for sent in self.sents]\n",
    "        self.sents=[np.array(sent) for sent in self.sents]\n",
    "        self.labels=[label+[0]*(self.maxLength-len(label)) \n",
    "                     for label in self.labels]\n",
    "        self.labels=[np.array(label) for label in self.labels]\n",
    "    def initEmbeddings(self):\n",
    "        self.w2id,self.id2w,self.res={},{},[]\n",
    "        with open(self.PATHglove) as f:\n",
    "            lines = f.readlines()\n",
    "            for i,line in enumerate(lines):\n",
    "                line = line.strip()\n",
    "                tokens = line.split(\" \")\n",
    "                word = tokens[0]\n",
    "                vec = list(map(float,tokens[1:]))\n",
    "                self.res.append(vec)\n",
    "                self.w2id[word]=i\n",
    "                self.id2w[i]=word\n",
    "        print(\"[INFO] Loading Embeddings ... Done\")\n",
    "        print(\"Vocabulary size: \",len(self.w2id))\n",
    "        print(\"Embeddings: \",self.res[0])\n",
    "        print(\"----------\")\n",
    "    def getData(self):\n",
    "        self.sents,self.labels,self.l2id,self.id2l = [],[],{},{}\n",
    "        j = 0\n",
    "        with open(self.PATHner) as f:\n",
    "            lines = f.readlines()\n",
    "            sent,slab = [],[]\n",
    "            for i,line in enumerate(lines):\n",
    "                line = line.strip()\n",
    "                tokens = line.split(\"\\t\")\n",
    "                word = tokens[0].lower()\n",
    "                if word==\"\":\n",
    "                    self.sents.append(sent)\n",
    "                    self.labels.append(slab)\n",
    "                    sent,slab = [],[]\n",
    "                    continue\n",
    "                label = tokens[1].lower()\n",
    "                if word not in self.w2id:\n",
    "                    i = len(self.w2id)\n",
    "                    self.w2id[word]=i\n",
    "                    self.id2w[i]=word\n",
    "                if label not in self.l2id:\n",
    "                    self.l2id[label]=j\n",
    "                    self.id2l[j]=label\n",
    "                    j+=1\n",
    "                sent.append(self.w2id[word])\n",
    "                slab.append(self.l2id[label])\n",
    "        i=len(self.w2id)\n",
    "        self.w2id[\"<e>\"]=i\n",
    "        self.id2w[i]=\"<e>\"\n",
    "        print(\"[INFO] Loading Data ... Done\")\n",
    "        print(\"Vocabulary size: \",len(self.w2id),\n",
    "            len(self.id2w))\n",
    "        print(\"Number of sentences: \",len(self.sents))\n",
    "        print(\"Label size: \",len(self.l2id),len(self.id2l))\n",
    "        print(\"----------\")"
   ]
  },
  {
   "cell_type": "code",
   "execution_count": 4,
   "metadata": {},
   "outputs": [
    {
     "name": "stdout",
     "output_type": "stream",
     "text": [
      "[INFO] Loading Embeddings ... Done\n",
      "Vocabulary size:  400000\n",
      "Embeddings:  [0.418, 0.24968, -0.41242, 0.1217, 0.34527, -0.044457, -0.49688, -0.17862, -0.00066023, -0.6566, 0.27843, -0.14767, -0.55677, 0.14658, -0.0095095, 0.011658, 0.10204, -0.12792, -0.8443, -0.12181, -0.016801, -0.33279, -0.1552, -0.23131, -0.19181, -1.8823, -0.76746, 0.099051, -0.42125, -0.19526, 4.0071, -0.18594, -0.52287, -0.31681, 0.00059213, 0.0074449, 0.17778, -0.15897, 0.012041, -0.054223, -0.29871, -0.15749, -0.34758, -0.045637, -0.44251, 0.18785, 0.0027849, -0.18411, -0.11514, -0.78581]\n",
      "----------\n",
      "[INFO] Loading Data ... Done\n",
      "Vocabulary size:  403139 403139\n",
      "Number of sentences:  2394\n",
      "Label size:  21 21\n",
      "----------\n"
     ]
    }
   ],
   "source": [
    "pp = preprocess(PATHglove,PATHner)"
   ]
  },
  {
   "cell_type": "code",
   "execution_count": 5,
   "metadata": {},
   "outputs": [],
   "source": [
    "class BiLSTM_NER:\n",
    "    def __init__(self,pp,split=.9,batch_size=8,lr=1e-3):\n",
    "        self.pp = pp\n",
    "        self.split = split\n",
    "        self.batch_size = batch_size\n",
    "        self.lr = lr\n",
    "        self.prepareData()\n",
    "        self.prepareModel()\n",
    "        self.cce=CategoricalCrossentropy(reduction=\\\n",
    "            tf.keras.losses.Reduction.SUM)\n",
    "        self.opt=tf.keras.optimizers.Adam(learning_rate=lr)\n",
    "    def prepareData(self):\n",
    "        data=list(zip(pp.sents,pp.labels))\n",
    "        random.shuffle(data)\n",
    "        trainSet=data[:int(self.split*len(data))]\n",
    "        testSet=data[int(self.split*len(data)):]\n",
    "        self.trainX,self.trainY=list(zip(*trainSet))\n",
    "        self.testX,self.testY=list(zip(*testSet))\n",
    "        self.td = tf.data.Dataset.from_tensor_slices((\\\n",
    "                np.array(self.trainX),np.array(self.trainY)))\n",
    "        self.td = self.td.shuffle(buffer_size=1024)\\\n",
    "                .batch(self.batch_size)\n",
    "        self.vd = tf.data.Dataset.from_tensor_slices((\\\n",
    "                np.array(self.testX),np.array(self.testY)))\n",
    "        self.vd = self.vd.batch(self.batch_size)\n",
    "    def prepareModel(self):\n",
    "        embed_matrix = np.random.randn(self.pp.V,self.pp.k)\n",
    "        embed_matrix[:self.pp.V_,:]=np.array(self.pp.res)\n",
    "        x = Input(shape=(self.pp.maxLength,))\n",
    "        y = Embedding(self.pp.V,self.pp.k, \n",
    "            embeddings_initializer=tf.keras.initializers.Constant(\\\n",
    "            embed_matrix),trainable=True)(x)\n",
    "        z = Bidirectional(LSTM(self.pp.k,\n",
    "            return_sequences=True,dropout=0.2),merge_mode='concat')(y)\n",
    "        z_ = Dense(len(self.pp.l2id), activation=\"softmax\")(z)\n",
    "        self.model = Model(inputs=[x],outputs=[z_])\n",
    "    def train(self,epochs=500,printInterval=50):\n",
    "        trainLosses,testLosses=[],[]\n",
    "        lnum = len(self.pp.l2id)\n",
    "        for epoch in range(epochs):\n",
    "            total_train_loss=0\n",
    "            for i,(x,y) in enumerate(self.td):\n",
    "                with tf.GradientTape() as tape:\n",
    "                    pred=self.model(x,training=True)\n",
    "                    y = tf.one_hot(y,lnum)\n",
    "                    loss = self.cce(y,pred)\n",
    "                    total_train_loss+=loss.numpy()\n",
    "                grads = tape.gradient(loss,\n",
    "                        self.model.trainable_weights)\n",
    "                self.opt.apply_gradients(zip(grads,\n",
    "                        self.model.trainable_weights))\n",
    "\n",
    "            if epoch%printInterval==0:\n",
    "                total_val_loss=0\n",
    "                for j,(x,y) in enumerate(self.vd):\n",
    "                    pred=self.model(x,training=False)\n",
    "                    y = tf.one_hot(y,lnum)\n",
    "                    loss = self.cce(y,pred)\n",
    "                    total_val_loss+=loss\n",
    "                print(\"Epoch {} Train loss: {:.4f}\".format(\\\n",
    "                        epoch,float(total_train_loss/(i+1))))\n",
    "                print(\"Epoch {} Validation loss: {:.4f}\".format(\\\n",
    "                        epoch,float(total_val_loss/(j+1))))\n",
    "                trainLosses.append(total_train_loss/(i+1))\n",
    "                testLosses.append(total_val_loss/(j+1))\n",
    "        return trainLosses,testLosses"
   ]
  },
  {
   "cell_type": "code",
   "execution_count": 6,
   "metadata": {},
   "outputs": [],
   "source": [
    "nerModel = BiLSTM_NER(pp,batch_size=1000)"
   ]
  },
  {
   "cell_type": "code",
   "execution_count": 7,
   "metadata": {},
   "outputs": [
    {
     "name": "stdout",
     "output_type": "stream",
     "text": [
      "Epoch 0 Train loss: 79011.9336\n",
      "Epoch 0 Validation loss: 21144.3164\n",
      "Epoch 50 Train loss: 4299.4876\n",
      "Epoch 50 Validation loss: 1517.3076\n",
      "Epoch 100 Train loss: 3070.2710\n",
      "Epoch 100 Validation loss: 1277.7087\n",
      "Epoch 150 Train loss: 2068.3062\n",
      "Epoch 150 Validation loss: 1196.4346\n",
      "Epoch 200 Train loss: 1463.9236\n",
      "Epoch 200 Validation loss: 1230.8483\n",
      "Epoch 250 Train loss: 1051.8311\n",
      "Epoch 250 Validation loss: 1294.4913\n",
      "Epoch 300 Train loss: 743.1656\n",
      "Epoch 300 Validation loss: 1356.8568\n",
      "Epoch 350 Train loss: 518.3688\n",
      "Epoch 350 Validation loss: 1420.1243\n",
      "Epoch 400 Train loss: 362.2106\n",
      "Epoch 400 Validation loss: 1482.1791\n",
      "Epoch 450 Train loss: 260.6944\n",
      "Epoch 450 Validation loss: 1523.6233\n"
     ]
    }
   ],
   "source": [
    "epochs,printInterval=500,50\n",
    "trainLosses,testLosses = nerModel.train(\\\n",
    "            epochs=epochs,printInterval=printInterval)"
   ]
  },
  {
   "cell_type": "code",
   "execution_count": 8,
   "metadata": {},
   "outputs": [
    {
     "data": {
      "text/plain": [
       "Text(0, 0.5, 'loss')"
      ]
     },
     "execution_count": 8,
     "metadata": {},
     "output_type": "execute_result"
    },
    {
     "data": {
      "image/png": "[encoded data removed]",
      "text/plain": [
       "<Figure size 432x288 with 1 Axes>"
      ]
     },
     "metadata": {
      "needs_background": "light"
     },
     "output_type": "display_data"
    }
   ],
   "source": [
    "plt.plot(range(0,epochs,printInterval),\n",
    "         trainLosses,label='train loss')\n",
    "plt.plot(range(0,epochs,printInterval),\n",
    "         testLosses,label='test loss')\n",
    "plt.legend()\n",
    "plt.xlabel('epochs')\n",
    "plt.ylabel('loss')"
   ]
  },
  {
   "cell_type": "code",
   "execution_count": 9,
   "metadata": {},
   "outputs": [
    {
     "name": "stdout",
     "output_type": "stream",
     "text": [
      "[ 0  0  0  0  0  0  0  8  0  8  0  0  0  0  0  0 13 13  0]\n",
      "[ 0  0  0  0  0  0  0  8  0  8  0  0  0  0  0  7 13 13  0]\n",
      "[0 0 0 0 0 0 0 0 0 0 0 0 0]\n",
      "[0 0 0 0 0 0 0 0 0 0 0 0 0]\n",
      "[0 0 6 0 3 4 0 0 0 0 0 0 0 0 0 3 4 0 0 0 0]\n",
      "[0 0 6 0 3 4 0 0 0 0 0 0 0 0 0 3 4 0 0 0 0]\n",
      "[ 0  0  0  0  0  0  0 10  0  0  0  0  0  0  0  0  0  0  0  0  0  0  0  0\n",
      "  0  0  0]\n",
      "[ 0  0  0  0  0  0  0 10  0  0  0  0  0  0  0  0  0  0  0  0  0  0  0  0\n",
      "  0  0  0]\n",
      "[0 0 0 0 0 0]\n",
      "[0 0 0 0 0 0]\n",
      "[0 0 0 0 0 0 0 0 0 0 0 0 0 0 0 0 0 0 0 0 0 0 0 0 0 0 0]\n",
      "[0 0 0 0 0 0 0 0 0 0 0 0 0 0 0 0 0 0 0 0 0 0 0 0 0 0 0]\n",
      "[0 0 0 0]\n",
      "[0 0 0 0]\n",
      "[0 0 0 0 0 0 0 0 0 0 0 0 0 0 0 0 0 0 0 0 0 0 0 0 0]\n",
      "[0 0 0 0 0 0 0 0 0 0 0 0 0 0 0 0 0 0 0 0 0 0 0 0 0]\n",
      "[0 0 0 0 0 0 0 0 0 0 0 0 0 0 0 0 0 0 0 0 0]\n",
      "[0 0 0 0 0 0 0 0 0 0 0 0 0 0 0 0 0 0 0 0 0]\n",
      "[0 0 0 0 0 0 0 0 0 6 9 0 0 0 0]\n",
      "[0 0 0 0 0 0 0 0 0 6 9 0 0 0 0]\n"
     ]
    }
   ],
   "source": [
    "show = 10\n",
    "for i in range(show):\n",
    "    x,y=nerModel.trainX[i],nerModel.trainY[i]\n",
    "    ind = np.where(x==pp.w2id[\"<e>\"])[0][0]\n",
    "    pred = nerModel.model(x.reshape(1,-1),training=False)\n",
    "    pred = tf.math.argmax(pred,2).numpy()[0][:ind]\n",
    "    y = y[:ind]\n",
    "    print(pred)\n",
    "    print(y)"
   ]
  },
  {
   "cell_type": "code",
   "execution_count": 10,
   "metadata": {},
   "outputs": [
    {
     "name": "stdout",
     "output_type": "stream",
     "text": [
      "Training accuracy:  0.9986219486004725\n",
      "Validation accuracy:  0.9790223586146427\n"
     ]
    }
   ],
   "source": [
    "up,down=0,0\n",
    "for i,(x,y) in enumerate(nerModel.td):\n",
    "    pred=nerModel.model(x,training=False)\n",
    "    y = y.numpy()\n",
    "    pred=tf.math.argmax(pred,2).numpy()\n",
    "    for k in range(len(x)):\n",
    "        ind = np.where(x[k]==pp.w2id[\"<e>\"])[0][0]\n",
    "        up+=(y[:ind]==pred[:ind]).sum()\n",
    "        down+=np.prod(pred[:ind].shape)\n",
    "print(\"Training accuracy: \",up/down)\n",
    "\n",
    "up,down=0,0\n",
    "for j,(x,y) in enumerate(nerModel.vd):\n",
    "    pred=nerModel.model(x,training=False)\n",
    "    y = y.numpy()\n",
    "    pred=tf.math.argmax(pred,2).numpy()\n",
    "    for k in range(len(x)):\n",
    "        ind = np.where(x[k]==pp.w2id[\"<e>\"])[0][0]\n",
    "        up+=(y[:ind]==pred[:ind]).sum()\n",
    "        down+=np.prod(pred[:ind].shape)\n",
    "print(\"Validation accuracy: \",up/down)"
   ]
  },
  {
   "cell_type": "markdown",
   "metadata": {},
   "source": [
    "#### Notes\n",
    "- It could be more useful to calculate F1 score for each class."
   ]
  },
  {
   "cell_type": "code",
   "execution_count": null,
   "metadata": {},
   "outputs": [],
   "source": []
  },
  {
   "cell_type": "code",
   "execution_count": null,
   "metadata": {},
   "outputs": [],
   "source": []
  }
 ],
 "metadata": {
  "kernelspec": {
   "display_name": "Python 3",
   "language": "python",
   "name": "python3"
  },
  "language_info": {
   "codemirror_mode": {
    "name": "ipython",
    "version": 3
   },
   "file_extension": ".py",
   "mimetype": "text/x-python",
   "name": "python",
   "nbconvert_exporter": "python",
   "pygments_lexer": "ipython3",
   "version": "3.7.6"
  }
 },
 "nbformat": 4,
 "nbformat_minor": 4
}
