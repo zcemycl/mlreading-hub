{
 "cells": [
  {
   "cell_type": "code",
   "execution_count": 1,
   "metadata": {},
   "outputs": [],
   "source": [
    "import numpy as np"
   ]
  },
  {
   "cell_type": "markdown",
   "metadata": {},
   "source": [
    "**Levenshtein** distance between two words is the minimum number of single character edits (insertions,deletions or substitutions) required to change one word onto the other.\n",
    "\n",
    "https://www.cuelogic.com/blog/the-levenshtein-algorithm"
   ]
  },
  {
   "cell_type": "code",
   "execution_count": 18,
   "metadata": {},
   "outputs": [],
   "source": [
    "def editDist(s1,s2):\n",
    "    n,m = len(s1),len(s2)\n",
    "    lev = [[0 for i in range(n+1)] for j in range(m+1)]\n",
    "    for j in range(m+1):\n",
    "        for i in range(n+1):\n",
    "            if min(i,j)==0:\n",
    "                lev[j][i]=max(i,j)\n",
    "            else:\n",
    "                lev[j][i]=min(lev[j][i-1]+1,\n",
    "                    lev[j-1][i]+1,\n",
    "                    lev[j-1][i-1]+(s1[i-1]!=s2[j-1]))\n",
    "                \n",
    "    for r in lev:\n",
    "        print(r)\n",
    "    return lev[-1][-1]"
   ]
  },
  {
   "cell_type": "code",
   "execution_count": 19,
   "metadata": {},
   "outputs": [
    {
     "name": "stdout",
     "output_type": "stream",
     "text": [
      "[0, 1, 2, 3, 4, 5]\n",
      "[1, 0, 1, 2, 3, 4]\n",
      "[2, 1, 1, 2, 3, 4]\n",
      "[3, 2, 2, 2, 3, 4]\n",
      "[4, 3, 3, 2, 3, 4]\n",
      "[5, 4, 4, 3, 2, 3]\n",
      "[6, 5, 5, 4, 3, 2]\n",
      "[7, 6, 6, 5, 4, 3]\n"
     ]
    },
    {
     "data": {
      "text/plain": [
       "3"
      ]
     },
     "execution_count": 19,
     "metadata": {},
     "output_type": "execute_result"
    }
   ],
   "source": [
    "editDist(\"HONDA\",\"HYUNDAI\")"
   ]
  },
  {
   "cell_type": "code",
   "execution_count": 20,
   "metadata": {},
   "outputs": [
    {
     "name": "stdout",
     "output_type": "stream",
     "text": [
      "[0, 1, 2, 3, 4, 5]\n",
      "[1, 0, 1, 2, 3, 4]\n",
      "[2, 1, 0, 1, 2, 3]\n",
      "[3, 2, 1, 0, 1, 2]\n",
      "[4, 3, 2, 1, 0, 1]\n",
      "[5, 4, 3, 2, 1, 0]\n"
     ]
    },
    {
     "data": {
      "text/plain": [
       "0"
      ]
     },
     "execution_count": 20,
     "metadata": {},
     "output_type": "execute_result"
    }
   ],
   "source": [
    "editDist(\"HONDA\",\"HONDA\")"
   ]
  },
  {
   "cell_type": "code",
   "execution_count": null,
   "metadata": {},
   "outputs": [],
   "source": []
  }
 ],
 "metadata": {
  "kernelspec": {
   "display_name": "Python 3",
   "language": "python",
   "name": "python3"
  },
  "language_info": {
   "codemirror_mode": {
    "name": "ipython",
    "version": 3
   },
   "file_extension": ".py",
   "mimetype": "text/x-python",
   "name": "python",
   "nbconvert_exporter": "python",
   "pygments_lexer": "ipython3",
   "version": "3.7.6"
  }
 },
 "nbformat": 4,
 "nbformat_minor": 4
}
