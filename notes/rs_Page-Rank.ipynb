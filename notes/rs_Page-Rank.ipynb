{
 "cells": [
  {
   "cell_type": "code",
   "execution_count": 1,
   "metadata": {},
   "outputs": [
    {
     "data": {
      "text/html": [
       "<div>\n",
       "<style scoped>\n",
       "    .dataframe tbody tr th:only-of-type {\n",
       "        vertical-align: middle;\n",
       "    }\n",
       "\n",
       "    .dataframe tbody tr th {\n",
       "        vertical-align: top;\n",
       "    }\n",
       "\n",
       "    .dataframe thead th {\n",
       "        text-align: right;\n",
       "    }\n",
       "</style>\n",
       "<table border=\"1\" class=\"dataframe\">\n",
       "  <thead>\n",
       "    <tr style=\"text-align: right;\">\n",
       "      <th></th>\n",
       "      <th>IP</th>\n",
       "      <th>Topic</th>\n",
       "      <th>Timestamp</th>\n",
       "      <th>Country</th>\n",
       "      <th>Username</th>\n",
       "      <th>Comment</th>\n",
       "      <th>Lat</th>\n",
       "      <th>Lng</th>\n",
       "    </tr>\n",
       "  </thead>\n",
       "  <tbody>\n",
       "    <tr>\n",
       "      <th>0</th>\n",
       "      <td>188.214.14.65</td>\n",
       "      <td>Cluster Map</td>\n",
       "      <td>05/21/2021, 11:06:38 AM</td>\n",
       "      <td>United Kingdom</td>\n",
       "      <td>NaN</td>\n",
       "      <td>NaN</td>\n",
       "      <td>51.477</td>\n",
       "      <td>-0.1959</td>\n",
       "    </tr>\n",
       "    <tr>\n",
       "      <th>1</th>\n",
       "      <td>31.13.115.5</td>\n",
       "      <td>Cluster Map</td>\n",
       "      <td>05/21/2021, 07:42:56 AM</td>\n",
       "      <td>Sweden</td>\n",
       "      <td>NaN</td>\n",
       "      <td>NaN</td>\n",
       "      <td>65.5864</td>\n",
       "      <td>22.1457</td>\n",
       "    </tr>\n",
       "    <tr>\n",
       "      <th>2</th>\n",
       "      <td>103.88.46.2</td>\n",
       "      <td>Knowledge Graph</td>\n",
       "      <td>05/22/2021, 01:03:12 AM</td>\n",
       "      <td>Japan</td>\n",
       "      <td>NaN</td>\n",
       "      <td>NaN</td>\n",
       "      <td>34.6851</td>\n",
       "      <td>135.5136</td>\n",
       "    </tr>\n",
       "    <tr>\n",
       "      <th>3</th>\n",
       "      <td>103.88.46.2</td>\n",
       "      <td>Knowledge Graph</td>\n",
       "      <td>05/22/2021, 01:05:43 AM</td>\n",
       "      <td>Japan</td>\n",
       "      <td>NaN</td>\n",
       "      <td>NaN</td>\n",
       "      <td>34.6851</td>\n",
       "      <td>135.5136</td>\n",
       "    </tr>\n",
       "    <tr>\n",
       "      <th>4</th>\n",
       "      <td>82.132.229.185</td>\n",
       "      <td>Cluster Map</td>\n",
       "      <td>05/21/2021, 11:36:41 PM</td>\n",
       "      <td>United Kingdom</td>\n",
       "      <td>NaN</td>\n",
       "      <td>NaN</td>\n",
       "      <td>51.5095</td>\n",
       "      <td>-0.0955</td>\n",
       "    </tr>\n",
       "  </tbody>\n",
       "</table>\n",
       "</div>"
      ],
      "text/plain": [
       "               IP            Topic                Timestamp         Country  \\\n",
       "0   188.214.14.65      Cluster Map  05/21/2021, 11:06:38 AM  United Kingdom   \n",
       "1     31.13.115.5      Cluster Map  05/21/2021, 07:42:56 AM          Sweden   \n",
       "2     103.88.46.2  Knowledge Graph  05/22/2021, 01:03:12 AM           Japan   \n",
       "3     103.88.46.2  Knowledge Graph  05/22/2021, 01:05:43 AM           Japan   \n",
       "4  82.132.229.185      Cluster Map  05/21/2021, 11:36:41 PM  United Kingdom   \n",
       "\n",
       "  Username Comment      Lat       Lng  \n",
       "0      NaN     NaN   51.477   -0.1959  \n",
       "1      NaN     NaN  65.5864   22.1457  \n",
       "2      NaN     NaN  34.6851  135.5136  \n",
       "3      NaN     NaN  34.6851  135.5136  \n",
       "4      NaN     NaN  51.5095   -0.0955  "
      ]
     },
     "execution_count": 1,
     "metadata": {},
     "output_type": "execute_result"
    }
   ],
   "source": [
    "import pandas as pd\n",
    "import numpy as np\n",
    "import matplotlib.pyplot as plt\n",
    "import math\n",
    "from tqdm import tqdm\n",
    "from datetime import datetime\n",
    "from heapq import heappush,heappop\n",
    "from collections import Counter\n",
    "\n",
    "PATH=\"/home/yui/Documents/data/recommender/Visitors-Sheet1.csv\"\n",
    "df = pd.read_csv(PATH)\n",
    "df.head(5)"
   ]
  },
  {
   "cell_type": "code",
   "execution_count": 2,
   "metadata": {},
   "outputs": [],
   "source": [
    "df = df[df[\"Topic\"].notna()]"
   ]
  },
  {
   "cell_type": "code",
   "execution_count": 3,
   "metadata": {},
   "outputs": [
    {
     "name": "stderr",
     "output_type": "stream",
     "text": [
      "100%|██████████| 534/534 [00:00<00:00, 9203.10it/s]\n"
     ]
    }
   ],
   "source": [
    "prevIP,prevTopic,d = \"\",\"\",{}\n",
    "for i in tqdm(range(df.shape[0])):\n",
    "    IP = df.iloc[i][\"IP\"]\n",
    "    Topic = df.iloc[i][\"Topic\"]\n",
    "    if IP != prevIP:\n",
    "#         if prevIP!=\"\":\n",
    "#             d[prevTopic]=d.get(prevTopic,0)+1\n",
    "#             d[(prevTopic,'e')]=d.get((prevTopic,'e'),0)+1\n",
    "        d['s']=d.get('s',0)+1\n",
    "        d[('s',Topic)]=d.get(('s',Topic),0)+1\n",
    "    else:\n",
    "        d[prevTopic] = d.get(prevTopic,0)+1\n",
    "        d[(prevTopic,Topic)] = d.get((prevTopic,Topic),0)+1\n",
    "    prevTopic = Topic\n",
    "    prevIP = IP"
   ]
  },
  {
   "cell_type": "code",
   "execution_count": 4,
   "metadata": {
    "scrolled": true
   },
   "outputs": [
    {
     "name": "stdout",
     "output_type": "stream",
     "text": [
      "['s', 'Cluster Map', 'Knowledge Graph', '3D Scene', '3D Map', 'Progressive Graph', 'Chatapp', 'Authentication', 'Like Comment', 'Image Display', 'Game', 'Gallery', 'Image Annotation', 'Shop', 'Not Found', 'Visitor Record', 'zcemycl.github.io', 'Login', 'Donate', 'Sign Up']\n"
     ]
    }
   ],
   "source": [
    "keys = ['s']+list(df[\"Topic\"].unique())\n",
    "print(keys)"
   ]
  },
  {
   "cell_type": "markdown",
   "metadata": {},
   "source": [
    "#### Page Rank\n",
    "Consider the first order markov model, the **Transition Probability** between page at time $t-1$ and page at time $t$ is given by,\n",
    "$$A_{ij}=p(x_t=j|x_{t-1}=i)=\\frac{\\#i\\rightarrow j}{\\#i}$$\n",
    "\n",
    "The **State Distribution** can be given by,\n",
    "$$\\pi_t = [p(x_t=0),p(x_t=1),\\cdots,p(x_t=M)]$$\n",
    "\n",
    "The **Future State Distribution** is given by,\n",
    "$$\\begin{align*}\n",
    "p(x_{t+1}=j) &= \\sum^M_{i=1}p(x_{t+1}=j,x_t=i) = \\sum^M_{i=1}p(x_{t+1}=j|x_t=i)p(x_t=i)\\\\\n",
    "&= \\sum^M_{i=1}A_{ij}\\pi_t(i) = \\pi_{t+1}(j)\n",
    "\\end{align*}$$\n",
    "\n",
    "It can be rewritten in the matrix form, \n",
    "$$\\begin{align*}\n",
    "\\Pi_{t+1}&=\\Pi_t A\\\\\n",
    "\\begin{pmatrix}\n",
    "p(x_{t+1}=0) & \\ldots & p(x_{t+1}=M)\n",
    "\\end{pmatrix}&=\n",
    "\\begin{pmatrix}\n",
    "p(x_{t}=0) & \\ldots & p(x_{t}=M)\n",
    "\\end{pmatrix}\n",
    "\\begin{pmatrix}\n",
    "A_{00} & \\cdots & A_{0M} \\\\\n",
    "\\vdots & \\ddots & \\vdots \\\\\n",
    "A_{M0} & \\cdots & A_{MM}\n",
    "\\end{pmatrix} \\\\\n",
    "\\Pi_{t+k}&=\\Pi_t A^k\\\\\n",
    "\\Pi_{\\infty}&= \\lim_{t\\rightarrow \\infty}\\Pi_0 A^t \\\\\n",
    "\\Pi_{\\infty}&=\\Pi_\\infty A\\\\\n",
    "\\end{align*}$$\n",
    "\n",
    "This will become the general eigenvalue problem.\n",
    "$$Av=\\lambda v$$"
   ]
  },
  {
   "cell_type": "code",
   "execution_count": 5,
   "metadata": {
    "scrolled": false
   },
   "outputs": [
    {
     "name": "stdout",
     "output_type": "stream",
     "text": [
      "20\n"
     ]
    }
   ],
   "source": [
    "L = len(keys)\n",
    "print(L)\n",
    "A = np.zeros((L,L))\n",
    "for i in range(L):\n",
    "    for j in range(L):\n",
    "        try:\n",
    "            A[i,j]=d.get((keys[i],keys[j]),0)/d.get(keys[i],0)\n",
    "        except:\n",
    "            A[i,j]=0"
   ]
  },
  {
   "cell_type": "code",
   "execution_count": 6,
   "metadata": {},
   "outputs": [
    {
     "data": {
      "text/plain": [
       "array([0.        , 1.02244948, 2.75530017, 0.6130283 , 1.1974026 ,\n",
       "       0.85      , 1.91580087, 0.69073132, 0.94275152, 0.08333333,\n",
       "       1.22223264, 0.73755411, 0.91785714, 0.03636364, 0.02179193,\n",
       "       3.4805816 , 1.78714856, 0.40067279, 0.125     , 0.2       ])"
      ]
     },
     "execution_count": 6,
     "metadata": {},
     "output_type": "execute_result"
    }
   ],
   "source": [
    "np.sum(A,axis=0)"
   ]
  },
  {
   "cell_type": "code",
   "execution_count": 7,
   "metadata": {},
   "outputs": [],
   "source": [
    "def returnEigen(A):\n",
    "    return np.linalg.eig(A)"
   ]
  },
  {
   "cell_type": "code",
   "execution_count": 8,
   "metadata": {},
   "outputs": [
    {
     "name": "stdout",
     "output_type": "stream",
     "text": [
      "[ 9.89183110e-01+0.j          6.62292248e-01+0.j\n",
      "  4.58940878e-01+0.09957741j  4.58940878e-01-0.09957741j\n",
      "  5.62620427e-02+0.37681282j  5.62620427e-02-0.37681282j\n",
      " -2.10018456e-01+0.28681088j -2.10018456e-01-0.28681088j\n",
      " -3.39415865e-01+0.j          2.77327117e-01+0.j\n",
      " -2.28290659e-01+0.j         -4.19514926e-02+0.17011745j\n",
      " -4.19514926e-02-0.17011745j  1.40122622e-01+0.j\n",
      "  7.03665944e-02+0.j         -8.89293170e-02+0.j\n",
      " -4.92319171e-02+0.j          2.41226016e-02+0.j\n",
      "  1.95072496e-03+0.j         -2.05323226e-17+0.j        ]\n"
     ]
    }
   ],
   "source": [
    "w,v = returnEigen(0.85*A+0.15*np.ones((L,L))/L)\n",
    "print(w)"
   ]
  },
  {
   "cell_type": "code",
   "execution_count": 9,
   "metadata": {},
   "outputs": [
    {
     "data": {
      "text/plain": [
       "<BarContainer object of 19 artists>"
      ]
     },
     "execution_count": 9,
     "metadata": {},
     "output_type": "execute_result"
    },
    {
     "data": {
      "image/png": "[encoded data removed]",
      "text/plain": [
       "<Figure size 432x288 with 1 Axes>"
      ]
     },
     "metadata": {
      "needs_background": "light"
     },
     "output_type": "display_data"
    }
   ],
   "source": [
    "# df['Topic'].hist()\n",
    "counts = df[\"Topic\"].value_counts()\n",
    "plt.barh(counts.index, counts)"
   ]
  },
  {
   "cell_type": "code",
   "execution_count": 10,
   "metadata": {},
   "outputs": [
    {
     "data": {
      "text/plain": [
       "<BarContainer object of 20 artists>"
      ]
     },
     "execution_count": 10,
     "metadata": {},
     "output_type": "execute_result"
    },
    {
     "data": {
      "image/png": "[encoded data removed]",
      "text/plain": [
       "<Figure size 432x288 with 1 Axes>"
      ]
     },
     "metadata": {
      "needs_background": "light"
     },
     "output_type": "display_data"
    }
   ],
   "source": [
    "plt.barh(keys,np.abs(w.real))"
   ]
  },
  {
   "cell_type": "code",
   "execution_count": 11,
   "metadata": {},
   "outputs": [
    {
     "data": {
      "text/plain": [
       "<BarContainer object of 19 artists>"
      ]
     },
     "execution_count": 11,
     "metadata": {},
     "output_type": "execute_result"
    },
    {
     "data": {
      "image/png": "[encoded data removed]",
      "text/plain": [
       "<Figure size 432x288 with 1 Axes>"
      ]
     },
     "metadata": {
      "needs_background": "light"
     },
     "output_type": "display_data"
    }
   ],
   "source": [
    "dist = {}\n",
    "for key,val in d.items():\n",
    "    if type(key) == tuple:\n",
    "        dist[key[1]]=dist.get(key[1],0)+1\n",
    "plt.barh(list(dist.keys()),list(dist.values()))"
   ]
  },
  {
   "cell_type": "code",
   "execution_count": null,
   "metadata": {},
   "outputs": [],
   "source": []
  }
 ],
 "metadata": {
  "kernelspec": {
   "display_name": "Python 3",
   "language": "python",
   "name": "python3"
  },
  "language_info": {
   "codemirror_mode": {
    "name": "ipython",
    "version": 3
   },
   "file_extension": ".py",
   "mimetype": "text/x-python",
   "name": "python",
   "nbconvert_exporter": "python",
   "pygments_lexer": "ipython3",
   "version": "3.7.6"
  }
 },
 "nbformat": 4,
 "nbformat_minor": 4
}
