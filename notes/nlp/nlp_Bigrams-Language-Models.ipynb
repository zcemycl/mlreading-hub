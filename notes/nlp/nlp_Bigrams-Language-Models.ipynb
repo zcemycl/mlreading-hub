{
 "cells": [
  {
   "cell_type": "code",
   "execution_count": 1,
   "metadata": {},
   "outputs": [
    {
     "name": "stderr",
     "output_type": "stream",
     "text": [
      "[nltk_data] Downloading package words to /home/yui/nltk_data...\n",
      "[nltk_data]   Package words is already up-to-date!\n",
      "[nltk_data] Downloading package wordnet to /home/yui/nltk_data...\n",
      "[nltk_data]   Package wordnet is already up-to-date!\n",
      "[nltk_data] Downloading package averaged_perceptron_tagger to\n",
      "[nltk_data]     /home/yui/nltk_data...\n",
      "[nltk_data]   Package averaged_perceptron_tagger is already up-to-\n",
      "[nltk_data]       date!\n",
      "[nltk_data] Downloading package brown to /home/yui/nltk_data...\n",
      "[nltk_data]   Package brown is already up-to-date!\n"
     ]
    }
   ],
   "source": [
    "import numpy as np\n",
    "import matplotlib.pyplot as plt\n",
    "from sklearn.metrics import pairwise_distances\n",
    "import pandas as pd\n",
    "import math\n",
    "import nltk\n",
    "from nltk.corpus import stopwords\n",
    "import string\n",
    "from nltk import word_tokenize\n",
    "nltk.download('words')\n",
    "nltk.download('wordnet')\n",
    "nltk.download('averaged_perceptron_tagger')\n",
    "from nltk.corpus import wordnet\n",
    "from nltk.stem import WordNetLemmatizer\n",
    "from tqdm import tqdm,tqdm_pandas\n",
    "nltk.download('brown')\n",
    "from nltk.corpus import brown"
   ]
  },
  {
   "cell_type": "code",
   "execution_count": 2,
   "metadata": {},
   "outputs": [],
   "source": [
    "words = brown.words(categories=\"news\")\n",
    "sents = brown.sents(categories=[\"news\"])"
   ]
  },
  {
   "cell_type": "code",
   "execution_count": 3,
   "metadata": {},
   "outputs": [
    {
     "name": "stdout",
     "output_type": "stream",
     "text": [
      "Number of words:  100554\n",
      "Number of sentences:  4623\n",
      "Number of unique words (including capitalized) 14394\n"
     ]
    }
   ],
   "source": [
    "print(\"Number of words: \",len(words))\n",
    "print(\"Number of sentences: \",len(sents))\n",
    "print(\"Number of unique words (including capitalized)\",\n",
    "      len(set(words)))"
   ]
  },
  {
   "cell_type": "code",
   "execution_count": 4,
   "metadata": {},
   "outputs": [
    {
     "name": "stdout",
     "output_type": "stream",
     "text": [
      "['The', 'Fulton', 'County', 'Grand', 'Jury', 'said', 'Friday', 'an', 'investigation', 'of', \"Atlanta's\", 'recent', 'primary', 'election', 'produced', '``', 'no', 'evidence', \"''\", 'that', 'any', 'irregularities', 'took', 'place', '.']\n"
     ]
    }
   ],
   "source": [
    "print(sents[0])"
   ]
  },
  {
   "cell_type": "code",
   "execution_count": 5,
   "metadata": {},
   "outputs": [],
   "source": [
    "w2id,id2w = dict(),dict()\n",
    "freq,idx = dict(),1\n",
    "w2id[None]=0\n",
    "id2w[0]=None\n",
    "freq[0]=0\n",
    "for i,sent in enumerate(sents):\n",
    "    prev = 0\n",
    "    for word in sent:\n",
    "        word = word.lower()\n",
    "        if word not in w2id:\n",
    "            w2id[word]=idx\n",
    "            id2w[idx]=word\n",
    "            idx+=1\n",
    "        wid = w2id[word]\n",
    "        freq[(prev,wid)]=freq.get((prev,wid),0)+1\n",
    "        freq[prev]=freq.get(prev,0)+1\n",
    "        prev = wid"
   ]
  },
  {
   "cell_type": "code",
   "execution_count": 6,
   "metadata": {},
   "outputs": [
    {
     "name": "stdout",
     "output_type": "stream",
     "text": [
      "13113 73927\n"
     ]
    }
   ],
   "source": [
    "print(len(w2id),len(freq))"
   ]
  },
  {
   "cell_type": "code",
   "execution_count": 7,
   "metadata": {},
   "outputs": [],
   "source": [
    "p,V = dict(),len(w2id)\n",
    "for key in freq.keys():\n",
    "    if type(key)==int:\n",
    "        continue\n",
    "    u,v = key\n",
    "    p[(u,v)] = np.log((freq[(u,v)]+1)/(freq[u]+V))"
   ]
  },
  {
   "cell_type": "markdown",
   "metadata": {},
   "source": [
    "#### Bigrams Language Models\n",
    "- To avoid numerical underflows and normalize the length of the sentence,\n",
    "$$\\begin{align*}\n",
    "p(\\{w_i\\}^T_{i=1})&=p(w_1)\\prod^T_{t=2}p(w_t|w_{t-1})\\\\\n",
    "\\log p(\\{w_i\\}^T_{i=1})&=\\log p(w_1)+\\sum^T_{t=2}\\log p(w_t|w_{t-1})\\\\\n",
    "\\frac{1}{T}\\log p(\\{w_i\\}^T_{i=1})&=\\frac{1}{T}\\bigg(\\log p(w_1)+\\sum^T_{t=2}\\log p(w_t|w_{t-1})\\bigg)\n",
    "\\end{align*}$$\n",
    "- Brown Corpus Data: https://www.nltk.org/book/ch02.html\n",
    "    - Genre includes, news, editorial, reviews, religion, hobbies, lore, belles_lettres, government, learned, fiction, mystery,science_fiction, adventure, romance and humor. "
   ]
  },
  {
   "cell_type": "code",
   "execution_count": 8,
   "metadata": {},
   "outputs": [],
   "source": [
    "res,resfake = [],[]\n",
    "for sent in sents:\n",
    "    prev,logprob,logprobfake = 0,0,0\n",
    "    T = len(sent)\n",
    "    for word in sent:\n",
    "        word = word.lower()\n",
    "        wid = w2id[word]\n",
    "        logprob+=p.get((prev,wid),\n",
    "                    -np.log(freq.get(prev,0)+V))\n",
    "        prev = wid\n",
    "    logprob/=T\n",
    "    res.append(logprob)\n",
    "    prev=0\n",
    "    for wid in np.random.randint(1,len(w2id),T):\n",
    "        logprobfake+=p.get((prev,wid),\n",
    "                    -np.log(freq.get(prev,0)+V))\n",
    "        prev = wid\n",
    "    logprobfake/=T\n",
    "    resfake.append(logprobfake)\n",
    "    "
   ]
  },
  {
   "cell_type": "code",
   "execution_count": 9,
   "metadata": {},
   "outputs": [
    {
     "data": {
      "text/plain": [
       "Text(0, 0.5, 'log probability')"
      ]
     },
     "execution_count": 9,
     "metadata": {},
     "output_type": "execute_result"
    },
    {
     "data": {
      "image/png": "[encoded data removed]",
      "text/plain": [
       "<Figure size 432x288 with 1 Axes>"
      ]
     },
     "metadata": {
      "needs_background": "light"
     },
     "output_type": "display_data"
    }
   ],
   "source": [
    "plt.plot(range(len(sents)),res,label='corpus')\n",
    "plt.plot(range(len(sents)),resfake,label='randomly generated')\n",
    "plt.legend()\n",
    "plt.xlabel('sentence id')\n",
    "plt.ylabel('log probability')"
   ]
  },
  {
   "cell_type": "code",
   "execution_count": null,
   "metadata": {},
   "outputs": [],
   "source": []
  }
 ],
 "metadata": {
  "kernelspec": {
   "display_name": "Python 3",
   "language": "python",
   "name": "python3"
  },
  "language_info": {
   "codemirror_mode": {
    "name": "ipython",
    "version": 3
   },
   "file_extension": ".py",
   "mimetype": "text/x-python",
   "name": "python",
   "nbconvert_exporter": "python",
   "pygments_lexer": "ipython3",
   "version": "3.7.6"
  }
 },
 "nbformat": 4,
 "nbformat_minor": 4
}
