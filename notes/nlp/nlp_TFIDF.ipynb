{
 "cells": [
  {
   "cell_type": "code",
   "execution_count": 1,
   "metadata": {},
   "outputs": [
    {
     "name": "stderr",
     "output_type": "stream",
     "text": [
      "[nltk_data] Downloading package words to /home/yui/nltk_data...\n",
      "[nltk_data]   Package words is already up-to-date!\n",
      "[nltk_data] Downloading package wordnet to /home/yui/nltk_data...\n",
      "[nltk_data]   Package wordnet is already up-to-date!\n",
      "[nltk_data] Downloading package averaged_perceptron_tagger to\n",
      "[nltk_data]     /home/yui/nltk_data...\n",
      "[nltk_data]   Package averaged_perceptron_tagger is already up-to-\n",
      "[nltk_data]       date!\n",
      "0it [00:00, ?it/s]\n",
      "TqdmDeprecationWarning: Please use `tqdm.pandas(...)` instead of `tqdm_pandas(tqdm(...))`.\n",
      "/home/yui/anaconda3/lib/python3.7/site-packages/tqdm/std.py:658: FutureWarning: The Panel class is removed from pandas. Accessing it from the top-level namespace will also be removed in the next version\n",
      "  from pandas import Panel\n"
     ]
    },
    {
     "data": {
      "text/html": [
       "<div>\n",
       "<style scoped>\n",
       "    .dataframe tbody tr th:only-of-type {\n",
       "        vertical-align: middle;\n",
       "    }\n",
       "\n",
       "    .dataframe tbody tr th {\n",
       "        vertical-align: top;\n",
       "    }\n",
       "\n",
       "    .dataframe thead th {\n",
       "        text-align: right;\n",
       "    }\n",
       "</style>\n",
       "<table border=\"1\" class=\"dataframe\">\n",
       "  <thead>\n",
       "    <tr style=\"text-align: right;\">\n",
       "      <th></th>\n",
       "      <th>OriginalTweet</th>\n",
       "      <th>Sentiment</th>\n",
       "    </tr>\n",
       "  </thead>\n",
       "  <tbody>\n",
       "    <tr>\n",
       "      <th>0</th>\n",
       "      <td>@MeNyrbie @Phil_Gahan @Chrisitv https://t.co/i...</td>\n",
       "      <td>Neutral</td>\n",
       "    </tr>\n",
       "    <tr>\n",
       "      <th>1</th>\n",
       "      <td>advice Talk to your neighbours family to excha...</td>\n",
       "      <td>Positive</td>\n",
       "    </tr>\n",
       "    <tr>\n",
       "      <th>2</th>\n",
       "      <td>Coronavirus Australia: Woolworths to give elde...</td>\n",
       "      <td>Positive</td>\n",
       "    </tr>\n",
       "    <tr>\n",
       "      <th>3</th>\n",
       "      <td>My food stock is not the only one which is emp...</td>\n",
       "      <td>Positive</td>\n",
       "    </tr>\n",
       "    <tr>\n",
       "      <th>4</th>\n",
       "      <td>Me, ready to go at supermarket during the #COV...</td>\n",
       "      <td>Extremely Negative</td>\n",
       "    </tr>\n",
       "  </tbody>\n",
       "</table>\n",
       "</div>"
      ],
      "text/plain": [
       "                                       OriginalTweet           Sentiment\n",
       "0  @MeNyrbie @Phil_Gahan @Chrisitv https://t.co/i...             Neutral\n",
       "1  advice Talk to your neighbours family to excha...            Positive\n",
       "2  Coronavirus Australia: Woolworths to give elde...            Positive\n",
       "3  My food stock is not the only one which is emp...            Positive\n",
       "4  Me, ready to go at supermarket during the #COV...  Extremely Negative"
      ]
     },
     "execution_count": 1,
     "metadata": {},
     "output_type": "execute_result"
    }
   ],
   "source": [
    "import numpy as np\n",
    "import matplotlib.pyplot as plt\n",
    "import pandas as pd\n",
    "import math\n",
    "import nltk\n",
    "from nltk.corpus import stopwords\n",
    "import string\n",
    "from nltk import word_tokenize\n",
    "nltk.download('words')\n",
    "nltk.download('wordnet')\n",
    "nltk.download('averaged_perceptron_tagger')\n",
    "from nltk.corpus import wordnet\n",
    "from nltk.stem import WordNetLemmatizer\n",
    "from tqdm import tqdm,tqdm_pandas\n",
    "\n",
    "tqdm_pandas(tqdm())\n",
    "\n",
    "pd.set_option('display.expand_frame_repr', False)\n",
    "PATH=\"/home/yui/Documents/data/nlp/covidTweet/Corona_NLP_train.csv\"\n",
    "df = pd.read_csv(PATH, encoding = \"ISO-8859-1\")\n",
    "df = df[[\"OriginalTweet\",\"Sentiment\"]]\n",
    "df.head(5)"
   ]
  },
  {
   "cell_type": "code",
   "execution_count": 2,
   "metadata": {},
   "outputs": [
    {
     "data": {
      "text/plain": [
       "array(['Neutral', 'Positive', 'Extremely Negative', 'Negative',\n",
       "       'Extremely Positive'], dtype=object)"
      ]
     },
     "execution_count": 2,
     "metadata": {},
     "output_type": "execute_result"
    }
   ],
   "source": [
    "df[\"Sentiment\"].unique()"
   ]
  },
  {
   "cell_type": "code",
   "execution_count": 3,
   "metadata": {
    "scrolled": false
   },
   "outputs": [
    {
     "name": "stdout",
     "output_type": "stream",
     "text": [
      "(41157, 2)\n"
     ]
    }
   ],
   "source": [
    "print(df.shape)"
   ]
  },
  {
   "cell_type": "code",
   "execution_count": 4,
   "metadata": {},
   "outputs": [],
   "source": [
    "class preprocessPipe:\n",
    "    def __init__(self):\n",
    "        self.eng = set(nltk.corpus.words.words())\n",
    "        self.lem = WordNetLemmatizer()\n",
    "        self.w2d = dict() # word:({docid:count,...},nt)\n",
    "        self.s2id = dict()\n",
    "    def get_wordnet_pos(self,word):\n",
    "        \"\"\"Map POS tag to first character lemmatize() accepts\"\"\"\n",
    "        tag = nltk.pos_tag([word])[0][1][0].upper()\n",
    "        tag_dict = {\"J\": wordnet.ADJ,\n",
    "                    \"N\": wordnet.NOUN,\n",
    "                    \"V\": wordnet.VERB,\n",
    "                    \"R\": wordnet.ADV}\n",
    "        return tag_dict.get(tag,wordnet.NOUN)\n",
    "    def lemmWord(self,w):\n",
    "        return self.lem.lemmatize(w,\n",
    "                self.get_wordnet_pos(w))\n",
    "    def tokenSentence(self,s):\n",
    "        return nltk.wordpunct_tokenize(s)\n",
    "    def sent2id(self,sentence):\n",
    "        ind = len(self.s2id)+1\n",
    "        self.s2id[sentence]=ind\n",
    "        return ind\n",
    "    def run(self,sentence):\n",
    "        sentence = sentence.lower()\n",
    "        ind = self.sent2id(sentence)\n",
    "        tokens = self.tokenSentence(sentence)\n",
    "        lemWords,visited,lenEng = [],set(),0\n",
    "        for w in tokens:\n",
    "            if w not in self.eng:\n",
    "                continue\n",
    "            w = self.lemmWord(w)\n",
    "            lemWords.append(w)\n",
    "            \n",
    "            # other operations\n",
    "            word2Doc,nt = self.w2d.get(w,(dict(),0))\n",
    "            if w not in visited:\n",
    "                nt+=1\n",
    "            freq = word2Doc.get(ind,0)+1\n",
    "            word2Doc[ind]=freq\n",
    "            self.w2d[w]=(word2Doc,nt)\n",
    "            visited.add(w)\n",
    "            lenEng+=1\n",
    "            \n",
    "        for w in visited:\n",
    "            word2Doc,nt = self.w2d[w]\n",
    "            p = word2Doc[ind]/lenEng\n",
    "            word2Doc[ind]=p\n",
    "            self.w2d[w] = (word2Doc,nt)\n",
    "            \n",
    "        return \" \".join(lemWords)"
   ]
  },
  {
   "cell_type": "code",
   "execution_count": 5,
   "metadata": {},
   "outputs": [],
   "source": [
    "pp = preprocessPipe()"
   ]
  },
  {
   "cell_type": "code",
   "execution_count": 6,
   "metadata": {
    "scrolled": false
   },
   "outputs": [
    {
     "name": "stderr",
     "output_type": "stream",
     "text": [
      "41157it [00:55, 739.12it/s]\n"
     ]
    }
   ],
   "source": [
    "df[\"ProcessedTweet\"] = df[\"OriginalTweet\"]\\\n",
    "    .progress_apply(pp.run)"
   ]
  },
  {
   "cell_type": "markdown",
   "metadata": {},
   "source": [
    "#### Term frequency-Inverse document frequency\n",
    "- Term frequency\n",
    "$$tf(t,d)=\\frac{f_{t,d}}{\\sum_{t'\\in d}f_{t',d}}$$\n",
    "\n",
    "where $f_{t,d}$ the count of a term $t$ in a document $d$. \n",
    "\n",
    "|Scheme|Weight|\n",
    "|---|-----|\n",
    "|binary|0,1|\n",
    "|raw count|$f_{t,d}$|\n",
    "|term freq|$\\frac{f_{t,d}}{\\sum_{t'\\in d}f_{t',d}}$|\n",
    "|log norm|log(1+$f_{t,d}$)|\n",
    "|double norm .5|0.5+0.5$\\frac{f_{t,d}}{\\max_{t'\\in d}f_{t',d}}$|\n",
    "|double norm K|K+(1-K)$\\frac{f_{t,d}}{\\max_{t'\\in d}f_{t',d}}$|\n",
    "\n",
    "- Inverse document frequency\n",
    "$$idf(t,D) = \\log\\frac{N}{|\\{d\\in D:t\\in d\\}|}$$\n",
    "\n",
    "where $N$ total number of documents in the corpus $N=|D|$. $|\\{d\\in D:t\\in d\\}|$ number of documents where the term $t$ appears. If the term is not in the corpus, it can lead to a division-by-zero. It is therefore common to adjust the denominator to $1+|\\{d\\in D:t\\in d\\}|$. \n",
    "\n",
    "|Scheme|Weight|\n",
    "|---|---|\n",
    "|unary|1|\n",
    "|inverse document frequency|$\\log\\frac{N}{n_t}$|\n",
    "|inverse document frequency max|log$\\frac{\\max_{t'\\in d}n_{t'}}{n_t+1}$|\n",
    "|inverse document frequency smooth|log$\\frac{N}{n_t+1}$+1|\n",
    "|probabilistic inverse document frequency|log$\\frac{N-n_t}{n_t}$|\n",
    "\n",
    "https://en.wikipedia.org/wiki/Tf%E2%80%93idf"
   ]
  },
  {
   "cell_type": "code",
   "execution_count": 7,
   "metadata": {},
   "outputs": [],
   "source": [
    "def plotSent2WordAnalysis(label,i):\n",
    "    sent = df[df[\"Sentiment\"]==label][\"OriginalTweet\"].iloc[i].lower()\n",
    "    sid = pp.s2id[sent]\n",
    "    tokens = pp.tokenSentence(sent)\n",
    "    words,scores,Length = [],[],len(pp.s2id)\n",
    "    for w in tokens:\n",
    "        if w not in pp.eng:\n",
    "            continue\n",
    "        w = pp.lemmWord(w)\n",
    "        word2Doc,nt = pp.w2d[w]\n",
    "        words.append(w)\n",
    "        scores.append(word2Doc[sid]*math.log(Length/nt))\n",
    "    plt.barh(words,scores)\n",
    "    print(sent)"
   ]
  },
  {
   "cell_type": "code",
   "execution_count": 8,
   "metadata": {},
   "outputs": [
    {
     "name": "stdout",
     "output_type": "stream",
     "text": [
      "coronavirus australia: woolworths to give elderly, disabled dedicated shopping hours amid covid-19 outbreak https://t.co/binca9vp8p\n"
     ]
    },
    {
     "data": {
      "image/png": "[encoded data removed]",
      "text/plain": [
       "<Figure size 432x288 with 1 Axes>"
      ]
     },
     "metadata": {
      "needs_background": "light"
     },
     "output_type": "display_data"
    }
   ],
   "source": [
    "plotSent2WordAnalysis(\"Positive\",1)"
   ]
  },
  {
   "cell_type": "code",
   "execution_count": 9,
   "metadata": {},
   "outputs": [
    {
     "name": "stdout",
     "output_type": "stream",
     "text": [
      "@10downingstreet @grantshapps what is being done to ensure food and other essential products are being re-stocked at supermarkets and panic buying actively discouraged? it cannot be left to checkout staff to police the actions of the selfish and profiteer\n"
     ]
    },
    {
     "data": {
      "image/png": "[encoded data removed]",
      "text/plain": [
       "<Figure size 432x288 with 1 Axes>"
      ]
     },
     "metadata": {
      "needs_background": "light"
     },
     "output_type": "display_data"
    }
   ],
   "source": [
    "plotSent2WordAnalysis(\"Negative\",1)"
   ]
  },
  {
   "cell_type": "code",
   "execution_count": 10,
   "metadata": {},
   "outputs": [
    {
     "name": "stdout",
     "output_type": "stream",
     "text": [
      "was at the supermarket today. didn't buy toilet paper. #rebel\r",
      "\r\n",
      "\r",
      "\r\n",
      "#toiletpapercrisis #covid_19 https://t.co/evxkqlidaz\n"
     ]
    },
    {
     "data": {
      "image/png": "[encoded data removed]",
      "text/plain": [
       "<Figure size 432x288 with 1 Axes>"
      ]
     },
     "metadata": {
      "needs_background": "light"
     },
     "output_type": "display_data"
    }
   ],
   "source": [
    "plotSent2WordAnalysis(\"Neutral\",1)"
   ]
  },
  {
   "cell_type": "code",
   "execution_count": 11,
   "metadata": {},
   "outputs": [
    {
     "name": "stdout",
     "output_type": "stream",
     "text": [
      "#horningsea is a caring community. letâs all look after the less capable in our village and ensure they stay healthy. bringing shopping to their doors, help with online shopping and self isolation if you have symptoms or been exposed to somebody who has. https://t.co/lsgrxxhjhh\n"
     ]
    },
    {
     "data": {
      "image/png": "[encoded data removed]",
      "text/plain": [
       "<Figure size 432x288 with 1 Axes>"
      ]
     },
     "metadata": {
      "needs_background": "light"
     },
     "output_type": "display_data"
    }
   ],
   "source": [
    "plotSent2WordAnalysis(\"Extremely Positive\",1)"
   ]
  },
  {
   "cell_type": "code",
   "execution_count": 12,
   "metadata": {},
   "outputs": [
    {
     "name": "stdout",
     "output_type": "stream",
     "text": [
      "with 100  nations inficted with  covid  19  the world must  not  play fair with china  100 goverments must demand  china  adopts new guilde  lines on food safty  the  chinese  goverment  is guilty of  being  irosponcible   with life  on a global scale\n"
     ]
    },
    {
     "data": {
      "image/png": "[encoded data removed]",
      "text/plain": [
       "<Figure size 432x288 with 1 Axes>"
      ]
     },
     "metadata": {
      "needs_background": "light"
     },
     "output_type": "display_data"
    }
   ],
   "source": [
    "plotSent2WordAnalysis(\"Extremely Negative\",1)"
   ]
  },
  {
   "cell_type": "code",
   "execution_count": null,
   "metadata": {},
   "outputs": [],
   "source": []
  }
 ],
 "metadata": {
  "kernelspec": {
   "display_name": "Python 3",
   "language": "python",
   "name": "python3"
  },
  "language_info": {
   "codemirror_mode": {
    "name": "ipython",
    "version": 3
   },
   "file_extension": ".py",
   "mimetype": "text/x-python",
   "name": "python",
   "nbconvert_exporter": "python",
   "pygments_lexer": "ipython3",
   "version": "3.7.6"
  }
 },
 "nbformat": 4,
 "nbformat_minor": 4
}
