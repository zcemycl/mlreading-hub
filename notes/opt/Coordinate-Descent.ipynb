{
 "cells": [
  {
   "cell_type": "code",
   "execution_count": null,
   "id": "7d741c67",
   "metadata": {},
   "outputs": [],
   "source": []
  },
  {
   "cell_type": "markdown",
   "id": "16e708c9",
   "metadata": {},
   "source": [
    "### References\n",
    "1. https://xavierbourretsicotte.github.io/lasso_derivation.html"
   ]
  },
  {
   "cell_type": "code",
   "execution_count": null,
   "id": "40154696",
   "metadata": {},
   "outputs": [],
   "source": []
  }
 ],
 "metadata": {
  "kernelspec": {
   "display_name": "Python 3 (ipykernel)",
   "language": "python",
   "name": "python3"
  },
  "language_info": {
   "codemirror_mode": {
    "name": "ipython",
    "version": 3
   },
   "file_extension": ".py",
   "mimetype": "text/x-python",
   "name": "python",
   "nbconvert_exporter": "python",
   "pygments_lexer": "ipython3",
   "version": "3.9.13"
  }
 },
 "nbformat": 4,
 "nbformat_minor": 5
}
