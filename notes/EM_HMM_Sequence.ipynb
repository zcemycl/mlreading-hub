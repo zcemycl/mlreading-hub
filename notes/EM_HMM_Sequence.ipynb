{
 "cells": [
  {
   "cell_type": "code",
   "execution_count": 1,
   "metadata": {},
   "outputs": [],
   "source": [
    "import numpy as np\n",
    "import random\n",
    "import matplotlib.pyplot as plt\n",
    "from tqdm import tqdm\n",
    "from collections import defaultdict"
   ]
  },
  {
   "cell_type": "markdown",
   "metadata": {},
   "source": [
    "### Hidden Markov Models (HMMs)\n",
    "$$\\begin{align*}P(O) &= \\sum_Q P(O,Q)=\\sum_Q P(O|Q)P(Q) \\\\ &= \\sum_{j=1}^N \\prod^T_{i=1}P(o_i|q_i)P(q_i|q_{i-1})= \\sum_{j=1}^N \\prod^T_{i=1}a_{ij}b(o_i)\n",
    "\\end{align*}$$\n",
    "It is useful for 3 fundamental problems, \n",
    "1. Likelihood \n",
    "<p> Given an HMM $\\lambda = (A,B)$ and an observation sequence $O$, determine the likelihood $P(O|\\lambda)$. </p>\n",
    "2. Decoding\n",
    "<p> Given an observation sequence $O$ and and HMM $\\lambda=(A,B)$, discover the best hidden state sequence Q. </p>\n",
    "3. Learning\n",
    "<p> Given an observation sequence $O$ and the set of states in the HMM, learn the HMM parameters $A$ and $B$. </p>"
   ]
  },
  {
   "cell_type": "code",
   "execution_count": 2,
   "metadata": {},
   "outputs": [],
   "source": [
    "class HMM:\n",
    "    def __init__(self):\n",
    "        self.params = defaultdict(dict)\n",
    "        self.o2id,self.id2o = dict(),dict()\n",
    "        self.q2id,self.id2q = dict(),dict()\n",
    "    def _setDistinctObservations(self,distO):\n",
    "        self.o = len(distO)\n",
    "        for i,o in enumerate(distO):\n",
    "            self.o2id[o]=i\n",
    "            self.id2o[i]=o\n",
    "    def _setDistinctHiddens(self,distQ):\n",
    "        self.q = len(distQ)\n",
    "        A = np.random.uniform(0,1,(self.q,self.q))\n",
    "        A /= np.sum(A,axis=1,keepdims=1)\n",
    "        B = np.random.uniform(0,1,(self.q,self.o))\n",
    "        B /= np.sum(B,axis=1,keepdims=1)\n",
    "        pi = np.random.uniform(0,1,self.q)\n",
    "        pi/= np.sum(pi)\n",
    "        self.A = defaultdict(dict)\n",
    "        self.B = defaultdict(dict)\n",
    "        self.pi = {}\n",
    "        for i,q in enumerate(distQ):\n",
    "            self.q2id[q]=i\n",
    "            self.id2q[i]=q\n",
    "            for j,q_ in enumerate(distQ):\n",
    "                self.A[i][j] = A[i][j]\n",
    "            for k in range(self.o):\n",
    "                self.B[i][k] = B[i][k]\n",
    "            self.pi[i] = pi[i]\n",
    "    def setDistinctHiddensAndObservations(self,distO,distQ):\n",
    "        self._setDistinctObservations(distO)\n",
    "        self._setDistinctHiddens(distQ)\n",
    "    def setSpecificEmit(self,qSym,emitDict):\n",
    "        assert sum(emitDict.values())==1, \"Sum of probability is not 1\"\n",
    "        for i in self.B[self.q2id[qSym]].keys():\n",
    "            # assert in dict\n",
    "            self.B[self.q2id[qSym]][i]=emitDict.get(self.id2o[i],0)\n",
    "        assert sum(self.B[self.q2id[qSym]].values())==1, \"Sum of probability is not 1\"\n",
    "    def setSpecificTransit(self,qSym,tranDict):\n",
    "        assert sum(tranDict.values())==1, \"Sum of probability is not 1\"\n",
    "        for i in self.A[self.q2id[qSym]].keys():\n",
    "            self.A[self.q2id[qSym]][i]=tranDict.get(self.id2q[i],0)\n",
    "        assert sum(self.A[self.q2id[qSym]].values())==1, \"Sum of probability is not 1\"\n",
    "    def setInitial(self,initDict):\n",
    "        assert sum(initDict.values())==1, \"Sum of probability is not 1\"\n",
    "        for i in self.pi.keys():\n",
    "            # assert in dict\n",
    "            self.pi[i]=initDict.get(self.id2q[i],0)\n",
    "        assert sum(self.pi.values())==1, \"Sum of probability is not 1\"\n",
    "    def computeLikelihood(self,Os):\n",
    "        raise NotImplementedError(\"You need to implement function1 when you inherit from Model\")\n",
    "    def decode(self,Os):\n",
    "        raise NotImplementedError(\"You need to implement function1 when you inherit from Model\")\n",
    "    def learn(self,Qs,Os):\n",
    "        raise NotImplementedError(\"You need to implement function1 when you inherit from Model\")"
   ]
  },
  {
   "cell_type": "code",
   "execution_count": 3,
   "metadata": {},
   "outputs": [],
   "source": [
    "hmm = HMM()\n",
    "hmm.setDistinctHiddensAndObservations([0,1,2,3],[\"H\",\"C\"])\n",
    "hmm.setInitial({\"H\":0.7,\"C\":0.3})\n",
    "hmm.setSpecificTransit(\"H\",{\"H\":0.7,\"C\":0.3})\n",
    "hmm.setSpecificTransit(\"C\",{\"H\":0.8,\"C\":0.2})\n",
    "hmm.setSpecificEmit(\"H\",{0:0.2,1:0.7,2:0.05,3:0.05})\n",
    "hmm.setSpecificEmit(\"C\",{0:0.9,1:0.05,2:0.05})"
   ]
  },
  {
   "cell_type": "markdown",
   "metadata": {},
   "source": [
    "#### 1. Likelihood: Forward Algorithm\n",
    "a. Initialization\n",
    "$$\\alpha_1(j) = \\pi_jb_j(o_1) \\qquad 1\\leq j\\leq N$$\n",
    "b. Recursion\n",
    "$$\\begin{align*}\\alpha_t(j) &= P(\\{o_i\\}_{i=1}^t, q_t=j|\\lambda) \\\\ \n",
    "&= \\sum^N_{i=1}\\alpha_{t-1}(i)a_{ij}b_j(o_t) \\qquad 1\\leq j\\leq N\\quad ,\\quad 1<t\\leq T \\end{align*}$$\n",
    "c. Termination\n",
    "$$\n",
    "P(O|\\lambda) = \\sum^N_{i=1}\\alpha_T(i)\n",
    "$$\n",
    "<details>\n",
    "<summary><h4>Click to view proof for Forward probability!</h4></summary>\n",
    "$$\\begin{align*}\n",
    "\\alpha_t(j) &= P(\\{o_k\\}^t_1,q_t=j|\\lambda) = \\sum^N_{i=1} P(\\{o_k\\}^{t-1}_1,o_t,q_t=j,q_{t-1}=i|\\lambda)\\\\\n",
    "&= \\sum^N_{i=1}P(o_t|\\{o_k\\}^{t-1}_1,q_t=j,q_{t-1}=i,\\lambda)P(q_t=j|\\{o_k\\}^{t-1}_1,q_{t-1}=i,\\lambda) \\\\ &\\qquad \\times P(\\{o_k\\}^{t-1}_1,q_{t-1}=i|\\lambda) \\\\\n",
    "&= \\sum^N_{i=1}P(\\{o_k\\}^{t-1}_1,q_{t-1}=i|\\lambda)P(q_t=j|q_{t-1}=i,\\lambda)P(o_t|q_t=j,\\lambda) \\\\\n",
    "&= \\sum^N_{i=1}\\alpha_{t-1}(i)a_{ij}b_j(o_t)\n",
    "\\end{align*}\n",
    "$$\n",
    "</details>"
   ]
  },
  {
   "cell_type": "code",
   "execution_count": 4,
   "metadata": {},
   "outputs": [],
   "source": [
    "def likelihood(self,Os):\n",
    "    Length = len(Os)\n",
    "    alpha = np.zeros((self.q,Length))\n",
    "    for t,o in enumerate(Os):\n",
    "        for i in range(self.q):\n",
    "            if t==0:\n",
    "                alpha[i,t]=self.pi[i]*self.B[i][self.o2id[o]]\n",
    "            else:\n",
    "                for j in range(self.q):\n",
    "                    alpha[i,t]+=alpha[j,t-1]*self.A[j][i]\n",
    "                alpha[i,t]*=self.B[i][self.o2id[o]]\n",
    "    return sum(alpha[:,-1]),alpha\n",
    "    \n",
    "hmm.computeLikelihood = lambda x:likelihood(hmm,x)"
   ]
  },
  {
   "cell_type": "code",
   "execution_count": 5,
   "metadata": {},
   "outputs": [
    {
     "name": "stdout",
     "output_type": "stream",
     "text": [
      "(0.5049999999999999, array([[0.49 ],\n",
      "       [0.015]]))\n",
      "(0.41000000000000003, array([[0.14],\n",
      "       [0.27]]))\n",
      "(0.049999999999999996, array([[0.035],\n",
      "       [0.015]]))\n",
      "(0.034999999999999996, array([[0.035],\n",
      "       [0.   ]]))\n",
      "(0.25599999999999995, array([[0.49  , 0.2485],\n",
      "       [0.015 , 0.0075]]))\n",
      "(0.20599999999999996, array([[0.49 , 0.071],\n",
      "       [0.015, 0.135]]))\n",
      "(0.2246, array([[0.14  , 0.2198],\n",
      "       [0.27  , 0.0048]]))\n",
      "(0.1492, array([[0.14  , 0.0628],\n",
      "       [0.27  , 0.0864]]))\n"
     ]
    }
   ],
   "source": [
    "print(hmm.computeLikelihood([1]))\n",
    "print(hmm.computeLikelihood([0]))\n",
    "print(hmm.computeLikelihood([2]))\n",
    "print(hmm.computeLikelihood([3]))\n",
    "print(hmm.computeLikelihood([1,1]))\n",
    "print(hmm.computeLikelihood([1,0]))\n",
    "print(hmm.computeLikelihood([0,1]))\n",
    "print(hmm.computeLikelihood([0,0]))"
   ]
  },
  {
   "cell_type": "markdown",
   "metadata": {},
   "source": [
    "#### 2. Decoding: Viterbi Algorithm\n",
    "a. Initialization\n",
    "$$\\begin{align*}\n",
    "v_1(j) &= \\pi_jb_j(o_1) &\\qquad 1\\leq j\\leq N \\\\\n",
    "bt_1(j) &= 0 &\\qquad 1\\leq j\\leq N\n",
    "\\end{align*}\n",
    "$$\n",
    "b. Recursion\n",
    "$$\\begin{align*}\n",
    "v_t(j) &=\\max_{\\{q_k\\}_1^{t-1}} P(\\{q_k\\}_1^{t-1},\\{o_k\\}_1^t,q_t=j | \\lambda) \\\\&= \\max^N_{i=1}v_{t-1}(i)a_{ij}b_j(o_t) &\\qquad 1\\leq j\\leq N\\quad ,\\quad 1<t\\leq T\\\\\n",
    "bt_t(j) &= \\arg\\max^N_{i=1}v_{t-1}(i)a_{ij}b_j(o_t) &\\qquad 1\\leq j\\leq N\\quad ,\\quad 1<t\\leq T\\\\\n",
    "\\end{align*}\n",
    "$$\n",
    "c. Termination\n",
    "$$\\begin{align*}\n",
    "P* &= \\max^N_{i=1}v_T(i) \\\\\n",
    "q_T* &= \\arg\\max^N_{i=1}v_T(i)\n",
    "\\end{align*}\n",
    "$$"
   ]
  },
  {
   "cell_type": "code",
   "execution_count": 6,
   "metadata": {},
   "outputs": [],
   "source": [
    "def decode(self,Os):\n",
    "    Length = len(Os)\n",
    "    V = np.zeros((self.q,Length))\n",
    "    bt = [0]*Length\n",
    "    for t,o in enumerate(Os):\n",
    "        for i in range(self.q):\n",
    "            if t==0:\n",
    "                V[i,t]=self.pi[i]*self.B[i][self.o2id[o]]\n",
    "            else:\n",
    "                for j in range(self.q):\n",
    "                    V[i,t]=max(V[i,t],V[j,t-1]*self.A[j][i])\n",
    "                V[i,t]*=self.B[i][self.o2id[o]]\n",
    "        bt[t]=self.id2q[np.argmax(V[:,t])]\n",
    "    P_ = max(V[:,-1])\n",
    "    return P_,bt\n",
    "hmm.decode = lambda x:decode(hmm,x)"
   ]
  },
  {
   "cell_type": "code",
   "execution_count": 7,
   "metadata": {},
   "outputs": [
    {
     "name": "stdout",
     "output_type": "stream",
     "text": [
      "(0.27, ['C'])\n",
      "(0.48999999999999994, ['H'])\n",
      "(0.034999999999999996, ['H'])\n",
      "(0.034999999999999996, ['H'])\n"
     ]
    }
   ],
   "source": [
    "for o in hmm.o2id.keys():\n",
    "    print(hmm.decode([o]))"
   ]
  },
  {
   "cell_type": "code",
   "execution_count": 8,
   "metadata": {},
   "outputs": [
    {
     "data": {
      "text/plain": [
       "(0.0020995200000000006, ['C', 'C', 'C', 'C'])"
      ]
     },
     "execution_count": 8,
     "metadata": {},
     "output_type": "execute_result"
    }
   ],
   "source": [
    "hmm.decode([0,0,0,0])"
   ]
  },
  {
   "cell_type": "markdown",
   "metadata": {},
   "source": [
    "#### 3. Learning: HMM Training with Forward-Backward Algorithm\n",
    "> Backward Probability\n",
    "\n",
    "a. Initialization\n",
    "$$\\beta_T(i) = 1 \\qquad 1\\leq i\\leq N$$\n",
    "b. Recursion\n",
    "$$\\begin{align*}\n",
    "\\beta_t(i) &= P(\\{o_k\\}_{t+1}^T|q_t=i,\\lambda) \\\\\n",
    "&=\\sum^N_{j=1}a_{ij}b_j(o_{t+1})\\beta_{t+1}(j) \\qquad 1\\leq i\\leq N\\quad,\\quad 1\\leq t<T\n",
    "\\end{align*}\n",
    "$$\n",
    "c. Termination\n",
    "$$P(O|\\lambda)=\\sum^N_{j=1}\\pi_j b_j(o_1)\\beta_1(j)$$\n",
    "<details >\n",
    "<summary><h4>Click to view proof for Backward probability!</h4></summary>\n",
    "$$\\begin{align*}\n",
    "\\beta_t(i) &= P(\\{o_k\\}_{t+1}^T|q_t=i,\\lambda) = \\sum^N_{j=1}P(q_{t+1}=j,o_{t+1},\\{o_k\\}^T_{t+2}|q_t=i,\\lambda) \\\\\n",
    "&= \\sum^N_{j=1}\\frac{P(q_{t+1}=j,o_{t+1},\\{o_k\\}^T_{t+2},q_t=i|\\lambda)}{P(q_t=i|\\lambda)} \\\\\n",
    "&= \\sum^N_{j=1}\\frac{P(o_{t+1}|q_{t+1}=j,\\{o_k\\}^T_{t+2},q_t=i,\\lambda)\\times\\\\P(\\{o_k\\}^T_{t+2}|q_{t+1}=j,q_t=i,\\lambda)\\times\\\\P(q_{t+1}=j|q_t=i,\\lambda)P(q_t=i|\\lambda)}{P(q_t=i|\\lambda)} \\\\\n",
    "&= \\sum^N_{j=1}P(q_{t+1}=j|q_t=i,\\lambda)P(o_{t+1}|q_{t+1}=j,\\lambda)P(\\{o_k\\}^T_{t+2}|q_{t+1}=j,\\lambda) \\\\\n",
    "&= \\sum^N_{j=1}a_{ij}b_j(o_{t+1})\\beta_{t+1}(j)\n",
    "\\end{align*}$$\n",
    "</details>\n",
    "\n"
   ]
  },
  {
   "cell_type": "code",
   "execution_count": 9,
   "metadata": {},
   "outputs": [],
   "source": [
    "def likelihood_backwards(self,Os):\n",
    "    Length = len(Os)\n",
    "    beta = np.zeros((self.q,Length))\n",
    "    for t in range(Length-1,-1,-1):\n",
    "        o = Os[t]\n",
    "        for i in range(self.q):\n",
    "            if t==Length-1:\n",
    "                beta[i,t]=1\n",
    "            else:\n",
    "                for j in range(self.q):\n",
    "                    o_tp1 = self.o2id[Os[t+1]]\n",
    "                    tmp=beta[j,t+1]*self.A[i][j]\n",
    "                    tmp*=self.B[j][o_tp1]\n",
    "                    beta[i,t]+=tmp\n",
    "\n",
    "    P = 0\n",
    "    for j in range(self.q):\n",
    "        P+=self.pi[j]*self.B[j][self.o2id[Os[0]]]*beta[j,0]\n",
    "    return P,beta\n",
    "    \n",
    "hmm.likelihood_backwards = lambda x:likelihood_backwards(hmm,x)\n",
    "               "
   ]
  },
  {
   "cell_type": "code",
   "execution_count": 10,
   "metadata": {},
   "outputs": [
    {
     "name": "stdout",
     "output_type": "stream",
     "text": [
      "0.5049999999999999 0.5049999999999999\n",
      "0.41000000000000003 0.41000000000000003\n",
      "0.049999999999999996 0.049999999999999996\n",
      "0.034999999999999996 0.034999999999999996\n",
      "0.25599999999999995 0.2559999999999999\n",
      "0.20599999999999996 0.206\n",
      "0.2246 0.22459999999999997\n",
      "0.1492 0.14920000000000003\n"
     ]
    }
   ],
   "source": [
    "print(hmm.computeLikelihood([1])[0],\n",
    "      hmm.likelihood_backwards([1])[0])\n",
    "print(hmm.computeLikelihood([0])[0],\n",
    "      hmm.likelihood_backwards([0])[0])\n",
    "print(hmm.computeLikelihood([2])[0],\n",
    "      hmm.likelihood_backwards([2])[0])\n",
    "print(hmm.computeLikelihood([3])[0],\n",
    "      hmm.likelihood_backwards([3])[0])\n",
    "print(hmm.computeLikelihood([1,1])[0],\n",
    "      hmm.likelihood_backwards([1,1])[0])\n",
    "print(hmm.computeLikelihood([1,0])[0],\n",
    "      hmm.likelihood_backwards([1,0])[0])\n",
    "print(hmm.computeLikelihood([0,1])[0],\n",
    "      hmm.likelihood_backwards([0,1])[0])\n",
    "print(hmm.computeLikelihood([0,0])[0],\n",
    "      hmm.likelihood_backwards([0,0])[0])"
   ]
  },
  {
   "cell_type": "markdown",
   "metadata": {},
   "source": [
    "#### Sampling from HMM"
   ]
  },
  {
   "cell_type": "code",
   "execution_count": 11,
   "metadata": {},
   "outputs": [],
   "source": [
    "def samples(self,length):\n",
    "    Qs,Os = [],[]\n",
    "    for i in range(length):\n",
    "        if i==0:\n",
    "            q = np.random.choice(self.q,1,\n",
    "                    p=list(self.pi.values()))\n",
    "        else:\n",
    "            q = np.random.choice(self.q,1,\n",
    "                    p=list(self.A[q[0]].values()))\n",
    "        o = np.random.choice(self.o,1,\n",
    "                    p=list(self.B[q[0]].values()))\n",
    "        Qs.append(self.id2q[q[0]])\n",
    "        Os.append(self.id2o[o[0]])\n",
    "    return Qs,Os\n",
    "\n",
    "hmm.samples = lambda x:samples(hmm,x)"
   ]
  },
  {
   "cell_type": "code",
   "execution_count": 12,
   "metadata": {
    "scrolled": false
   },
   "outputs": [
    {
     "name": "stdout",
     "output_type": "stream",
     "text": [
      "['C', 'C', 'H', 'C', 'H', 'H'] ['C', 'C', 'C', 'C', 'H', 'H'] 0.000576108288 [0, 0, 0, 0, 1, 1] 0.00559189888 0.005591898879999998\n",
      "['H', 'H', 'C', 'H', 'H', 'C'] ['H', 'H', 'C', 'H', 'H', 'C'] 0.004802902775999997 [1, 1, 0, 1, 1, 0] 0.011813907699999994 0.011813907699999992\n",
      "['C', 'C', 'H', 'H', 'C', 'H'] ['H', 'C', 'H', 'C', 'C', 'H'] 0.000144027072 [2, 0, 1, 0, 0, 1] 0.0008563935100000001 0.0008563935099999997\n",
      "['H', 'C', 'H', 'H', 'H', 'H'] ['H', 'C', 'H', 'H', 'H', 'C'] 0.0003430644839999998 [1, 0, 1, 2, 1, 0] 0.0012072514999999996 0.0012072514999999999\n",
      "['H', 'H', 'H', 'C', 'H', 'H'] ['C', 'H', 'H', 'C', 'H', 'H'] 0.005489031743999998 [0, 1, 1, 0, 1, 1] 0.012865923699999999 0.012865923699999993\n",
      "['C', 'H', 'H', 'H', 'H', 'C'] ['C', 'H', 'C', 'H', 'H', 'C'] 1.5431472e-05 [0, 1, 0, 3, 2, 0] 6.8314235e-05 6.831423500000002e-05\n",
      "['H', 'H', 'H', 'H', 'C', 'H'] ['H', 'H', 'C', 'H', 'C', 'C'] 0.00012602368800000003 [3, 1, 0, 1, 0, 0] 0.00058717435 0.0005871743500000001\n",
      "['H', 'H', 'H', 'C', 'C', 'H'] ['H', 'H', 'H', 'C', 'C', 'H'] 0.00022870965599999994 [1, 1, 1, 0, 0, 2] 0.00096380675 0.0009638067499999998\n",
      "['C', 'C', 'H', 'H', 'C', 'H'] ['C', 'C', 'C', 'H', 'C', 'H'] 7.054387200000003e-05 [0, 0, 0, 1, 0, 3] 0.00046829852 0.00046829852000000006\n",
      "['H', 'C', 'H', 'H', 'H', 'C'] ['H', 'C', 'H', 'H', 'H', 'H'] 4.447132199999998e-05 [1, 0, 1, 2, 1, 2] 0.00014787631249999996 0.00014787631249999994\n"
     ]
    }
   ],
   "source": [
    "N = 10\n",
    "for i in range(N):\n",
    "    Qs,Os = hmm.samples(6)\n",
    "    l,alpha = hmm.computeLikelihood(Os)\n",
    "    lB,beta = hmm.likelihood_backwards(Os)\n",
    "    lQ,dQs = hmm.decode(Os)\n",
    "    print(Qs,dQs,lQ,Os,l,lB)"
   ]
  },
  {
   "cell_type": "markdown",
   "metadata": {},
   "source": [
    "> Transition Probability Matrix $A$\n",
    "\n",
    "$$\\begin{align*}\n",
    "    \\hat{a}_{ij}&=\\frac{\\sum^{T-1}_{t=1}\\xi_t(i,j)}{\\sum^{T-1}_{t=1}\\sum^N_{k=1}\\xi_t(i,k)}\\\\\n",
    "    \\xi_t(i,j) &= \\frac{\\alpha_t(i)a_{ij}b_j(o_{t+1})\\beta_{t+1}(j)}{\\sum^N_{j=1}\\alpha_t(j)\\beta_t(j)}\n",
    "\\end{align*}$$\n",
    "<details >\n",
    "<summary><h4>Click to view proof for transition probability!</h4></summary>\n",
    "\n",
    "</details>\n",
    "\n",
    "> Emission Probabilities $B$\n",
    "\n",
    "$$\\begin{align*}\n",
    "\\hat{b}_j(v_k) &= \\frac{\\sum^T_{t=1 s.t.O_t=v_k}\\gamma_t(j)}{\\sum^T_{t=1}\\gamma_t(j)} \\\\\n",
    "\\gamma_t(j) &= \\frac{\\alpha_t(j)\\beta_t(j)}{\\sum^N_{j=1}\\alpha_t(j)\\beta_t(j)}\n",
    "\\end{align*}$$\n",
    "<details >\n",
    "<summary><h4>Click to view proof for emission probability!</h4></summary>\n",
    "\n",
    "</details>"
   ]
  },
  {
   "cell_type": "code",
   "execution_count": 13,
   "metadata": {},
   "outputs": [],
   "source": [
    "def e_step(self,Os):\n",
    "    Length = len(Os)\n",
    "    l,alpha = self.computeLikelihood(Os)\n",
    "    lB,beta = self.likelihood_backwards(Os)\n",
    "    alphabeta = alpha*beta\n",
    "    sum_alphabeta = np.sum(alphabeta,axis=0)\n",
    "    gamma = alphabeta/sum_alphabeta\n",
    "    xi = np.zeros((Length,self.q,self.q))\n",
    "    for t in range(Length-1):\n",
    "        o_tp1 = self.o2id[Os[t+1]]\n",
    "        for i in range(self.q):\n",
    "            for j in range(self.q):\n",
    "                tmp=alpha[i,t]*beta[j,t+1]\n",
    "                tmp*=self.A[i][j]*self.B[j][o_tp1]\n",
    "                xi[t,i,j]=tmp/sum_alphabeta[t]\n",
    "    return l,gamma,xi"
   ]
  },
  {
   "cell_type": "code",
   "execution_count": 14,
   "metadata": {},
   "outputs": [],
   "source": [
    "def m_step(self,Os,gamma,xi):\n",
    "    atop = np.sum(xi[:-1,:,:],axis=0)\n",
    "    abottom = np.sum(atop,axis=1,keepdims=1)\n",
    "    Os = np.array(Os)\n",
    "    btop = np.zeros((self.o,self.q))\n",
    "    for o in range(self.o):\n",
    "        tmp = gamma[:,Os==self.id2o[o]].sum(axis=1)\n",
    "        btop[o,:] = tmp\n",
    "    bbottom = gamma.sum(axis=1)\n",
    "    return atop,abottom,btop,bbottom"
   ]
  },
  {
   "cell_type": "code",
   "execution_count": 15,
   "metadata": {},
   "outputs": [],
   "source": [
    "def update(self,A,B,pi):\n",
    "    for i in range(self.q):\n",
    "        for j in range(self.q):\n",
    "            self.A[i][j]=A[i,j]\n",
    "        self.pi[i]=pi[i]\n",
    "        for o in range(self.o):\n",
    "            self.B[i][o]=B[o,i]"
   ]
  },
  {
   "cell_type": "code",
   "execution_count": 16,
   "metadata": {},
   "outputs": [],
   "source": [
    "def learn(self,Osamples,iters=10):\n",
    "    ls = []\n",
    "    for _ in tqdm(range(iters)):\n",
    "        tmp,at,ab,bt,bb,pt = 0,0,0,0,0,0\n",
    "        for Os in Osamples:\n",
    "            l,gamma,xi = self.e_step(Os)\n",
    "            tmp+=l\n",
    "            atop,abottom,btop,bbottom = self.m_step(Os,gamma,xi)\n",
    "            at+=atop\n",
    "            ab+=abottom\n",
    "            bt+=btop\n",
    "            bb+=bbottom\n",
    "            pt+=gamma[:,0]\n",
    "        ls.append(tmp/N)\n",
    "        pi = pt/N\n",
    "        A = at/ab\n",
    "        B = bt/bb\n",
    "        self.update(A,B,pi)\n",
    "    return ls"
   ]
  },
  {
   "cell_type": "code",
   "execution_count": 17,
   "metadata": {},
   "outputs": [],
   "source": [
    "def add_patch(obj):\n",
    "    obj.computeLikelihood = lambda x:likelihood(obj,x)\n",
    "    obj.decode = lambda x:decode(obj,x)\n",
    "    obj.likelihood_backwards = lambda x:likelihood_backwards(obj,x)\n",
    "    obj.samples = lambda x:samples(obj,x)\n",
    "    obj.e_step = lambda x:e_step(obj,x)\n",
    "    obj.m_step = lambda x,y,z: m_step(obj,x,y,z)  \n",
    "    obj.update = lambda x,y,z: update(obj,x,y,z)\n",
    "    obj.learn = lambda x,y: learn(obj,x,y)\n",
    "    return obj"
   ]
  },
  {
   "cell_type": "code",
   "execution_count": 18,
   "metadata": {},
   "outputs": [],
   "source": [
    "hmm = add_patch(hmm)\n",
    "N,T = 1000,6\n",
    "Osamples = []\n",
    "for _ in range(N):\n",
    "    Qs,Os = hmm.samples(T)\n",
    "    Osamples.append(Os)"
   ]
  },
  {
   "cell_type": "code",
   "execution_count": 19,
   "metadata": {
    "scrolled": true
   },
   "outputs": [
    {
     "name": "stdout",
     "output_type": "stream",
     "text": [
      "[[1, 1, 0, 0, 2, 1], [0, 1, 1, 1, 0, 2], [3, 0, 1, 1, 0, 1]]\n"
     ]
    }
   ],
   "source": [
    "print(Osamples[0:3])"
   ]
  },
  {
   "cell_type": "code",
   "execution_count": 20,
   "metadata": {},
   "outputs": [],
   "source": [
    "model = HMM()\n",
    "model.setDistinctHiddensAndObservations([0,1,2,3],[\"H\",\"C\"])\n",
    "model = add_patch(model)"
   ]
  },
  {
   "cell_type": "code",
   "execution_count": 21,
   "metadata": {},
   "outputs": [
    {
     "name": "stdout",
     "output_type": "stream",
     "text": [
      "defaultdict(<class 'dict'>, {0: {0: 0.27598362460892506, 1: 0.724016375391075}, 1: {0: 0.5013706614085423, 1: 0.49862933859145786}})\n",
      "defaultdict(<class 'dict'>, {0: {0: 0.5443808888985004, 1: 0.3033362788273822, 2: 0.12024252800943273, 3: 0.032040304264684634}, 1: {0: 0.2990199978975486, 1: 0.5255697653609589, 2: 0.13800031157842993, 3: 0.03740992516306255}})\n",
      "{0: 0.8155274069343782, 1: 0.18447259306562178}\n"
     ]
    }
   ],
   "source": [
    "print(model.A)\n",
    "print(model.B)\n",
    "print(model.pi)"
   ]
  },
  {
   "cell_type": "code",
   "execution_count": 22,
   "metadata": {},
   "outputs": [
    {
     "name": "stderr",
     "output_type": "stream",
     "text": [
      "100%|██████████| 10/10 [00:00<00:00, 11.12it/s]\n"
     ]
    },
    {
     "data": {
      "text/plain": [
       "[<matplotlib.lines.Line2D at 0x7f4b9c29ca90>]"
      ]
     },
     "execution_count": 22,
     "metadata": {},
     "output_type": "execute_result"
    },
    {
     "data": {
      "image/png": "[encoded data removed]",
      "text/plain": [
       "<Figure size 432x288 with 1 Axes>"
      ]
     },
     "metadata": {
      "needs_background": "light"
     },
     "output_type": "display_data"
    }
   ],
   "source": [
    "iters = 10\n",
    "ls = model.learn(Osamples,iters)\n",
    "plt.plot(range(iters),ls)"
   ]
  },
  {
   "cell_type": "code",
   "execution_count": 23,
   "metadata": {},
   "outputs": [
    {
     "name": "stdout",
     "output_type": "stream",
     "text": [
      "defaultdict(<class 'dict'>, {0: {0: 0.2776440717125321, 1: 0.7223559282874671}, 1: {0: 0.5129663961349196, 1: 0.4870336038650777}})\n",
      "defaultdict(<class 'dict'>, {0: {0: 0.5028424147483609, 1: 0.40213675664317416, 2: 0.05541431048363899, 3: 0.0396065181248238}, 1: {0: 0.31566145542028834, 1: 0.6035400248517026, 2: 0.046014210209111756, 3: 0.03478430951889797}})\n",
      "{0: 0.7423630004191993, 1: 0.25763699958080183}\n"
     ]
    }
   ],
   "source": [
    "print(model.A)\n",
    "print(model.B)\n",
    "print(model.pi)"
   ]
  },
  {
   "cell_type": "code",
   "execution_count": 24,
   "metadata": {},
   "outputs": [
    {
     "name": "stdout",
     "output_type": "stream",
     "text": [
      "defaultdict(<class 'dict'>, {0: {0: 0.7, 1: 0.3}, 1: {0: 0.8, 1: 0.2}})\n",
      "defaultdict(<class 'dict'>, {0: {0: 0.2, 1: 0.7, 2: 0.05, 3: 0.05}, 1: {0: 0.9, 1: 0.05, 2: 0.05, 3: 0}})\n",
      "{0: 0.7, 1: 0.3}\n"
     ]
    }
   ],
   "source": [
    "print(hmm.A)\n",
    "print(hmm.B)\n",
    "print(hmm.pi)"
   ]
  },
  {
   "cell_type": "markdown",
   "metadata": {},
   "source": [
    "### References\n",
    "- https://web.stanford.edu/~jurafsky/slp3/A.pdf\n",
    "- https://en.wikipedia.org/wiki/Baum%E2%80%93Welch_algorithm"
   ]
  },
  {
   "cell_type": "code",
   "execution_count": null,
   "metadata": {},
   "outputs": [],
   "source": []
  }
 ],
 "metadata": {
  "kernelspec": {
   "display_name": "Python 3",
   "language": "python",
   "name": "python3"
  },
  "language_info": {
   "codemirror_mode": {
    "name": "ipython",
    "version": 3
   },
   "file_extension": ".py",
   "mimetype": "text/x-python",
   "name": "python",
   "nbconvert_exporter": "python",
   "pygments_lexer": "ipython3",
   "version": "3.7.6"
  }
 },
 "nbformat": 4,
 "nbformat_minor": 2
}
