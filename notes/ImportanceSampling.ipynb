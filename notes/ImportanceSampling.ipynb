{
 "cells": [
  {
   "cell_type": "code",
   "execution_count": 1,
   "metadata": {},
   "outputs": [],
   "source": [
    "import numpy as np \n",
    "import matplotlib.pyplot as plt\n",
    "import random\n",
    "from scipy.stats import uniform,beta,norm"
   ]
  },
  {
   "cell_type": "markdown",
   "metadata": {},
   "source": [
    "**Monte Carlo Sampling** method is to sample $x$ from the $p(x)$ and take the average of all samples to estimate the expectation.\n",
    "$$\\mathbb{E}[f(x)]=\\int f(x)p(x)dx \\approx \\frac{1}{n}\\sum_{i=1}^n f(x_i) \\qquad x_i\\sim p$$"
   ]
  },
  {
   "cell_type": "code",
   "execution_count": 2,
   "metadata": {},
   "outputs": [
    {
     "data": {
      "image/png": "[encoded data removed]",
      "text/plain": [
       "<Figure size 432x288 with 1 Axes>"
      ]
     },
     "metadata": {
      "needs_background": "light"
     },
     "output_type": "display_data"
    }
   ],
   "source": [
    "mu,sig,N = 5,1,1000\n",
    "X = sig*np.random.randn(N)+mu\n",
    "_ = plt.hist(X,bins=50)"
   ]
  },
  {
   "cell_type": "code",
   "execution_count": 3,
   "metadata": {},
   "outputs": [
    {
     "name": "stdout",
     "output_type": "stream",
     "text": [
      "5.045865815217911 0.9028513930783005\n"
     ]
    }
   ],
   "source": [
    "mu_ = sum(X)/N\n",
    "sig_ = sum((X-mu_)**2)/N\n",
    "print(mu_,sig_)"
   ]
  },
  {
   "cell_type": "code",
   "execution_count": 4,
   "metadata": {},
   "outputs": [
    {
     "name": "stdout",
     "output_type": "stream",
     "text": [
      "1 0.9049550660839032\n"
     ]
    }
   ],
   "source": [
    "f = lambda x: (x-mu)**2\n",
    "target = sig\n",
    "ans = sum(f(X))/N\n",
    "print(target,ans)"
   ]
  },
  {
   "cell_type": "markdown",
   "metadata": {},
   "source": [
    "**Importance Sampling**\n",
    "If $p(x)$ is hard to sample from, we can sample from easy distribution $q(x)$ and calculate the sampling ratio as correction weight to offset the probability sampling from a different distribution.\n",
    "$$\\mathbb{E}[f(x)]=\\int f(x)p(x)dx = \\int f(x)\\frac{p(x)}{q(x)}q(x)dx \\approx \\frac{1}{n}\\sum^n_{i=1}f(x_i)\\frac{p(x_i)}{q(x_i)} \\qquad x_i\\sim q$$"
   ]
  },
  {
   "cell_type": "code",
   "execution_count": 5,
   "metadata": {},
   "outputs": [
    {
     "name": "stdout",
     "output_type": "stream",
     "text": [
      "4.591056097376715\n"
     ]
    }
   ],
   "source": [
    "xmin,xmax = 0,9\n",
    "X = np.random.uniform(xmin,xmax,N)\n",
    "mu_is = sum(X*norm.pdf(X,mu,sig)/uniform.pdf(X,xmin,xmax))/N\n",
    "print(mu_is)"
   ]
  },
  {
   "cell_type": "code",
   "execution_count": 6,
   "metadata": {},
   "outputs": [
    {
     "name": "stdout",
     "output_type": "stream",
     "text": [
      "5.150207478521478\n"
     ]
    },
    {
     "data": {
      "image/png": "[encoded data removed]",
      "text/plain": [
       "<Figure size 432x288 with 1 Axes>"
      ]
     },
     "metadata": {
      "needs_background": "light"
     },
     "output_type": "display_data"
    }
   ],
   "source": [
    "a,b = 2,2.7\n",
    "scale = mu*2\n",
    "X = np.random.beta(a,b,N)*scale\n",
    "_ = plt.hist(X,bins=50)\n",
    "mu_is = sum(X*norm.pdf(X,mu,sig)/beta.pdf(X,a,b,scale=scale))/N\n",
    "print(mu_is)"
   ]
  },
  {
   "cell_type": "code",
   "execution_count": null,
   "metadata": {},
   "outputs": [],
   "source": []
  }
 ],
 "metadata": {
  "kernelspec": {
   "display_name": "Python 3",
   "language": "python",
   "name": "python3"
  },
  "language_info": {
   "codemirror_mode": {
    "name": "ipython",
    "version": 3
   },
   "file_extension": ".py",
   "mimetype": "text/x-python",
   "name": "python",
   "nbconvert_exporter": "python",
   "pygments_lexer": "ipython3",
   "version": "3.7.6"
  }
 },
 "nbformat": 4,
 "nbformat_minor": 4
}
