{
 "cells": [
  {
   "cell_type": "markdown",
   "metadata": {},
   "source": [
    "#### User-User Collaborative Filtering\n",
    "Given the rating matrix, $i$ is the user, $j$ is the item,\n",
    "$$\n",
    "\\mathbf{R} = \\begin{pmatrix}\n",
    "r_{00} & \\cdots & r_{0j}\\\\\n",
    "\\vdots & \\ddots & \\vdots\\\\\n",
    "r_{i0} & \\cdots & r_{ij}\\\\\n",
    "\\end{pmatrix}\n",
    "$$\n",
    "\n",
    "The expected rating should be summarized as,\n",
    "\n",
    "$$s_{ij}=\\bar{r}_i + \\frac{\\sum_{i'\\in\\Omega_j} w_{ii'}(r_{i'j}-\\bar{r}_{i'})}{\\sum_{i'\\in\\Omega_j }|w_{ii'}|}$$\n",
    "\n",
    "The weight can be calculated as pearson correlation coefficient, \n",
    "\n",
    "$$\n",
    "w_{ii'} = \\frac{\\sum_{j\\in\\Psi_{ii'}}(r_{ij}-\\bar{r}_i)(r_{i'j}-\\bar{r}_{i'})}{\\sqrt{\\sum_{j\\in\\Psi_{ii'}}(r_{ij}-\\bar{r}_i)^2}\\sqrt{\\sum_{j\\in\\Psi_{ii'}}(r_{i'j}-\\bar{r}_{i'})^2}}\n",
    "$$\n",
    "where $\\Psi_i$ set of items that user $i$ has rated, $\\Psi_{ii'}$ set of items both user $i$ and $i'$ have rated, i.e.$\\Psi_{ii'}=\\Psi_i\\cap\\Psi_{i'}$. "
   ]
  },
  {
   "cell_type": "markdown",
   "metadata": {},
   "source": [
    "#### Item-Item Collaborative Filtering"
   ]
  },
  {
   "cell_type": "code",
   "execution_count": null,
   "metadata": {},
   "outputs": [],
   "source": []
  },
  {
   "cell_type": "code",
   "execution_count": null,
   "metadata": {},
   "outputs": [],
   "source": []
  },
  {
   "cell_type": "code",
   "execution_count": null,
   "metadata": {},
   "outputs": [],
   "source": []
  },
  {
   "cell_type": "code",
   "execution_count": null,
   "metadata": {},
   "outputs": [],
   "source": []
  }
 ],
 "metadata": {
  "kernelspec": {
   "display_name": "Python 3",
   "language": "python",
   "name": "python3"
  },
  "language_info": {
   "codemirror_mode": {
    "name": "ipython",
    "version": 3
   },
   "file_extension": ".py",
   "mimetype": "text/x-python",
   "name": "python",
   "nbconvert_exporter": "python",
   "pygments_lexer": "ipython3",
   "version": "3.7.6"
  }
 },
 "nbformat": 4,
 "nbformat_minor": 4
}
