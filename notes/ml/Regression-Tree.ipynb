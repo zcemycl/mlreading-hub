{
 "cells": [
  {
   "cell_type": "markdown",
   "id": "01d629c1",
   "metadata": {},
   "source": [
    "### CART (Classification and Regression Tree)\n",
    "#### Regression\n",
    "The mean and standard deviation of the dataset are given by,\n",
    "$$\\mu(X) = \\frac{1}{N}\\sum^N_{i=0}x_i$$\n",
    "$$\\sigma(X)=\\sqrt{\\frac{\\sum_{i=0}^N (x_i-\\mu)^2}{N}}$$\n",
    "\n",
    "The weighted standard deviation of the column is given by,\n",
    "$$\\sigma(X|c) = \\sum^M_{j=0}p(c=j)\\sigma(X|c=j)$$\n",
    "\n",
    "The reducted standard deviation of the column is given by,\n",
    "$$\\delta(c) = \\sigma(X)-\\sigma(X|c) $$\n",
    "\n",
    "The feature with highest reducted standard deviation score will be the decision."
   ]
  },
  {
   "cell_type": "code",
   "execution_count": 2,
   "id": "b8a50ddd",
   "metadata": {},
   "outputs": [],
   "source": [
    "import requests\n",
    "from io import StringIO\n",
    "import pandas as pd\n",
    "import numpy as np\n",
    "import math"
   ]
  },
  {
   "cell_type": "code",
   "execution_count": 3,
   "id": "33a00538",
   "metadata": {},
   "outputs": [
    {
     "data": {
      "text/html": [
       "<div>\n",
       "<style scoped>\n",
       "    .dataframe tbody tr th:only-of-type {\n",
       "        vertical-align: middle;\n",
       "    }\n",
       "\n",
       "    .dataframe tbody tr th {\n",
       "        vertical-align: top;\n",
       "    }\n",
       "\n",
       "    .dataframe thead th {\n",
       "        text-align: right;\n",
       "    }\n",
       "</style>\n",
       "<table border=\"1\" class=\"dataframe\">\n",
       "  <thead>\n",
       "    <tr style=\"text-align: right;\">\n",
       "      <th></th>\n",
       "      <th>Outlook</th>\n",
       "      <th>Temp.</th>\n",
       "      <th>Humidity</th>\n",
       "      <th>Wind</th>\n",
       "      <th>Decision</th>\n",
       "    </tr>\n",
       "  </thead>\n",
       "  <tbody>\n",
       "    <tr>\n",
       "      <th>0</th>\n",
       "      <td>Sunny</td>\n",
       "      <td>Hot</td>\n",
       "      <td>High</td>\n",
       "      <td>Weak</td>\n",
       "      <td>25</td>\n",
       "    </tr>\n",
       "    <tr>\n",
       "      <th>1</th>\n",
       "      <td>Sunny</td>\n",
       "      <td>Hot</td>\n",
       "      <td>High</td>\n",
       "      <td>Strong</td>\n",
       "      <td>30</td>\n",
       "    </tr>\n",
       "    <tr>\n",
       "      <th>2</th>\n",
       "      <td>Overcast</td>\n",
       "      <td>Hot</td>\n",
       "      <td>High</td>\n",
       "      <td>Weak</td>\n",
       "      <td>46</td>\n",
       "    </tr>\n",
       "    <tr>\n",
       "      <th>3</th>\n",
       "      <td>Rain</td>\n",
       "      <td>Mild</td>\n",
       "      <td>High</td>\n",
       "      <td>Weak</td>\n",
       "      <td>45</td>\n",
       "    </tr>\n",
       "    <tr>\n",
       "      <th>4</th>\n",
       "      <td>Rain</td>\n",
       "      <td>Cool</td>\n",
       "      <td>Normal</td>\n",
       "      <td>Weak</td>\n",
       "      <td>52</td>\n",
       "    </tr>\n",
       "    <tr>\n",
       "      <th>5</th>\n",
       "      <td>Rain</td>\n",
       "      <td>Cool</td>\n",
       "      <td>Normal</td>\n",
       "      <td>Strong</td>\n",
       "      <td>23</td>\n",
       "    </tr>\n",
       "    <tr>\n",
       "      <th>6</th>\n",
       "      <td>Overcast</td>\n",
       "      <td>Cool</td>\n",
       "      <td>Normal</td>\n",
       "      <td>Strong</td>\n",
       "      <td>43</td>\n",
       "    </tr>\n",
       "    <tr>\n",
       "      <th>7</th>\n",
       "      <td>Sunny</td>\n",
       "      <td>Mild</td>\n",
       "      <td>High</td>\n",
       "      <td>Weak</td>\n",
       "      <td>35</td>\n",
       "    </tr>\n",
       "    <tr>\n",
       "      <th>8</th>\n",
       "      <td>Sunny</td>\n",
       "      <td>Cool</td>\n",
       "      <td>Normal</td>\n",
       "      <td>Weak</td>\n",
       "      <td>38</td>\n",
       "    </tr>\n",
       "    <tr>\n",
       "      <th>9</th>\n",
       "      <td>Rain</td>\n",
       "      <td>Mild</td>\n",
       "      <td>Normal</td>\n",
       "      <td>Weak</td>\n",
       "      <td>46</td>\n",
       "    </tr>\n",
       "    <tr>\n",
       "      <th>10</th>\n",
       "      <td>Sunny</td>\n",
       "      <td>Mild</td>\n",
       "      <td>Normal</td>\n",
       "      <td>Strong</td>\n",
       "      <td>48</td>\n",
       "    </tr>\n",
       "    <tr>\n",
       "      <th>11</th>\n",
       "      <td>Overcast</td>\n",
       "      <td>Mild</td>\n",
       "      <td>High</td>\n",
       "      <td>Strong</td>\n",
       "      <td>52</td>\n",
       "    </tr>\n",
       "    <tr>\n",
       "      <th>12</th>\n",
       "      <td>Overcast</td>\n",
       "      <td>Hot</td>\n",
       "      <td>Normal</td>\n",
       "      <td>Weak</td>\n",
       "      <td>44</td>\n",
       "    </tr>\n",
       "    <tr>\n",
       "      <th>13</th>\n",
       "      <td>Rain</td>\n",
       "      <td>Mild</td>\n",
       "      <td>High</td>\n",
       "      <td>Strong</td>\n",
       "      <td>30</td>\n",
       "    </tr>\n",
       "  </tbody>\n",
       "</table>\n",
       "</div>"
      ],
      "text/plain": [
       "     Outlook Temp. Humidity    Wind  Decision\n",
       "0      Sunny   Hot     High    Weak        25\n",
       "1      Sunny   Hot     High  Strong        30\n",
       "2   Overcast   Hot     High    Weak        46\n",
       "3       Rain  Mild     High    Weak        45\n",
       "4       Rain  Cool   Normal    Weak        52\n",
       "5       Rain  Cool   Normal  Strong        23\n",
       "6   Overcast  Cool   Normal  Strong        43\n",
       "7      Sunny  Mild     High    Weak        35\n",
       "8      Sunny  Cool   Normal    Weak        38\n",
       "9       Rain  Mild   Normal    Weak        46\n",
       "10     Sunny  Mild   Normal  Strong        48\n",
       "11  Overcast  Mild     High  Strong        52\n",
       "12  Overcast   Hot   Normal    Weak        44\n",
       "13      Rain  Mild     High  Strong        30"
      ]
     },
     "execution_count": 3,
     "metadata": {},
     "output_type": "execute_result"
    }
   ],
   "source": [
    "url = 'https://raw.githubusercontent.com/serengil/decision-trees-for-ml/master/dataset/golf3.txt'\n",
    "r = requests.get(url)\n",
    "s=str(r.content,'utf-8')\n",
    "data = StringIO(s) \n",
    "df=pd.read_csv(data)\n",
    "df"
   ]
  },
  {
   "cell_type": "code",
   "execution_count": 8,
   "id": "4a7c0c0a",
   "metadata": {},
   "outputs": [
    {
     "name": "stdout",
     "output_type": "stream",
     "text": [
      "9.321086474291743\n"
     ]
    }
   ],
   "source": [
    "std = df[\"Decision\"].std(ddof=0)\n",
    "print(std)"
   ]
  },
  {
   "cell_type": "code",
   "execution_count": 12,
   "id": "09711031",
   "metadata": {},
   "outputs": [
    {
     "name": "stdout",
     "output_type": "stream",
     "text": [
      "8.841395899528422\n",
      "0.4796905747633211\n"
     ]
    }
   ],
   "source": [
    "classes = df[\"Temp.\"].unique()\n",
    "wstd = 0\n",
    "for i in range(len(classes)):\n",
    "    subdf = df[df[\"Temp.\"]==classes[i]]\n",
    "    wstd += subdf.shape[0]/df.shape[0]*subdf[\"Decision\"].std(ddof=0)\n",
    "print(wstd)\n",
    "print(std-wstd)"
   ]
  },
  {
   "cell_type": "code",
   "execution_count": 13,
   "id": "c270011b",
   "metadata": {},
   "outputs": [],
   "source": [
    "class Regression_Tree:\n",
    "    def __init__(self, df, label_col=\"Decision\"):\n",
    "        self.df = df\n",
    "        self.label_col = label_col\n",
    "        self.shape = df.shape\n",
    "        self.std = self.df[label_col].std(ddof=0)\n",
    "    \n",
    "    def rstd(self, col_name=\"Humidity\"):\n",
    "        unique_classes = self.df[col_name].unique()\n",
    "        wstd = 0\n",
    "        for j in range(len(unique_classes)):\n",
    "            subdf = self.df[self.df[col_name]==unique_classes[j]]\n",
    "            wstd += subdf.shape[0]/self.df.shape[0]*subdf[self.label_col].std(ddof=0)\n",
    "        return self.std-wstd\n",
    "        \n",
    "    def rank_rstd(self):\n",
    "        col_names = self.df.columns\n",
    "        rstds = []\n",
    "        for col_name in col_names:\n",
    "            if col_name==self.label_col:\n",
    "                continue\n",
    "            rstds.append(self.rstd(col_name=col_name))\n",
    "        rstds = np.array(rstds)\n",
    "        ranks = np.argsort(rstds)[::-1]\n",
    "        return ranks"
   ]
  },
  {
   "cell_type": "code",
   "execution_count": 14,
   "id": "908c0099",
   "metadata": {},
   "outputs": [
    {
     "name": "stdout",
     "output_type": "stream",
     "text": [
      "[0 1 3 2] Index(['Outlook', 'Temp.', 'Wind', 'Humidity'], dtype='object')\n",
      "Original Column Names:  Index(['Outlook', 'Temp.', 'Humidity', 'Wind', 'Decision'], dtype='object')\n"
     ]
    }
   ],
   "source": [
    "dt = Regression_Tree(df)\n",
    "ranks = np.array(dt.rank_rstd())\n",
    "print(ranks, dt.df.columns[ranks])\n",
    "print('Original Column Names: ',dt.df.columns)"
   ]
  },
  {
   "cell_type": "code",
   "execution_count": null,
   "id": "174947fe",
   "metadata": {},
   "outputs": [],
   "source": []
  }
 ],
 "metadata": {
  "kernelspec": {
   "display_name": "Python 3 (ipykernel)",
   "language": "python",
   "name": "python3"
  },
  "language_info": {
   "codemirror_mode": {
    "name": "ipython",
    "version": 3
   },
   "file_extension": ".py",
   "mimetype": "text/x-python",
   "name": "python",
   "nbconvert_exporter": "python",
   "pygments_lexer": "ipython3",
   "version": "3.9.13"
  }
 },
 "nbformat": 4,
 "nbformat_minor": 5
}
