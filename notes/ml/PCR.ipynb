{
 "cells": [
  {
   "cell_type": "code",
   "execution_count": null,
   "id": "13318932",
   "metadata": {},
   "outputs": [],
   "source": []
  },
  {
   "cell_type": "markdown",
   "id": "08a104ab",
   "metadata": {},
   "source": [
    "#### References\n",
    "1. https://towardsdatascience.com/principal-component-regression-clearly-explained-and-implemented-608471530a2f\n",
    "2. https://www.google.com/search?q=principal+component+regression&sxsrf=ALiCzsYiHyxtEwtxyfkHesUxGfQWu9KQ1w:1670542018432&source=lnms&tbm=isch&sa=X&ved=2ahUKEwiv6Nz8lev7AhXUglwKHZvNDPgQ_AUoAnoECAEQBA&biw=1440&bih=726&dpr=2#imgrc=UpQcDfhEPmKJvM\n",
    "3. https://www.google.com/search?q=scree+plot&sxsrf=ALiCzsZkkMV631YrgiPUluq9bvjuR9IAOQ:1670540395983&source=lnms&tbm=isch&sa=X&ved=2ahUKEwiDs4r3j-v7AhULIMAKHTHABtgQ_AUoAXoECAEQAw&biw=1440&bih=726&dpr=2#imgrc=Gtm6Wbkc2-DDfM"
   ]
  },
  {
   "cell_type": "code",
   "execution_count": null,
   "id": "216133cb",
   "metadata": {},
   "outputs": [],
   "source": []
  }
 ],
 "metadata": {
  "kernelspec": {
   "display_name": "Python 3 (ipykernel)",
   "language": "python",
   "name": "python3"
  },
  "language_info": {
   "codemirror_mode": {
    "name": "ipython",
    "version": 3
   },
   "file_extension": ".py",
   "mimetype": "text/x-python",
   "name": "python",
   "nbconvert_exporter": "python",
   "pygments_lexer": "ipython3",
   "version": "3.9.13"
  }
 },
 "nbformat": 4,
 "nbformat_minor": 5
}
