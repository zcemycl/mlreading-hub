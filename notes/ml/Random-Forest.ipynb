{
 "cells": [
  {
   "cell_type": "markdown",
   "id": "6f4375d5",
   "metadata": {},
   "source": [
    "### Random Forest\n",
    "1. Fitting many decision trees using multiple subsets of data from training data. \n",
    "2. Predicting the test inputs by averaging the outputs of all tree ensembles."
   ]
  },
  {
   "cell_type": "code",
   "execution_count": null,
   "id": "0c1b695a",
   "metadata": {},
   "outputs": [],
   "source": []
  },
  {
   "cell_type": "code",
   "execution_count": null,
   "id": "7f13a094",
   "metadata": {},
   "outputs": [],
   "source": []
  },
  {
   "cell_type": "code",
   "execution_count": null,
   "id": "25fdd1d8",
   "metadata": {},
   "outputs": [],
   "source": []
  }
 ],
 "metadata": {
  "kernelspec": {
   "display_name": "Python 3 (ipykernel)",
   "language": "python",
   "name": "python3"
  },
  "language_info": {
   "codemirror_mode": {
    "name": "ipython",
    "version": 3
   },
   "file_extension": ".py",
   "mimetype": "text/x-python",
   "name": "python",
   "nbconvert_exporter": "python",
   "pygments_lexer": "ipython3",
   "version": "3.9.13"
  }
 },
 "nbformat": 4,
 "nbformat_minor": 5
}
