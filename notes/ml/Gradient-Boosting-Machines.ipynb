{
 "cells": [
  {
   "cell_type": "markdown",
   "id": "976ad876",
   "metadata": {},
   "source": [
    "### Gradient Boosting\n",
    "1. Train Decision Tree based on the target of the dataset.\n",
    "2. Train Decision Tree based on the difference between the target and the output of the decision tree. It is like residual learning. "
   ]
  },
  {
   "cell_type": "code",
   "execution_count": null,
   "id": "ced103fa",
   "metadata": {},
   "outputs": [],
   "source": []
  }
 ],
 "metadata": {
  "kernelspec": {
   "display_name": "Python 3 (ipykernel)",
   "language": "python",
   "name": "python3"
  },
  "language_info": {
   "codemirror_mode": {
    "name": "ipython",
    "version": 3
   },
   "file_extension": ".py",
   "mimetype": "text/x-python",
   "name": "python",
   "nbconvert_exporter": "python",
   "pygments_lexer": "ipython3",
   "version": "3.9.13"
  },
  "vscode": {
   "interpreter": {
    "hash": "b0fa6594d8f4cbf19f97940f81e996739fb7646882a419484c72d19e05852a7e"
   }
  }
 },
 "nbformat": 4,
 "nbformat_minor": 5
}
