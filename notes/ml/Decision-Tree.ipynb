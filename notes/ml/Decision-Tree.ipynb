{
 "cells": [
  {
   "cell_type": "code",
   "execution_count": 1,
   "id": "c6a77448",
   "metadata": {},
   "outputs": [],
   "source": [
    "import requests\n",
    "from io import StringIO\n",
    "import pandas as pd\n",
    "import numpy as np\n",
    "import math"
   ]
  },
  {
   "cell_type": "code",
   "execution_count": 2,
   "id": "fbbb21e7",
   "metadata": {},
   "outputs": [],
   "source": [
    "r = requests.get('https://raw.githubusercontent.com/serengil/decision-trees-for-ml/master/dataset/golf.txt')\n",
    "s=str(r.content,'utf-8')\n",
    "data = StringIO(s) \n",
    "df=pd.read_csv(data)"
   ]
  },
  {
   "cell_type": "code",
   "execution_count": 3,
   "id": "15eaeba9",
   "metadata": {},
   "outputs": [
    {
     "data": {
      "text/html": [
       "<div>\n",
       "<style scoped>\n",
       "    .dataframe tbody tr th:only-of-type {\n",
       "        vertical-align: middle;\n",
       "    }\n",
       "\n",
       "    .dataframe tbody tr th {\n",
       "        vertical-align: top;\n",
       "    }\n",
       "\n",
       "    .dataframe thead th {\n",
       "        text-align: right;\n",
       "    }\n",
       "</style>\n",
       "<table border=\"1\" class=\"dataframe\">\n",
       "  <thead>\n",
       "    <tr style=\"text-align: right;\">\n",
       "      <th></th>\n",
       "      <th>Outlook</th>\n",
       "      <th>Temp.</th>\n",
       "      <th>Humidity</th>\n",
       "      <th>Wind</th>\n",
       "      <th>Decision</th>\n",
       "    </tr>\n",
       "  </thead>\n",
       "  <tbody>\n",
       "    <tr>\n",
       "      <th>0</th>\n",
       "      <td>Sunny</td>\n",
       "      <td>Hot</td>\n",
       "      <td>High</td>\n",
       "      <td>Weak</td>\n",
       "      <td>No</td>\n",
       "    </tr>\n",
       "    <tr>\n",
       "      <th>1</th>\n",
       "      <td>Sunny</td>\n",
       "      <td>Hot</td>\n",
       "      <td>High</td>\n",
       "      <td>Strong</td>\n",
       "      <td>No</td>\n",
       "    </tr>\n",
       "    <tr>\n",
       "      <th>2</th>\n",
       "      <td>Overcast</td>\n",
       "      <td>Hot</td>\n",
       "      <td>High</td>\n",
       "      <td>Weak</td>\n",
       "      <td>Yes</td>\n",
       "    </tr>\n",
       "    <tr>\n",
       "      <th>3</th>\n",
       "      <td>Rain</td>\n",
       "      <td>Mild</td>\n",
       "      <td>High</td>\n",
       "      <td>Weak</td>\n",
       "      <td>Yes</td>\n",
       "    </tr>\n",
       "    <tr>\n",
       "      <th>4</th>\n",
       "      <td>Rain</td>\n",
       "      <td>Cool</td>\n",
       "      <td>Normal</td>\n",
       "      <td>Weak</td>\n",
       "      <td>Yes</td>\n",
       "    </tr>\n",
       "    <tr>\n",
       "      <th>5</th>\n",
       "      <td>Rain</td>\n",
       "      <td>Cool</td>\n",
       "      <td>Normal</td>\n",
       "      <td>Strong</td>\n",
       "      <td>No</td>\n",
       "    </tr>\n",
       "    <tr>\n",
       "      <th>6</th>\n",
       "      <td>Overcast</td>\n",
       "      <td>Cool</td>\n",
       "      <td>Normal</td>\n",
       "      <td>Strong</td>\n",
       "      <td>Yes</td>\n",
       "    </tr>\n",
       "    <tr>\n",
       "      <th>7</th>\n",
       "      <td>Sunny</td>\n",
       "      <td>Mild</td>\n",
       "      <td>High</td>\n",
       "      <td>Weak</td>\n",
       "      <td>No</td>\n",
       "    </tr>\n",
       "    <tr>\n",
       "      <th>8</th>\n",
       "      <td>Sunny</td>\n",
       "      <td>Cool</td>\n",
       "      <td>Normal</td>\n",
       "      <td>Weak</td>\n",
       "      <td>Yes</td>\n",
       "    </tr>\n",
       "    <tr>\n",
       "      <th>9</th>\n",
       "      <td>Rain</td>\n",
       "      <td>Mild</td>\n",
       "      <td>Normal</td>\n",
       "      <td>Weak</td>\n",
       "      <td>Yes</td>\n",
       "    </tr>\n",
       "    <tr>\n",
       "      <th>10</th>\n",
       "      <td>Sunny</td>\n",
       "      <td>Mild</td>\n",
       "      <td>Normal</td>\n",
       "      <td>Strong</td>\n",
       "      <td>Yes</td>\n",
       "    </tr>\n",
       "    <tr>\n",
       "      <th>11</th>\n",
       "      <td>Overcast</td>\n",
       "      <td>Mild</td>\n",
       "      <td>High</td>\n",
       "      <td>Strong</td>\n",
       "      <td>Yes</td>\n",
       "    </tr>\n",
       "    <tr>\n",
       "      <th>12</th>\n",
       "      <td>Overcast</td>\n",
       "      <td>Hot</td>\n",
       "      <td>Normal</td>\n",
       "      <td>Weak</td>\n",
       "      <td>Yes</td>\n",
       "    </tr>\n",
       "    <tr>\n",
       "      <th>13</th>\n",
       "      <td>Rain</td>\n",
       "      <td>Mild</td>\n",
       "      <td>High</td>\n",
       "      <td>Strong</td>\n",
       "      <td>No</td>\n",
       "    </tr>\n",
       "  </tbody>\n",
       "</table>\n",
       "</div>"
      ],
      "text/plain": [
       "     Outlook Temp. Humidity    Wind Decision\n",
       "0      Sunny   Hot     High    Weak       No\n",
       "1      Sunny   Hot     High  Strong       No\n",
       "2   Overcast   Hot     High    Weak      Yes\n",
       "3       Rain  Mild     High    Weak      Yes\n",
       "4       Rain  Cool   Normal    Weak      Yes\n",
       "5       Rain  Cool   Normal  Strong       No\n",
       "6   Overcast  Cool   Normal  Strong      Yes\n",
       "7      Sunny  Mild     High    Weak       No\n",
       "8      Sunny  Cool   Normal    Weak      Yes\n",
       "9       Rain  Mild   Normal    Weak      Yes\n",
       "10     Sunny  Mild   Normal  Strong      Yes\n",
       "11  Overcast  Mild     High  Strong      Yes\n",
       "12  Overcast   Hot   Normal    Weak      Yes\n",
       "13      Rain  Mild     High  Strong       No"
      ]
     },
     "execution_count": 3,
     "metadata": {},
     "output_type": "execute_result"
    }
   ],
   "source": [
    "df"
   ]
  },
  {
   "cell_type": "markdown",
   "id": "7f579106",
   "metadata": {},
   "source": [
    "### Decision Tree (Iterative Dichotomiser 3 ID3)\n",
    "The entropy of the dataset is given by, \n",
    "$$S(D) = -\\sum_{i=0}^N p(x_i)\\log p(x_i)$$\n",
    "where N is the number of classes. \n",
    "\n",
    "The conditional entropy of the column is given by, \n",
    "$$S(D|c=j) = -\\sum_{i=0}^N p(x_i|c=j)\\log p(x_i|c=j)$$\n",
    "\n",
    "Information Gain by the Column is then, \n",
    "$$G(c) = S(D)-\\sum^M_{j=0}p(c=j)S(D|c=j)$$\n",
    "\n",
    "Split the dataset into sub-dataset by the dominant factor (with **higher information gain**), and remove the dominant and loop over the process again, until no column is left. "
   ]
  },
  {
   "cell_type": "code",
   "execution_count": 4,
   "id": "ad532334",
   "metadata": {},
   "outputs": [
    {
     "name": "stdout",
     "output_type": "stream",
     "text": [
      "Entropy:  0.9402859586706309\n"
     ]
    }
   ],
   "source": [
    "classes = df['Decision'].unique()\n",
    "S = 0\n",
    "shape = df.shape # rows,cols\n",
    "for i in range(len(classes)):\n",
    "    p = (df[\"Decision\"]==classes[i]).sum()/shape[0]\n",
    "    S += -p*math.log(p,2)\n",
    "print(\"Entropy: \", S)"
   ]
  },
  {
   "cell_type": "markdown",
   "id": "a726e30d",
   "metadata": {},
   "source": [
    "#### General "
   ]
  },
  {
   "cell_type": "code",
   "execution_count": 5,
   "id": "6b4bf169",
   "metadata": {},
   "outputs": [],
   "source": [
    "class Decision_Tree:\n",
    "    def __init__(self, df, label_col=\"Decision\"):\n",
    "        self.df = df\n",
    "        self.label_col = label_col\n",
    "        self.shape = df.shape\n",
    "        self.S = self.ds_entropy()\n",
    "        \n",
    "    def ds_entropy(self):\n",
    "        self.classes = df[self.label_col].unique()\n",
    "        S = 0\n",
    "        for i in range(len(self.classes)):\n",
    "            p = (self.df[self.label_col]==self.classes[i]).sum()/self.shape[0]\n",
    "            S += -p*math.log(p,2) if p>0 else 0\n",
    "            \n",
    "        print(\"Entropy: \", S)\n",
    "        return S\n",
    "    \n",
    "    def gain(self, col_name=\"Humidity\"):\n",
    "        unique_classes = self.df[col_name].unique()\n",
    "        G = self.S.copy()\n",
    "        for j in range(len(unique_classes)):\n",
    "            bool_classes = self.df[col_name]==unique_classes[j]\n",
    "            num_classes = (bool_classes).sum()\n",
    "            S_condition = 0\n",
    "            for i in range(len(self.classes)):\n",
    "                count_and = ((bool_classes) & (self.df[self.label_col]==self.classes[i])).sum()\n",
    "                p = count_and/num_classes\n",
    "                S_condition += -p*math.log(p,2) if p>0 else 0\n",
    "            G += -num_classes/self.shape[0]*S_condition\n",
    "        print(f\"{col_name} Gain: \", G)\n",
    "        return G\n",
    "        \n",
    "    def rank_gain(self):\n",
    "        col_names = self.df.columns\n",
    "        gains = []\n",
    "        for col_name in col_names:\n",
    "            if col_name==self.label_col:\n",
    "                continue\n",
    "            gains.append(self.gain(col_name=col_name))\n",
    "        gains = np.array(gains)\n",
    "        ranks = np.argsort(gains)[::-1]\n",
    "        return ranks"
   ]
  },
  {
   "cell_type": "code",
   "execution_count": 6,
   "id": "e3767933",
   "metadata": {},
   "outputs": [
    {
     "name": "stdout",
     "output_type": "stream",
     "text": [
      "Entropy:  0.9402859586706309\n",
      "Outlook Gain:  0.2467498197744391\n",
      "Temp. Gain:  0.029222565658954647\n",
      "Humidity Gain:  0.15183550136234136\n",
      "Wind Gain:  0.04812703040826932\n",
      "[0 2 3 1] Index(['Outlook', 'Humidity', 'Wind', 'Temp.'], dtype='object')\n",
      "Original Column Names:  Index(['Outlook', 'Temp.', 'Humidity', 'Wind', 'Decision'], dtype='object')\n"
     ]
    }
   ],
   "source": [
    "dt = Decision_Tree(df)\n",
    "ranks = np.array(dt.rank_gain())\n",
    "print(ranks, dt.df.columns[ranks])\n",
    "print('Original Column Names: ',dt.df.columns)"
   ]
  },
  {
   "cell_type": "code",
   "execution_count": 7,
   "id": "e0746f9c",
   "metadata": {},
   "outputs": [
    {
     "data": {
      "text/plain": [
       "Index(['Outlook', 'Temp.', 'Humidity', 'Wind', 'Decision'], dtype='object')"
      ]
     },
     "execution_count": 7,
     "metadata": {},
     "output_type": "execute_result"
    }
   ],
   "source": [
    "df.columns"
   ]
  },
  {
   "cell_type": "code",
   "execution_count": 8,
   "id": "faaf0805",
   "metadata": {},
   "outputs": [
    {
     "data": {
      "text/html": [
       "<div>\n",
       "<style scoped>\n",
       "    .dataframe tbody tr th:only-of-type {\n",
       "        vertical-align: middle;\n",
       "    }\n",
       "\n",
       "    .dataframe tbody tr th {\n",
       "        vertical-align: top;\n",
       "    }\n",
       "\n",
       "    .dataframe thead th {\n",
       "        text-align: right;\n",
       "    }\n",
       "</style>\n",
       "<table border=\"1\" class=\"dataframe\">\n",
       "  <thead>\n",
       "    <tr style=\"text-align: right;\">\n",
       "      <th></th>\n",
       "      <th>Temp.</th>\n",
       "      <th>Humidity</th>\n",
       "      <th>Wind</th>\n",
       "      <th>Decision</th>\n",
       "    </tr>\n",
       "  </thead>\n",
       "  <tbody>\n",
       "    <tr>\n",
       "      <th>0</th>\n",
       "      <td>Hot</td>\n",
       "      <td>High</td>\n",
       "      <td>Weak</td>\n",
       "      <td>No</td>\n",
       "    </tr>\n",
       "    <tr>\n",
       "      <th>1</th>\n",
       "      <td>Hot</td>\n",
       "      <td>High</td>\n",
       "      <td>Strong</td>\n",
       "      <td>No</td>\n",
       "    </tr>\n",
       "    <tr>\n",
       "      <th>7</th>\n",
       "      <td>Mild</td>\n",
       "      <td>High</td>\n",
       "      <td>Weak</td>\n",
       "      <td>No</td>\n",
       "    </tr>\n",
       "    <tr>\n",
       "      <th>8</th>\n",
       "      <td>Cool</td>\n",
       "      <td>Normal</td>\n",
       "      <td>Weak</td>\n",
       "      <td>Yes</td>\n",
       "    </tr>\n",
       "    <tr>\n",
       "      <th>10</th>\n",
       "      <td>Mild</td>\n",
       "      <td>Normal</td>\n",
       "      <td>Strong</td>\n",
       "      <td>Yes</td>\n",
       "    </tr>\n",
       "  </tbody>\n",
       "</table>\n",
       "</div>"
      ],
      "text/plain": [
       "   Temp. Humidity    Wind Decision\n",
       "0    Hot     High    Weak       No\n",
       "1    Hot     High  Strong       No\n",
       "7   Mild     High    Weak       No\n",
       "8   Cool   Normal    Weak      Yes\n",
       "10  Mild   Normal  Strong      Yes"
      ]
     },
     "execution_count": 8,
     "metadata": {},
     "output_type": "execute_result"
    }
   ],
   "source": [
    "sub_df = df[(df[\"Outlook\"]==\"Sunny\")]\n",
    "sub_df = sub_df.drop(columns=[\"Outlook\"])\n",
    "sub_df"
   ]
  },
  {
   "cell_type": "code",
   "execution_count": 9,
   "id": "9aa46949",
   "metadata": {},
   "outputs": [
    {
     "name": "stdout",
     "output_type": "stream",
     "text": [
      "Entropy:  0.9709505944546686\n",
      "Temp. Gain:  0.5709505944546686\n",
      "Humidity Gain:  0.9709505944546686\n",
      "Wind Gain:  0.01997309402197489\n",
      "[1 0 2] Index(['Humidity', 'Temp.', 'Wind'], dtype='object')\n"
     ]
    }
   ],
   "source": [
    "dt2 = Decision_Tree(sub_df)\n",
    "ranks2 = np.array(dt2.rank_gain())\n",
    "print(ranks2, dt2.df.columns[ranks2])"
   ]
  },
  {
   "cell_type": "markdown",
   "id": "f2630ab8",
   "metadata": {},
   "source": [
    "### Decision Tree (C4.5 statistical classifier)\n",
    "#### Additional Normalisation for Gain\n",
    "The Split Information is given by,\n",
    "$$S_I(c) = -\\sum^M_{j=0}p(c=j)\\log p(c=j)$$\n",
    "\n",
    "The Gain Ratio is given by,\n",
    "$$G_R(c) = \\frac{G(c)}{S_I(c)}$$"
   ]
  },
  {
   "cell_type": "code",
   "execution_count": 10,
   "id": "e233f347",
   "metadata": {},
   "outputs": [],
   "source": [
    "class Norm_Decision_Tree:\n",
    "    def __init__(self, df, label_col=\"Decision\"):\n",
    "        self.df = df\n",
    "        self.label_col = label_col\n",
    "        self.shape = df.shape\n",
    "        self.S = self.ds_entropy()\n",
    "        \n",
    "    def ds_entropy(self):\n",
    "        self.classes = df[self.label_col].unique()\n",
    "        S = 0\n",
    "        for i in range(len(self.classes)):\n",
    "            p = (self.df[self.label_col]==self.classes[i]).sum()/self.shape[0]\n",
    "            S += -p*math.log(p,2) if p>0 else 0\n",
    "            \n",
    "        print(\"Entropy: \", S)\n",
    "        return S\n",
    "    \n",
    "    def gain(self, col_name=\"Humidity\"):\n",
    "        unique_classes = self.df[col_name].unique()\n",
    "        G = self.S.copy()\n",
    "        SI = 0\n",
    "        for j in range(len(unique_classes)):\n",
    "            bool_classes = self.df[col_name]==unique_classes[j]\n",
    "            num_classes = (bool_classes).sum()\n",
    "            S_condition = 0\n",
    "            for i in range(len(self.classes)):\n",
    "                count_and = ((bool_classes) & (self.df[self.label_col]==self.classes[i])).sum()\n",
    "                p = count_and/num_classes\n",
    "                S_condition += -p*math.log(p,2) if p>0 else 0\n",
    "            pcj = num_classes/self.shape[0]\n",
    "            G += -pcj*S_condition\n",
    "            SI += -pcj*math.log(pcj,2)\n",
    "        print(f\"{col_name} Normalised Gain: \", G/SI)\n",
    "        return G/SI\n",
    "        \n",
    "    def rank_gain(self):\n",
    "        col_names = self.df.columns\n",
    "        gains = []\n",
    "        for col_name in col_names:\n",
    "            if col_name==self.label_col:\n",
    "                continue\n",
    "            gains.append(self.gain(col_name=col_name))\n",
    "        gains = np.array(gains)\n",
    "        ranks = np.argsort(gains)[::-1]\n",
    "        return ranks"
   ]
  },
  {
   "cell_type": "code",
   "execution_count": 11,
   "id": "7c5ee1ec",
   "metadata": {},
   "outputs": [
    {
     "name": "stdout",
     "output_type": "stream",
     "text": [
      "Entropy:  0.9402859586706309\n",
      "Outlook Normalised Gain:  0.15642756242117517\n",
      "Temp. Normalised Gain:  0.01877264622241867\n",
      "Humidity Normalised Gain:  0.15183550136234136\n",
      "Wind Normalised Gain:  0.04884861551152065\n",
      "[0 2 3 1] Index(['Outlook', 'Humidity', 'Wind', 'Temp.'], dtype='object')\n"
     ]
    }
   ],
   "source": [
    "dt_norm = Norm_Decision_Tree(df)\n",
    "ranks_norm = np.array(dt_norm.rank_gain())\n",
    "print(ranks_norm, dt_norm.df.columns[ranks_norm])"
   ]
  },
  {
   "cell_type": "markdown",
   "id": "789dab85",
   "metadata": {},
   "source": [
    "### CART (Classification and Regression Tree)\n",
    "#### Gini Index\n",
    "$$G(c) = \\sum^M_{j=0}p(c=j)G(c=j)=\\sum^M_{j=0}p(c=j)\\big(1-\\sum^N_{i=0}p(x_i|c=j)\\big)$$\n",
    "where the feature with lowest gini index is a dominant factor."
   ]
  },
  {
   "cell_type": "markdown",
   "id": "230caa92",
   "metadata": {},
   "source": [
    "### References\n",
    "1. https://medium.com/analytics-vidhya/mathematics-behind-decision-tree-73ee2ef82164"
   ]
  },
  {
   "cell_type": "code",
   "execution_count": null,
   "id": "cd589799",
   "metadata": {},
   "outputs": [],
   "source": []
  }
 ],
 "metadata": {
  "kernelspec": {
   "display_name": "Python 3 (ipykernel)",
   "language": "python",
   "name": "python3"
  },
  "language_info": {
   "codemirror_mode": {
    "name": "ipython",
    "version": 3
   },
   "file_extension": ".py",
   "mimetype": "text/x-python",
   "name": "python",
   "nbconvert_exporter": "python",
   "pygments_lexer": "ipython3",
   "version": "3.9.13"
  }
 },
 "nbformat": 4,
 "nbformat_minor": 5
}
