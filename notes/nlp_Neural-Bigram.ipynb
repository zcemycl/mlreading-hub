{
 "cells": [
  {
   "cell_type": "code",
   "execution_count": 1,
   "metadata": {},
   "outputs": [
    {
     "name": "stderr",
     "output_type": "stream",
     "text": [
      "[nltk_data] Downloading package words to /home/yui/nltk_data...\n",
      "[nltk_data]   Package words is already up-to-date!\n",
      "[nltk_data] Downloading package wordnet to /home/yui/nltk_data...\n",
      "[nltk_data]   Package wordnet is already up-to-date!\n",
      "[nltk_data] Downloading package averaged_perceptron_tagger to\n",
      "[nltk_data]     /home/yui/nltk_data...\n",
      "[nltk_data]   Package averaged_perceptron_tagger is already up-to-\n",
      "[nltk_data]       date!\n",
      "[nltk_data] Downloading package brown to /home/yui/nltk_data...\n",
      "[nltk_data]   Package brown is already up-to-date!\n",
      "[nltk_data] Downloading package stopwords to /home/yui/nltk_data...\n",
      "[nltk_data]   Package stopwords is already up-to-date!\n"
     ]
    },
    {
     "name": "stdout",
     "output_type": "stream",
     "text": [
      "Number of words:  100554\n",
      "Number of sentences:  4623\n",
      "Number of unique words (including capitalized) 14394\n"
     ]
    }
   ],
   "source": [
    "import numpy as np\n",
    "import matplotlib.pyplot as plt\n",
    "from sklearn.metrics import pairwise_distances\n",
    "import pandas as pd\n",
    "import math\n",
    "import nltk\n",
    "from nltk.corpus import stopwords\n",
    "import string\n",
    "from nltk import word_tokenize\n",
    "nltk.download('words')\n",
    "nltk.download('wordnet')\n",
    "nltk.download('averaged_perceptron_tagger')\n",
    "from nltk.corpus import wordnet\n",
    "from nltk.stem import WordNetLemmatizer\n",
    "from tqdm import tqdm,tqdm_pandas\n",
    "nltk.download('brown')\n",
    "from nltk.corpus import brown\n",
    "from nltk.corpus import stopwords\n",
    "nltk.download('stopwords')\n",
    "\n",
    "words = brown.words(categories=\"news\")\n",
    "sents = brown.sents(categories=[\"news\"])\n",
    "\n",
    "print(\"Number of words: \",len(words))\n",
    "print(\"Number of sentences: \",len(sents))\n",
    "print(\"Number of unique words (including capitalized)\",\n",
    "      len(set(words)))"
   ]
  },
  {
   "cell_type": "code",
   "execution_count": 2,
   "metadata": {},
   "outputs": [],
   "source": [
    "def get_wordnet_pos(word):\n",
    "    \"\"\"Map POS tag to first character lemmatize() accepts\"\"\"\n",
    "    tag = nltk.pos_tag([word])[0][1][0].upper()\n",
    "    tag_dict = {\"J\": wordnet.ADJ,\n",
    "                \"N\": wordnet.NOUN,\n",
    "                \"V\": wordnet.VERB,\n",
    "                \"R\": wordnet.ADV}\n",
    "    return tag_dict.get(tag,wordnet.NOUN)"
   ]
  },
  {
   "cell_type": "code",
   "execution_count": 3,
   "metadata": {},
   "outputs": [],
   "source": [
    "lem = WordNetLemmatizer()\n",
    "def lemmWord(w):\n",
    "    return lem.lemmatize(w,get_wordnet_pos(w))"
   ]
  },
  {
   "cell_type": "code",
   "execution_count": 4,
   "metadata": {},
   "outputs": [
    {
     "name": "stderr",
     "output_type": "stream",
     "text": [
      "100%|██████████| 4623/4623 [00:08<00:00, 543.08it/s]\n"
     ]
    }
   ],
   "source": [
    "w2id,id2w,idx={},{},2\n",
    "eng = set(nltk.corpus.words.words())\n",
    "w2id['<s>'],id2w[0]=0,'<s>'\n",
    "w2id['<e>'],id2w[1]=1,'<e>'\n",
    "newSents = []\n",
    "for sent in tqdm(sents):\n",
    "    newSent = [0]\n",
    "    for word in sent:\n",
    "        word = word.lower()\n",
    "        word = lemmWord(word)\n",
    "        if word in w2id:\n",
    "            continue\n",
    "        if word not in eng:\n",
    "            continue\n",
    "        if word in stopwords.words('english'):\n",
    "            continue\n",
    "        w2id[word]=idx\n",
    "        id2w[idx]=word\n",
    "        idx+=1\n",
    "        newSent.append(w2id[word])\n",
    "    newSent.append(1)\n",
    "    newSents.append(newSent)"
   ]
  },
  {
   "cell_type": "code",
   "execution_count": 5,
   "metadata": {},
   "outputs": [
    {
     "name": "stdout",
     "output_type": "stream",
     "text": [
      "Number of unique words:  6432\n"
     ]
    }
   ],
   "source": [
    "print(\"Number of unique words: \",len(w2id))"
   ]
  },
  {
   "cell_type": "code",
   "execution_count": 6,
   "metadata": {
    "scrolled": true
   },
   "outputs": [
    {
     "name": "stderr",
     "output_type": "stream",
     "text": [
      "100%|██████████| 4623/4623 [09:55<00:00,  7.76it/s]\n",
      "100%|██████████| 4623/4623 [09:55<00:00,  7.76it/s]\n",
      "100%|██████████| 4623/4623 [09:55<00:00,  7.76it/s]\n",
      "100%|██████████| 4623/4623 [09:55<00:00,  7.76it/s]\n",
      "100%|██████████| 4623/4623 [09:55<00:00,  7.76it/s]\n",
      "100%|██████████| 4623/4623 [09:55<00:00,  7.76it/s]\n",
      "100%|██████████| 4623/4623 [09:55<00:00,  7.76it/s]\n",
      "100%|██████████| 4623/4623 [09:56<00:00,  7.75it/s]\n",
      "100%|██████████| 4623/4623 [09:56<00:00,  7.75it/s]\n",
      "100%|██████████| 4623/4623 [09:56<00:00,  7.75it/s]\n",
      "100%|██████████| 4623/4623 [09:55<00:00,  7.76it/s]\n",
      "100%|██████████| 4623/4623 [09:55<00:00,  7.76it/s]\n",
      "100%|██████████| 4623/4623 [09:55<00:00,  7.77it/s]\n",
      "100%|██████████| 4623/4623 [09:55<00:00,  7.76it/s]\n",
      "100%|██████████| 4623/4623 [09:55<00:00,  7.76it/s]\n",
      "100%|██████████| 4623/4623 [09:55<00:00,  7.76it/s]\n",
      "100%|██████████| 4623/4623 [09:55<00:00,  7.76it/s]\n",
      "100%|██████████| 4623/4623 [09:55<00:00,  7.76it/s]\n",
      "100%|██████████| 4623/4623 [09:55<00:00,  7.76it/s]\n",
      "100%|██████████| 4623/4623 [09:55<00:00,  7.76it/s]\n",
      "100%|██████████| 4623/4623 [09:56<00:00,  7.75it/s]\n",
      "100%|██████████| 4623/4623 [09:55<00:00,  7.76it/s]\n",
      "100%|██████████| 4623/4623 [09:55<00:00,  7.76it/s]\n",
      "100%|██████████| 4623/4623 [09:55<00:00,  7.76it/s]\n",
      "100%|██████████| 4623/4623 [09:56<00:00,  7.75it/s]\n",
      "100%|██████████| 4623/4623 [09:55<00:00,  7.76it/s]\n",
      "100%|██████████| 4623/4623 [09:55<00:00,  7.76it/s]\n",
      "100%|██████████| 4623/4623 [09:56<00:00,  7.75it/s]\n",
      "100%|██████████| 4623/4623 [09:56<00:00,  7.75it/s]\n",
      "100%|██████████| 4623/4623 [09:56<00:00,  7.76it/s]\n",
      "100%|██████████| 4623/4623 [09:56<00:00,  7.75it/s]\n",
      "100%|██████████| 4623/4623 [09:56<00:00,  7.75it/s]\n",
      "100%|██████████| 4623/4623 [09:55<00:00,  7.76it/s]\n",
      "100%|██████████| 4623/4623 [09:56<00:00,  7.76it/s]\n",
      "100%|██████████| 4623/4623 [10:05<00:00,  7.64it/s]\n",
      "100%|██████████| 4623/4623 [09:55<00:00,  7.76it/s]\n",
      "100%|██████████| 4623/4623 [09:55<00:00,  7.76it/s]\n",
      "100%|██████████| 4623/4623 [09:55<00:00,  7.76it/s]\n",
      "100%|██████████| 4623/4623 [09:55<00:00,  7.76it/s]\n",
      "100%|██████████| 4623/4623 [09:55<00:00,  7.76it/s]\n",
      "100%|██████████| 4623/4623 [09:55<00:00,  7.76it/s]\n",
      "100%|██████████| 4623/4623 [09:55<00:00,  7.76it/s]\n",
      "100%|██████████| 4623/4623 [09:55<00:00,  7.76it/s]\n",
      "100%|██████████| 4623/4623 [09:55<00:00,  7.76it/s]\n",
      "100%|██████████| 4623/4623 [09:55<00:00,  7.76it/s]\n",
      "100%|██████████| 4623/4623 [09:56<00:00,  7.76it/s]\n",
      "100%|██████████| 4623/4623 [09:55<00:00,  7.76it/s]\n",
      "100%|██████████| 4623/4623 [09:55<00:00,  7.76it/s]\n",
      "100%|██████████| 4623/4623 [09:56<00:00,  7.75it/s]\n",
      "100%|██████████| 4623/4623 [09:55<00:00,  7.76it/s]\n"
     ]
    }
   ],
   "source": [
    "V = len(w2id)\n",
    "W = np.random.uniform(0,1,(V,V))\n",
    "lr,epochs,losses = 1e-2,50,[]\n",
    "for e in range(epochs):\n",
    "    epochLosses = 0\n",
    "    for sent in tqdm(newSents):\n",
    "        L,loss = len(sent),0\n",
    "        X = np.zeros((L-1,V))\n",
    "        X[np.arange(L-1),np.array(sent[:-1])]=1\n",
    "        Y = np.zeros((L-1,V))\n",
    "        Y[np.arange(L-1),np.array(sent[1:])]=1\n",
    "        tmp = X.dot(W)\n",
    "        tmp -= tmp.max()\n",
    "        tmp = np.exp(tmp)\n",
    "        pred= tmp/tmp.sum(axis=1,keepdims=1)\n",
    "        grad = X.T.dot(pred-Y)\n",
    "        loss = -(Y*np.log(pred)).sum()\n",
    "        W-=lr*grad\n",
    "        epochLosses+=loss\n",
    "    losses.append(epochLosses/len(newSents))"
   ]
  },
  {
   "cell_type": "code",
   "execution_count": 7,
   "metadata": {},
   "outputs": [
    {
     "data": {
      "text/plain": [
       "17.691958996632906"
      ]
     },
     "execution_count": 7,
     "metadata": {},
     "output_type": "execute_result"
    }
   ],
   "source": [
    "loss"
   ]
  },
  {
   "cell_type": "code",
   "execution_count": 8,
   "metadata": {},
   "outputs": [
    {
     "data": {
      "text/plain": [
       "[<matplotlib.lines.Line2D at 0x7f41e9503e90>]"
      ]
     },
     "execution_count": 8,
     "metadata": {},
     "output_type": "execute_result"
    },
    {
     "data": {
      "image/png": "[encoded data removed]",
      "text/plain": [
       "<Figure size 432x288 with 1 Axes>"
      ]
     },
     "metadata": {
      "needs_background": "light"
     },
     "output_type": "display_data"
    }
   ],
   "source": [
    "plt.plot(range(50),losses)"
   ]
  },
  {
   "cell_type": "code",
   "execution_count": 17,
   "metadata": {},
   "outputs": [
    {
     "name": "stderr",
     "output_type": "stream",
     "text": [
      "100%|██████████| 4623/4623 [00:01<00:00, 3940.03it/s]\n"
     ]
    }
   ],
   "source": [
    "res,resfake = [],[]\n",
    "for i,sent in enumerate(tqdm(newSents)):\n",
    "    prev,logprob,logprobfake = 0,0,0\n",
    "    T = len(sent)\n",
    "    for j,word in enumerate(sent):\n",
    "        if j==T-1:\n",
    "            continue\n",
    "        tmp = W[word]\n",
    "        tmp -= tmp.max()\n",
    "        tmp = np.exp(tmp)\n",
    "        pred= tmp/tmp.sum()\n",
    "        logprob+=np.log(pred[sent[j+1]])\n",
    "    logprob/=T\n",
    "    res.append(logprob)\n",
    "    prev=0\n",
    "    for wid in np.random.randint(1,len(w2id),T):\n",
    "        tmp = W[prev]\n",
    "        tmp -= tmp.max()\n",
    "        tmp = np.exp(tmp)\n",
    "        pred= tmp/tmp.sum()\n",
    "        logprobfake+=np.log(pred[wid])\n",
    "        prev = wid\n",
    "    logprobfake/=T\n",
    "    resfake.append(logprobfake)\n",
    "    "
   ]
  },
  {
   "cell_type": "code",
   "execution_count": 18,
   "metadata": {},
   "outputs": [
    {
     "data": {
      "text/plain": [
       "[<matplotlib.lines.Line2D at 0x7f4178322850>]"
      ]
     },
     "execution_count": 18,
     "metadata": {},
     "output_type": "execute_result"
    },
    {
     "data": {
      "image/png": "[encoded data removed]",
      "text/plain": [
       "<Figure size 432x288 with 1 Axes>"
      ]
     },
     "metadata": {
      "needs_background": "light"
     },
     "output_type": "display_data"
    }
   ],
   "source": [
    "plt.plot(range(len(res)),res)\n",
    "plt.plot(range(len(resfake)),resfake)"
   ]
  },
  {
   "cell_type": "code",
   "execution_count": 19,
   "metadata": {},
   "outputs": [
    {
     "data": {
      "text/plain": [
       "array([[-9.05642081,  0.        , -8.43451886, -9.57494557, -9.24319075,\n",
       "        -8.87179777, -9.01782978, -9.02173042, -9.31896181, -9.60615461],\n",
       "       [        nan,         nan,         nan,         nan,         nan,\n",
       "                nan,         nan,         nan,         nan,         nan],\n",
       "       [        nan,         nan,         nan,         nan,         nan,\n",
       "                nan,         nan,         nan,         nan,         nan],\n",
       "       [        nan,         nan,         nan,         nan,         nan,\n",
       "                nan,         nan,         nan,         nan,         nan],\n",
       "       [        nan,         nan,         nan,         nan,         nan,\n",
       "                nan,         nan,         nan,         nan,         nan],\n",
       "       [        nan,         nan,         nan,         nan,         nan,\n",
       "                nan,         nan,         nan,         nan,         nan],\n",
       "       [        nan,         nan,         nan,         nan,         nan,\n",
       "                nan,         nan,         nan,         nan,         nan],\n",
       "       [        nan,         nan,         nan,         nan,         nan,\n",
       "                nan,         nan,         nan,         nan,         nan],\n",
       "       [        nan,         nan,         nan,         nan,         nan,\n",
       "                nan,         nan,         nan,         nan,         nan],\n",
       "       [        nan,         nan,         nan,         nan,         nan,\n",
       "                nan,         nan,         nan,         nan,         nan]])"
      ]
     },
     "execution_count": 19,
     "metadata": {},
     "output_type": "execute_result"
    }
   ],
   "source": [
    "W[:10,:10]"
   ]
  },
  {
   "cell_type": "code",
   "execution_count": null,
   "metadata": {},
   "outputs": [],
   "source": []
  }
 ],
 "metadata": {
  "kernelspec": {
   "display_name": "Python 3",
   "language": "python",
   "name": "python3"
  },
  "language_info": {
   "codemirror_mode": {
    "name": "ipython",
    "version": 3
   },
   "file_extension": ".py",
   "mimetype": "text/x-python",
   "name": "python",
   "nbconvert_exporter": "python",
   "pygments_lexer": "ipython3",
   "version": "3.7.6"
  }
 },
 "nbformat": 4,
 "nbformat_minor": 4
}
